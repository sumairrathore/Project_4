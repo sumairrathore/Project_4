{
 "cells": [
  {
   "cell_type": "markdown",
   "id": "579fc441",
   "metadata": {
    "papermill": {
     "duration": 0.020519,
     "end_time": "2023-05-02T18:47:14.283331",
     "exception": false,
     "start_time": "2023-05-02T18:47:14.262812",
     "status": "completed"
    },
    "tags": []
   },
   "source": [
    "# DATASET OVERVIEW"
   ]
  },
  {
   "cell_type": "code",
   "execution_count": 1,
   "id": "440d2aaa",
   "metadata": {
    "execution": {
     "iopub.execute_input": "2023-05-02T18:47:14.324639Z",
     "iopub.status.busy": "2023-05-02T18:47:14.324157Z",
     "iopub.status.idle": "2023-05-02T18:47:15.386689Z",
     "shell.execute_reply": "2023-05-02T18:47:15.385421Z"
    },
    "papermill": {
     "duration": 1.087606,
     "end_time": "2023-05-02T18:47:15.389869",
     "exception": false,
     "start_time": "2023-05-02T18:47:14.302263",
     "status": "completed"
    },
    "tags": []
   },
   "outputs": [],
   "source": [
    "# Loading the required liabries.\n",
    "import numpy as np\n",
    "import pandas as pd\n",
    "import matplotlib.pyplot as plt\n",
    "import seaborn as sns"
   ]
  },
  {
   "cell_type": "code",
   "execution_count": 2,
   "id": "102d7840",
   "metadata": {
    "execution": {
     "iopub.execute_input": "2023-05-02T18:47:15.429895Z",
     "iopub.status.busy": "2023-05-02T18:47:15.429461Z",
     "iopub.status.idle": "2023-05-02T18:47:15.970169Z",
     "shell.execute_reply": "2023-05-02T18:47:15.969011Z"
    },
    "papermill": {
     "duration": 0.564695,
     "end_time": "2023-05-02T18:47:15.974092",
     "exception": false,
     "start_time": "2023-05-02T18:47:15.409397",
     "status": "completed"
    },
    "tags": []
   },
   "outputs": [
    {
     "data": {
      "text/html": [
       "<div>\n",
       "<style scoped>\n",
       "    .dataframe tbody tr th:only-of-type {\n",
       "        vertical-align: middle;\n",
       "    }\n",
       "\n",
       "    .dataframe tbody tr th {\n",
       "        vertical-align: top;\n",
       "    }\n",
       "\n",
       "    .dataframe thead th {\n",
       "        text-align: right;\n",
       "    }\n",
       "</style>\n",
       "<table border=\"1\" class=\"dataframe\">\n",
       "  <thead>\n",
       "    <tr style=\"text-align: right;\">\n",
       "      <th></th>\n",
       "      <th>sofifa_id</th>\n",
       "      <th>player_url</th>\n",
       "      <th>short_name</th>\n",
       "      <th>long_name</th>\n",
       "      <th>age</th>\n",
       "      <th>dob</th>\n",
       "      <th>height_cm</th>\n",
       "      <th>weight_kg</th>\n",
       "      <th>nationality</th>\n",
       "      <th>club</th>\n",
       "      <th>...</th>\n",
       "      <th>lwb</th>\n",
       "      <th>ldm</th>\n",
       "      <th>cdm</th>\n",
       "      <th>rdm</th>\n",
       "      <th>rwb</th>\n",
       "      <th>lb</th>\n",
       "      <th>lcb</th>\n",
       "      <th>cb</th>\n",
       "      <th>rcb</th>\n",
       "      <th>rb</th>\n",
       "    </tr>\n",
       "  </thead>\n",
       "  <tbody>\n",
       "    <tr>\n",
       "      <th>0</th>\n",
       "      <td>158023</td>\n",
       "      <td>https://sofifa.com/player/158023/lionel-messi/...</td>\n",
       "      <td>L. Messi</td>\n",
       "      <td>Lionel Andrés Messi Cuccittini</td>\n",
       "      <td>32</td>\n",
       "      <td>1987-06-24</td>\n",
       "      <td>170</td>\n",
       "      <td>72</td>\n",
       "      <td>Argentina</td>\n",
       "      <td>FC Barcelona</td>\n",
       "      <td>...</td>\n",
       "      <td>68+2</td>\n",
       "      <td>66+2</td>\n",
       "      <td>66+2</td>\n",
       "      <td>66+2</td>\n",
       "      <td>68+2</td>\n",
       "      <td>63+2</td>\n",
       "      <td>52+2</td>\n",
       "      <td>52+2</td>\n",
       "      <td>52+2</td>\n",
       "      <td>63+2</td>\n",
       "    </tr>\n",
       "    <tr>\n",
       "      <th>1</th>\n",
       "      <td>20801</td>\n",
       "      <td>https://sofifa.com/player/20801/c-ronaldo-dos-...</td>\n",
       "      <td>Cristiano Ronaldo</td>\n",
       "      <td>Cristiano Ronaldo dos Santos Aveiro</td>\n",
       "      <td>34</td>\n",
       "      <td>1985-02-05</td>\n",
       "      <td>187</td>\n",
       "      <td>83</td>\n",
       "      <td>Portugal</td>\n",
       "      <td>Juventus</td>\n",
       "      <td>...</td>\n",
       "      <td>65+3</td>\n",
       "      <td>61+3</td>\n",
       "      <td>61+3</td>\n",
       "      <td>61+3</td>\n",
       "      <td>65+3</td>\n",
       "      <td>61+3</td>\n",
       "      <td>53+3</td>\n",
       "      <td>53+3</td>\n",
       "      <td>53+3</td>\n",
       "      <td>61+3</td>\n",
       "    </tr>\n",
       "    <tr>\n",
       "      <th>2</th>\n",
       "      <td>190871</td>\n",
       "      <td>https://sofifa.com/player/190871/neymar-da-sil...</td>\n",
       "      <td>Neymar Jr</td>\n",
       "      <td>Neymar da Silva Santos Junior</td>\n",
       "      <td>27</td>\n",
       "      <td>1992-02-05</td>\n",
       "      <td>175</td>\n",
       "      <td>68</td>\n",
       "      <td>Brazil</td>\n",
       "      <td>Paris Saint-Germain</td>\n",
       "      <td>...</td>\n",
       "      <td>66+3</td>\n",
       "      <td>61+3</td>\n",
       "      <td>61+3</td>\n",
       "      <td>61+3</td>\n",
       "      <td>66+3</td>\n",
       "      <td>61+3</td>\n",
       "      <td>46+3</td>\n",
       "      <td>46+3</td>\n",
       "      <td>46+3</td>\n",
       "      <td>61+3</td>\n",
       "    </tr>\n",
       "    <tr>\n",
       "      <th>3</th>\n",
       "      <td>200389</td>\n",
       "      <td>https://sofifa.com/player/200389/jan-oblak/20/...</td>\n",
       "      <td>J. Oblak</td>\n",
       "      <td>Jan Oblak</td>\n",
       "      <td>26</td>\n",
       "      <td>1993-01-07</td>\n",
       "      <td>188</td>\n",
       "      <td>87</td>\n",
       "      <td>Slovenia</td>\n",
       "      <td>Atlético Madrid</td>\n",
       "      <td>...</td>\n",
       "      <td>NaN</td>\n",
       "      <td>NaN</td>\n",
       "      <td>NaN</td>\n",
       "      <td>NaN</td>\n",
       "      <td>NaN</td>\n",
       "      <td>NaN</td>\n",
       "      <td>NaN</td>\n",
       "      <td>NaN</td>\n",
       "      <td>NaN</td>\n",
       "      <td>NaN</td>\n",
       "    </tr>\n",
       "    <tr>\n",
       "      <th>4</th>\n",
       "      <td>183277</td>\n",
       "      <td>https://sofifa.com/player/183277/eden-hazard/2...</td>\n",
       "      <td>E. Hazard</td>\n",
       "      <td>Eden Hazard</td>\n",
       "      <td>28</td>\n",
       "      <td>1991-01-07</td>\n",
       "      <td>175</td>\n",
       "      <td>74</td>\n",
       "      <td>Belgium</td>\n",
       "      <td>Real Madrid</td>\n",
       "      <td>...</td>\n",
       "      <td>66+3</td>\n",
       "      <td>63+3</td>\n",
       "      <td>63+3</td>\n",
       "      <td>63+3</td>\n",
       "      <td>66+3</td>\n",
       "      <td>61+3</td>\n",
       "      <td>49+3</td>\n",
       "      <td>49+3</td>\n",
       "      <td>49+3</td>\n",
       "      <td>61+3</td>\n",
       "    </tr>\n",
       "    <tr>\n",
       "      <th>...</th>\n",
       "      <td>...</td>\n",
       "      <td>...</td>\n",
       "      <td>...</td>\n",
       "      <td>...</td>\n",
       "      <td>...</td>\n",
       "      <td>...</td>\n",
       "      <td>...</td>\n",
       "      <td>...</td>\n",
       "      <td>...</td>\n",
       "      <td>...</td>\n",
       "      <td>...</td>\n",
       "      <td>...</td>\n",
       "      <td>...</td>\n",
       "      <td>...</td>\n",
       "      <td>...</td>\n",
       "      <td>...</td>\n",
       "      <td>...</td>\n",
       "      <td>...</td>\n",
       "      <td>...</td>\n",
       "      <td>...</td>\n",
       "      <td>...</td>\n",
       "    </tr>\n",
       "    <tr>\n",
       "      <th>18273</th>\n",
       "      <td>245006</td>\n",
       "      <td>https://sofifa.com/player/245006/shuai-shao/20...</td>\n",
       "      <td>Shao Shuai</td>\n",
       "      <td>邵帅</td>\n",
       "      <td>22</td>\n",
       "      <td>1997-03-10</td>\n",
       "      <td>186</td>\n",
       "      <td>79</td>\n",
       "      <td>China PR</td>\n",
       "      <td>Beijing Renhe FC</td>\n",
       "      <td>...</td>\n",
       "      <td>43+2</td>\n",
       "      <td>42+2</td>\n",
       "      <td>42+2</td>\n",
       "      <td>42+2</td>\n",
       "      <td>43+2</td>\n",
       "      <td>45+2</td>\n",
       "      <td>46+2</td>\n",
       "      <td>46+2</td>\n",
       "      <td>46+2</td>\n",
       "      <td>45+2</td>\n",
       "    </tr>\n",
       "    <tr>\n",
       "      <th>18274</th>\n",
       "      <td>250995</td>\n",
       "      <td>https://sofifa.com/player/250995/mingjie-xiao/...</td>\n",
       "      <td>Xiao Mingjie</td>\n",
       "      <td>Mingjie Xiao</td>\n",
       "      <td>22</td>\n",
       "      <td>1997-01-01</td>\n",
       "      <td>177</td>\n",
       "      <td>66</td>\n",
       "      <td>China PR</td>\n",
       "      <td>Shanghai SIPG FC</td>\n",
       "      <td>...</td>\n",
       "      <td>44+2</td>\n",
       "      <td>43+2</td>\n",
       "      <td>43+2</td>\n",
       "      <td>43+2</td>\n",
       "      <td>44+2</td>\n",
       "      <td>46+2</td>\n",
       "      <td>47+2</td>\n",
       "      <td>47+2</td>\n",
       "      <td>47+2</td>\n",
       "      <td>46+2</td>\n",
       "    </tr>\n",
       "    <tr>\n",
       "      <th>18275</th>\n",
       "      <td>252332</td>\n",
       "      <td>https://sofifa.com/player/252332/wei-zhang/20/...</td>\n",
       "      <td>Zhang Wei</td>\n",
       "      <td>张威</td>\n",
       "      <td>19</td>\n",
       "      <td>2000-05-16</td>\n",
       "      <td>186</td>\n",
       "      <td>75</td>\n",
       "      <td>China PR</td>\n",
       "      <td>Hebei China Fortune FC</td>\n",
       "      <td>...</td>\n",
       "      <td>47+2</td>\n",
       "      <td>49+2</td>\n",
       "      <td>49+2</td>\n",
       "      <td>49+2</td>\n",
       "      <td>47+2</td>\n",
       "      <td>47+2</td>\n",
       "      <td>49+2</td>\n",
       "      <td>49+2</td>\n",
       "      <td>49+2</td>\n",
       "      <td>47+2</td>\n",
       "    </tr>\n",
       "    <tr>\n",
       "      <th>18276</th>\n",
       "      <td>251110</td>\n",
       "      <td>https://sofifa.com/player/251110/haijian-wang/...</td>\n",
       "      <td>Wang Haijian</td>\n",
       "      <td>汪海健</td>\n",
       "      <td>18</td>\n",
       "      <td>2000-08-02</td>\n",
       "      <td>185</td>\n",
       "      <td>74</td>\n",
       "      <td>China PR</td>\n",
       "      <td>Shanghai Greenland Shenhua FC</td>\n",
       "      <td>...</td>\n",
       "      <td>48+2</td>\n",
       "      <td>48+2</td>\n",
       "      <td>48+2</td>\n",
       "      <td>48+2</td>\n",
       "      <td>48+2</td>\n",
       "      <td>48+2</td>\n",
       "      <td>49+2</td>\n",
       "      <td>49+2</td>\n",
       "      <td>49+2</td>\n",
       "      <td>48+2</td>\n",
       "    </tr>\n",
       "    <tr>\n",
       "      <th>18277</th>\n",
       "      <td>233449</td>\n",
       "      <td>https://sofifa.com/player/233449/ximing-pan/20...</td>\n",
       "      <td>Pan Ximing</td>\n",
       "      <td>潘喜明</td>\n",
       "      <td>26</td>\n",
       "      <td>1993-01-11</td>\n",
       "      <td>182</td>\n",
       "      <td>78</td>\n",
       "      <td>China PR</td>\n",
       "      <td>Hebei China Fortune FC</td>\n",
       "      <td>...</td>\n",
       "      <td>48+2</td>\n",
       "      <td>49+2</td>\n",
       "      <td>49+2</td>\n",
       "      <td>49+2</td>\n",
       "      <td>48+2</td>\n",
       "      <td>48+2</td>\n",
       "      <td>50+2</td>\n",
       "      <td>50+2</td>\n",
       "      <td>50+2</td>\n",
       "      <td>48+2</td>\n",
       "    </tr>\n",
       "  </tbody>\n",
       "</table>\n",
       "<p>18278 rows × 104 columns</p>\n",
       "</div>"
      ],
      "text/plain": [
       "       sofifa_id                                         player_url  \\\n",
       "0         158023  https://sofifa.com/player/158023/lionel-messi/...   \n",
       "1          20801  https://sofifa.com/player/20801/c-ronaldo-dos-...   \n",
       "2         190871  https://sofifa.com/player/190871/neymar-da-sil...   \n",
       "3         200389  https://sofifa.com/player/200389/jan-oblak/20/...   \n",
       "4         183277  https://sofifa.com/player/183277/eden-hazard/2...   \n",
       "...          ...                                                ...   \n",
       "18273     245006  https://sofifa.com/player/245006/shuai-shao/20...   \n",
       "18274     250995  https://sofifa.com/player/250995/mingjie-xiao/...   \n",
       "18275     252332  https://sofifa.com/player/252332/wei-zhang/20/...   \n",
       "18276     251110  https://sofifa.com/player/251110/haijian-wang/...   \n",
       "18277     233449  https://sofifa.com/player/233449/ximing-pan/20...   \n",
       "\n",
       "              short_name                            long_name  age  \\\n",
       "0               L. Messi       Lionel Andrés Messi Cuccittini   32   \n",
       "1      Cristiano Ronaldo  Cristiano Ronaldo dos Santos Aveiro   34   \n",
       "2              Neymar Jr        Neymar da Silva Santos Junior   27   \n",
       "3               J. Oblak                            Jan Oblak   26   \n",
       "4              E. Hazard                          Eden Hazard   28   \n",
       "...                  ...                                  ...  ...   \n",
       "18273         Shao Shuai                                   邵帅   22   \n",
       "18274       Xiao Mingjie                         Mingjie Xiao   22   \n",
       "18275          Zhang Wei                                   张威   19   \n",
       "18276       Wang Haijian                                  汪海健   18   \n",
       "18277         Pan Ximing                                  潘喜明   26   \n",
       "\n",
       "              dob  height_cm  weight_kg nationality  \\\n",
       "0      1987-06-24        170         72   Argentina   \n",
       "1      1985-02-05        187         83    Portugal   \n",
       "2      1992-02-05        175         68      Brazil   \n",
       "3      1993-01-07        188         87    Slovenia   \n",
       "4      1991-01-07        175         74     Belgium   \n",
       "...           ...        ...        ...         ...   \n",
       "18273  1997-03-10        186         79    China PR   \n",
       "18274  1997-01-01        177         66    China PR   \n",
       "18275  2000-05-16        186         75    China PR   \n",
       "18276  2000-08-02        185         74    China PR   \n",
       "18277  1993-01-11        182         78    China PR   \n",
       "\n",
       "                                club  ...   lwb   ldm   cdm   rdm   rwb    lb  \\\n",
       "0                       FC Barcelona  ...  68+2  66+2  66+2  66+2  68+2  63+2   \n",
       "1                           Juventus  ...  65+3  61+3  61+3  61+3  65+3  61+3   \n",
       "2                Paris Saint-Germain  ...  66+3  61+3  61+3  61+3  66+3  61+3   \n",
       "3                    Atlético Madrid  ...   NaN   NaN   NaN   NaN   NaN   NaN   \n",
       "4                        Real Madrid  ...  66+3  63+3  63+3  63+3  66+3  61+3   \n",
       "...                              ...  ...   ...   ...   ...   ...   ...   ...   \n",
       "18273               Beijing Renhe FC  ...  43+2  42+2  42+2  42+2  43+2  45+2   \n",
       "18274               Shanghai SIPG FC  ...  44+2  43+2  43+2  43+2  44+2  46+2   \n",
       "18275         Hebei China Fortune FC  ...  47+2  49+2  49+2  49+2  47+2  47+2   \n",
       "18276  Shanghai Greenland Shenhua FC  ...  48+2  48+2  48+2  48+2  48+2  48+2   \n",
       "18277         Hebei China Fortune FC  ...  48+2  49+2  49+2  49+2  48+2  48+2   \n",
       "\n",
       "        lcb    cb   rcb    rb  \n",
       "0      52+2  52+2  52+2  63+2  \n",
       "1      53+3  53+3  53+3  61+3  \n",
       "2      46+3  46+3  46+3  61+3  \n",
       "3       NaN   NaN   NaN   NaN  \n",
       "4      49+3  49+3  49+3  61+3  \n",
       "...     ...   ...   ...   ...  \n",
       "18273  46+2  46+2  46+2  45+2  \n",
       "18274  47+2  47+2  47+2  46+2  \n",
       "18275  49+2  49+2  49+2  47+2  \n",
       "18276  49+2  49+2  49+2  48+2  \n",
       "18277  50+2  50+2  50+2  48+2  \n",
       "\n",
       "[18278 rows x 104 columns]"
      ]
     },
     "execution_count": 2,
     "metadata": {},
     "output_type": "execute_result"
    }
   ],
   "source": [
    "# Import the fifa dataset.\n",
    "fifa=pd.read_csv('/kaggle/input/fifa-20-complete-player-dataset/players_20.csv')\n",
    "fifa"
   ]
  },
  {
   "cell_type": "code",
   "execution_count": 3,
   "id": "9a5db072",
   "metadata": {
    "execution": {
     "iopub.execute_input": "2023-05-02T18:47:16.015646Z",
     "iopub.status.busy": "2023-05-02T18:47:16.014879Z",
     "iopub.status.idle": "2023-05-02T18:47:16.038660Z",
     "shell.execute_reply": "2023-05-02T18:47:16.037791Z"
    },
    "papermill": {
     "duration": 0.046854,
     "end_time": "2023-05-02T18:47:16.040759",
     "exception": false,
     "start_time": "2023-05-02T18:47:15.993905",
     "status": "completed"
    },
    "tags": []
   },
   "outputs": [
    {
     "data": {
      "text/html": [
       "<div>\n",
       "<style scoped>\n",
       "    .dataframe tbody tr th:only-of-type {\n",
       "        vertical-align: middle;\n",
       "    }\n",
       "\n",
       "    .dataframe tbody tr th {\n",
       "        vertical-align: top;\n",
       "    }\n",
       "\n",
       "    .dataframe thead th {\n",
       "        text-align: right;\n",
       "    }\n",
       "</style>\n",
       "<table border=\"1\" class=\"dataframe\">\n",
       "  <thead>\n",
       "    <tr style=\"text-align: right;\">\n",
       "      <th></th>\n",
       "      <th>sofifa_id</th>\n",
       "      <th>player_url</th>\n",
       "      <th>short_name</th>\n",
       "      <th>long_name</th>\n",
       "      <th>age</th>\n",
       "      <th>dob</th>\n",
       "      <th>height_cm</th>\n",
       "      <th>weight_kg</th>\n",
       "      <th>nationality</th>\n",
       "      <th>club</th>\n",
       "      <th>...</th>\n",
       "      <th>lwb</th>\n",
       "      <th>ldm</th>\n",
       "      <th>cdm</th>\n",
       "      <th>rdm</th>\n",
       "      <th>rwb</th>\n",
       "      <th>lb</th>\n",
       "      <th>lcb</th>\n",
       "      <th>cb</th>\n",
       "      <th>rcb</th>\n",
       "      <th>rb</th>\n",
       "    </tr>\n",
       "  </thead>\n",
       "  <tbody>\n",
       "    <tr>\n",
       "      <th>0</th>\n",
       "      <td>158023</td>\n",
       "      <td>https://sofifa.com/player/158023/lionel-messi/...</td>\n",
       "      <td>L. Messi</td>\n",
       "      <td>Lionel Andrés Messi Cuccittini</td>\n",
       "      <td>32</td>\n",
       "      <td>1987-06-24</td>\n",
       "      <td>170</td>\n",
       "      <td>72</td>\n",
       "      <td>Argentina</td>\n",
       "      <td>FC Barcelona</td>\n",
       "      <td>...</td>\n",
       "      <td>68+2</td>\n",
       "      <td>66+2</td>\n",
       "      <td>66+2</td>\n",
       "      <td>66+2</td>\n",
       "      <td>68+2</td>\n",
       "      <td>63+2</td>\n",
       "      <td>52+2</td>\n",
       "      <td>52+2</td>\n",
       "      <td>52+2</td>\n",
       "      <td>63+2</td>\n",
       "    </tr>\n",
       "    <tr>\n",
       "      <th>1</th>\n",
       "      <td>20801</td>\n",
       "      <td>https://sofifa.com/player/20801/c-ronaldo-dos-...</td>\n",
       "      <td>Cristiano Ronaldo</td>\n",
       "      <td>Cristiano Ronaldo dos Santos Aveiro</td>\n",
       "      <td>34</td>\n",
       "      <td>1985-02-05</td>\n",
       "      <td>187</td>\n",
       "      <td>83</td>\n",
       "      <td>Portugal</td>\n",
       "      <td>Juventus</td>\n",
       "      <td>...</td>\n",
       "      <td>65+3</td>\n",
       "      <td>61+3</td>\n",
       "      <td>61+3</td>\n",
       "      <td>61+3</td>\n",
       "      <td>65+3</td>\n",
       "      <td>61+3</td>\n",
       "      <td>53+3</td>\n",
       "      <td>53+3</td>\n",
       "      <td>53+3</td>\n",
       "      <td>61+3</td>\n",
       "    </tr>\n",
       "    <tr>\n",
       "      <th>2</th>\n",
       "      <td>190871</td>\n",
       "      <td>https://sofifa.com/player/190871/neymar-da-sil...</td>\n",
       "      <td>Neymar Jr</td>\n",
       "      <td>Neymar da Silva Santos Junior</td>\n",
       "      <td>27</td>\n",
       "      <td>1992-02-05</td>\n",
       "      <td>175</td>\n",
       "      <td>68</td>\n",
       "      <td>Brazil</td>\n",
       "      <td>Paris Saint-Germain</td>\n",
       "      <td>...</td>\n",
       "      <td>66+3</td>\n",
       "      <td>61+3</td>\n",
       "      <td>61+3</td>\n",
       "      <td>61+3</td>\n",
       "      <td>66+3</td>\n",
       "      <td>61+3</td>\n",
       "      <td>46+3</td>\n",
       "      <td>46+3</td>\n",
       "      <td>46+3</td>\n",
       "      <td>61+3</td>\n",
       "    </tr>\n",
       "    <tr>\n",
       "      <th>3</th>\n",
       "      <td>200389</td>\n",
       "      <td>https://sofifa.com/player/200389/jan-oblak/20/...</td>\n",
       "      <td>J. Oblak</td>\n",
       "      <td>Jan Oblak</td>\n",
       "      <td>26</td>\n",
       "      <td>1993-01-07</td>\n",
       "      <td>188</td>\n",
       "      <td>87</td>\n",
       "      <td>Slovenia</td>\n",
       "      <td>Atlético Madrid</td>\n",
       "      <td>...</td>\n",
       "      <td>NaN</td>\n",
       "      <td>NaN</td>\n",
       "      <td>NaN</td>\n",
       "      <td>NaN</td>\n",
       "      <td>NaN</td>\n",
       "      <td>NaN</td>\n",
       "      <td>NaN</td>\n",
       "      <td>NaN</td>\n",
       "      <td>NaN</td>\n",
       "      <td>NaN</td>\n",
       "    </tr>\n",
       "    <tr>\n",
       "      <th>4</th>\n",
       "      <td>183277</td>\n",
       "      <td>https://sofifa.com/player/183277/eden-hazard/2...</td>\n",
       "      <td>E. Hazard</td>\n",
       "      <td>Eden Hazard</td>\n",
       "      <td>28</td>\n",
       "      <td>1991-01-07</td>\n",
       "      <td>175</td>\n",
       "      <td>74</td>\n",
       "      <td>Belgium</td>\n",
       "      <td>Real Madrid</td>\n",
       "      <td>...</td>\n",
       "      <td>66+3</td>\n",
       "      <td>63+3</td>\n",
       "      <td>63+3</td>\n",
       "      <td>63+3</td>\n",
       "      <td>66+3</td>\n",
       "      <td>61+3</td>\n",
       "      <td>49+3</td>\n",
       "      <td>49+3</td>\n",
       "      <td>49+3</td>\n",
       "      <td>61+3</td>\n",
       "    </tr>\n",
       "  </tbody>\n",
       "</table>\n",
       "<p>5 rows × 104 columns</p>\n",
       "</div>"
      ],
      "text/plain": [
       "   sofifa_id                                         player_url  \\\n",
       "0     158023  https://sofifa.com/player/158023/lionel-messi/...   \n",
       "1      20801  https://sofifa.com/player/20801/c-ronaldo-dos-...   \n",
       "2     190871  https://sofifa.com/player/190871/neymar-da-sil...   \n",
       "3     200389  https://sofifa.com/player/200389/jan-oblak/20/...   \n",
       "4     183277  https://sofifa.com/player/183277/eden-hazard/2...   \n",
       "\n",
       "          short_name                            long_name  age         dob  \\\n",
       "0           L. Messi       Lionel Andrés Messi Cuccittini   32  1987-06-24   \n",
       "1  Cristiano Ronaldo  Cristiano Ronaldo dos Santos Aveiro   34  1985-02-05   \n",
       "2          Neymar Jr        Neymar da Silva Santos Junior   27  1992-02-05   \n",
       "3           J. Oblak                            Jan Oblak   26  1993-01-07   \n",
       "4          E. Hazard                          Eden Hazard   28  1991-01-07   \n",
       "\n",
       "   height_cm  weight_kg nationality                 club  ...   lwb   ldm  \\\n",
       "0        170         72   Argentina         FC Barcelona  ...  68+2  66+2   \n",
       "1        187         83    Portugal             Juventus  ...  65+3  61+3   \n",
       "2        175         68      Brazil  Paris Saint-Germain  ...  66+3  61+3   \n",
       "3        188         87    Slovenia      Atlético Madrid  ...   NaN   NaN   \n",
       "4        175         74     Belgium          Real Madrid  ...  66+3  63+3   \n",
       "\n",
       "    cdm   rdm   rwb    lb   lcb    cb   rcb    rb  \n",
       "0  66+2  66+2  68+2  63+2  52+2  52+2  52+2  63+2  \n",
       "1  61+3  61+3  65+3  61+3  53+3  53+3  53+3  61+3  \n",
       "2  61+3  61+3  66+3  61+3  46+3  46+3  46+3  61+3  \n",
       "3   NaN   NaN   NaN   NaN   NaN   NaN   NaN   NaN  \n",
       "4  63+3  63+3  66+3  61+3  49+3  49+3  49+3  61+3  \n",
       "\n",
       "[5 rows x 104 columns]"
      ]
     },
     "execution_count": 3,
     "metadata": {},
     "output_type": "execute_result"
    }
   ],
   "source": [
    "# Top 5 records of the dataset.\n",
    "fifa.head()"
   ]
  },
  {
   "cell_type": "code",
   "execution_count": 4,
   "id": "b923867f",
   "metadata": {
    "execution": {
     "iopub.execute_input": "2023-05-02T18:47:16.083027Z",
     "iopub.status.busy": "2023-05-02T18:47:16.082372Z",
     "iopub.status.idle": "2023-05-02T18:47:16.087886Z",
     "shell.execute_reply": "2023-05-02T18:47:16.087110Z"
    },
    "papermill": {
     "duration": 0.028586,
     "end_time": "2023-05-02T18:47:16.089929",
     "exception": false,
     "start_time": "2023-05-02T18:47:16.061343",
     "status": "completed"
    },
    "tags": []
   },
   "outputs": [
    {
     "data": {
      "text/plain": [
       "(18278, 104)"
      ]
     },
     "execution_count": 4,
     "metadata": {},
     "output_type": "execute_result"
    }
   ],
   "source": [
    "# Looking at the number of rows and columns in the dataset.\n",
    "fifa.shape"
   ]
  },
  {
   "cell_type": "code",
   "execution_count": 5,
   "id": "8cfef22e",
   "metadata": {
    "execution": {
     "iopub.execute_input": "2023-05-02T18:47:16.131716Z",
     "iopub.status.busy": "2023-05-02T18:47:16.131203Z",
     "iopub.status.idle": "2023-05-02T18:47:16.137133Z",
     "shell.execute_reply": "2023-05-02T18:47:16.136390Z"
    },
    "papermill": {
     "duration": 0.029739,
     "end_time": "2023-05-02T18:47:16.139203",
     "exception": false,
     "start_time": "2023-05-02T18:47:16.109464",
     "status": "completed"
    },
    "tags": []
   },
   "outputs": [
    {
     "data": {
      "text/plain": [
       "Index(['sofifa_id', 'player_url', 'short_name', 'long_name', 'age', 'dob',\n",
       "       'height_cm', 'weight_kg', 'nationality', 'club',\n",
       "       ...\n",
       "       'lwb', 'ldm', 'cdm', 'rdm', 'rwb', 'lb', 'lcb', 'cb', 'rcb', 'rb'],\n",
       "      dtype='object', length=104)"
      ]
     },
     "execution_count": 5,
     "metadata": {},
     "output_type": "execute_result"
    }
   ],
   "source": [
    "# Names of all the columns.\n",
    "fifa.columns"
   ]
  },
  {
   "cell_type": "code",
   "execution_count": 6,
   "id": "713a3a44",
   "metadata": {
    "execution": {
     "iopub.execute_input": "2023-05-02T18:47:16.181091Z",
     "iopub.status.busy": "2023-05-02T18:47:16.180667Z",
     "iopub.status.idle": "2023-05-02T18:47:16.187658Z",
     "shell.execute_reply": "2023-05-02T18:47:16.186541Z"
    },
    "papermill": {
     "duration": 0.030727,
     "end_time": "2023-05-02T18:47:16.190025",
     "exception": false,
     "start_time": "2023-05-02T18:47:16.159298",
     "status": "completed"
    },
    "tags": []
   },
   "outputs": [
    {
     "name": "stdout",
     "output_type": "stream",
     "text": [
      "sofifa_id\n",
      "player_url\n",
      "short_name\n",
      "long_name\n",
      "age\n",
      "dob\n",
      "height_cm\n",
      "weight_kg\n",
      "nationality\n",
      "club\n",
      "overall\n",
      "potential\n",
      "value_eur\n",
      "wage_eur\n",
      "player_positions\n",
      "preferred_foot\n",
      "international_reputation\n",
      "weak_foot\n",
      "skill_moves\n",
      "work_rate\n",
      "body_type\n",
      "real_face\n",
      "release_clause_eur\n",
      "player_tags\n",
      "team_position\n",
      "team_jersey_number\n",
      "loaned_from\n",
      "joined\n",
      "contract_valid_until\n",
      "nation_position\n",
      "nation_jersey_number\n",
      "pace\n",
      "shooting\n",
      "passing\n",
      "dribbling\n",
      "defending\n",
      "physic\n",
      "gk_diving\n",
      "gk_handling\n",
      "gk_kicking\n",
      "gk_reflexes\n",
      "gk_speed\n",
      "gk_positioning\n",
      "player_traits\n",
      "attacking_crossing\n",
      "attacking_finishing\n",
      "attacking_heading_accuracy\n",
      "attacking_short_passing\n",
      "attacking_volleys\n",
      "skill_dribbling\n",
      "skill_curve\n",
      "skill_fk_accuracy\n",
      "skill_long_passing\n",
      "skill_ball_control\n",
      "movement_acceleration\n",
      "movement_sprint_speed\n",
      "movement_agility\n",
      "movement_reactions\n",
      "movement_balance\n",
      "power_shot_power\n",
      "power_jumping\n",
      "power_stamina\n",
      "power_strength\n",
      "power_long_shots\n",
      "mentality_aggression\n",
      "mentality_interceptions\n",
      "mentality_positioning\n",
      "mentality_vision\n",
      "mentality_penalties\n",
      "mentality_composure\n",
      "defending_marking\n",
      "defending_standing_tackle\n",
      "defending_sliding_tackle\n",
      "goalkeeping_diving\n",
      "goalkeeping_handling\n",
      "goalkeeping_kicking\n",
      "goalkeeping_positioning\n",
      "goalkeeping_reflexes\n",
      "ls\n",
      "st\n",
      "rs\n",
      "lw\n",
      "lf\n",
      "cf\n",
      "rf\n",
      "rw\n",
      "lam\n",
      "cam\n",
      "ram\n",
      "lm\n",
      "lcm\n",
      "cm\n",
      "rcm\n",
      "rm\n",
      "lwb\n",
      "ldm\n",
      "cdm\n",
      "rdm\n",
      "rwb\n",
      "lb\n",
      "lcb\n",
      "cb\n",
      "rcb\n",
      "rb\n"
     ]
    }
   ],
   "source": [
    "# Names of all the columns.\n",
    "for i in fifa.columns:\n",
    "    print(i)"
   ]
  },
  {
   "cell_type": "code",
   "execution_count": 7,
   "id": "bacf38be",
   "metadata": {
    "execution": {
     "iopub.execute_input": "2023-05-02T18:47:16.233227Z",
     "iopub.status.busy": "2023-05-02T18:47:16.232564Z",
     "iopub.status.idle": "2023-05-02T18:47:16.422932Z",
     "shell.execute_reply": "2023-05-02T18:47:16.421680Z"
    },
    "papermill": {
     "duration": 0.215121,
     "end_time": "2023-05-02T18:47:16.425332",
     "exception": false,
     "start_time": "2023-05-02T18:47:16.210211",
     "status": "completed"
    },
    "tags": []
   },
   "outputs": [
    {
     "data": {
      "text/html": [
       "<div>\n",
       "<style scoped>\n",
       "    .dataframe tbody tr th:only-of-type {\n",
       "        vertical-align: middle;\n",
       "    }\n",
       "\n",
       "    .dataframe tbody tr th {\n",
       "        vertical-align: top;\n",
       "    }\n",
       "\n",
       "    .dataframe thead th {\n",
       "        text-align: right;\n",
       "    }\n",
       "</style>\n",
       "<table border=\"1\" class=\"dataframe\">\n",
       "  <thead>\n",
       "    <tr style=\"text-align: right;\">\n",
       "      <th></th>\n",
       "      <th>sofifa_id</th>\n",
       "      <th>age</th>\n",
       "      <th>height_cm</th>\n",
       "      <th>weight_kg</th>\n",
       "      <th>overall</th>\n",
       "      <th>potential</th>\n",
       "      <th>value_eur</th>\n",
       "      <th>wage_eur</th>\n",
       "      <th>international_reputation</th>\n",
       "      <th>weak_foot</th>\n",
       "      <th>...</th>\n",
       "      <th>mentality_penalties</th>\n",
       "      <th>mentality_composure</th>\n",
       "      <th>defending_marking</th>\n",
       "      <th>defending_standing_tackle</th>\n",
       "      <th>defending_sliding_tackle</th>\n",
       "      <th>goalkeeping_diving</th>\n",
       "      <th>goalkeeping_handling</th>\n",
       "      <th>goalkeeping_kicking</th>\n",
       "      <th>goalkeeping_positioning</th>\n",
       "      <th>goalkeeping_reflexes</th>\n",
       "    </tr>\n",
       "  </thead>\n",
       "  <tbody>\n",
       "    <tr>\n",
       "      <th>count</th>\n",
       "      <td>18278.000000</td>\n",
       "      <td>18278.000000</td>\n",
       "      <td>18278.000000</td>\n",
       "      <td>18278.000000</td>\n",
       "      <td>18278.000000</td>\n",
       "      <td>18278.000000</td>\n",
       "      <td>1.827800e+04</td>\n",
       "      <td>18278.000000</td>\n",
       "      <td>18278.000000</td>\n",
       "      <td>18278.000000</td>\n",
       "      <td>...</td>\n",
       "      <td>18278.000000</td>\n",
       "      <td>18278.000000</td>\n",
       "      <td>18278.000000</td>\n",
       "      <td>18278.000000</td>\n",
       "      <td>18278.000000</td>\n",
       "      <td>18278.000000</td>\n",
       "      <td>18278.000000</td>\n",
       "      <td>18278.000000</td>\n",
       "      <td>18278.000000</td>\n",
       "      <td>18278.000000</td>\n",
       "    </tr>\n",
       "    <tr>\n",
       "      <th>mean</th>\n",
       "      <td>219738.864482</td>\n",
       "      <td>25.283291</td>\n",
       "      <td>181.362184</td>\n",
       "      <td>75.276343</td>\n",
       "      <td>66.244994</td>\n",
       "      <td>71.546887</td>\n",
       "      <td>2.484038e+06</td>\n",
       "      <td>9456.942773</td>\n",
       "      <td>1.103184</td>\n",
       "      <td>2.944250</td>\n",
       "      <td>...</td>\n",
       "      <td>48.383357</td>\n",
       "      <td>58.528778</td>\n",
       "      <td>46.848889</td>\n",
       "      <td>47.640333</td>\n",
       "      <td>45.606631</td>\n",
       "      <td>16.572765</td>\n",
       "      <td>16.354853</td>\n",
       "      <td>16.212934</td>\n",
       "      <td>16.368038</td>\n",
       "      <td>16.709924</td>\n",
       "    </tr>\n",
       "    <tr>\n",
       "      <th>std</th>\n",
       "      <td>27960.200461</td>\n",
       "      <td>4.656964</td>\n",
       "      <td>6.756961</td>\n",
       "      <td>7.047744</td>\n",
       "      <td>6.949953</td>\n",
       "      <td>6.139669</td>\n",
       "      <td>5.585481e+06</td>\n",
       "      <td>21351.714095</td>\n",
       "      <td>0.378861</td>\n",
       "      <td>0.664656</td>\n",
       "      <td>...</td>\n",
       "      <td>15.708099</td>\n",
       "      <td>11.880840</td>\n",
       "      <td>20.091287</td>\n",
       "      <td>21.585641</td>\n",
       "      <td>21.217734</td>\n",
       "      <td>17.738069</td>\n",
       "      <td>16.996925</td>\n",
       "      <td>16.613665</td>\n",
       "      <td>17.136497</td>\n",
       "      <td>18.038125</td>\n",
       "    </tr>\n",
       "    <tr>\n",
       "      <th>min</th>\n",
       "      <td>768.000000</td>\n",
       "      <td>16.000000</td>\n",
       "      <td>156.000000</td>\n",
       "      <td>50.000000</td>\n",
       "      <td>48.000000</td>\n",
       "      <td>49.000000</td>\n",
       "      <td>0.000000e+00</td>\n",
       "      <td>0.000000</td>\n",
       "      <td>1.000000</td>\n",
       "      <td>1.000000</td>\n",
       "      <td>...</td>\n",
       "      <td>7.000000</td>\n",
       "      <td>12.000000</td>\n",
       "      <td>1.000000</td>\n",
       "      <td>5.000000</td>\n",
       "      <td>3.000000</td>\n",
       "      <td>1.000000</td>\n",
       "      <td>1.000000</td>\n",
       "      <td>1.000000</td>\n",
       "      <td>1.000000</td>\n",
       "      <td>1.000000</td>\n",
       "    </tr>\n",
       "    <tr>\n",
       "      <th>25%</th>\n",
       "      <td>204445.500000</td>\n",
       "      <td>22.000000</td>\n",
       "      <td>177.000000</td>\n",
       "      <td>70.000000</td>\n",
       "      <td>62.000000</td>\n",
       "      <td>67.000000</td>\n",
       "      <td>3.250000e+05</td>\n",
       "      <td>1000.000000</td>\n",
       "      <td>1.000000</td>\n",
       "      <td>3.000000</td>\n",
       "      <td>...</td>\n",
       "      <td>39.000000</td>\n",
       "      <td>51.000000</td>\n",
       "      <td>29.000000</td>\n",
       "      <td>27.000000</td>\n",
       "      <td>24.000000</td>\n",
       "      <td>8.000000</td>\n",
       "      <td>8.000000</td>\n",
       "      <td>8.000000</td>\n",
       "      <td>8.000000</td>\n",
       "      <td>8.000000</td>\n",
       "    </tr>\n",
       "    <tr>\n",
       "      <th>50%</th>\n",
       "      <td>226165.000000</td>\n",
       "      <td>25.000000</td>\n",
       "      <td>181.000000</td>\n",
       "      <td>75.000000</td>\n",
       "      <td>66.000000</td>\n",
       "      <td>71.000000</td>\n",
       "      <td>7.000000e+05</td>\n",
       "      <td>3000.000000</td>\n",
       "      <td>1.000000</td>\n",
       "      <td>3.000000</td>\n",
       "      <td>...</td>\n",
       "      <td>49.000000</td>\n",
       "      <td>60.000000</td>\n",
       "      <td>52.000000</td>\n",
       "      <td>55.000000</td>\n",
       "      <td>52.000000</td>\n",
       "      <td>11.000000</td>\n",
       "      <td>11.000000</td>\n",
       "      <td>11.000000</td>\n",
       "      <td>11.000000</td>\n",
       "      <td>11.000000</td>\n",
       "    </tr>\n",
       "    <tr>\n",
       "      <th>75%</th>\n",
       "      <td>240795.750000</td>\n",
       "      <td>29.000000</td>\n",
       "      <td>186.000000</td>\n",
       "      <td>80.000000</td>\n",
       "      <td>71.000000</td>\n",
       "      <td>75.000000</td>\n",
       "      <td>2.100000e+06</td>\n",
       "      <td>8000.000000</td>\n",
       "      <td>1.000000</td>\n",
       "      <td>3.000000</td>\n",
       "      <td>...</td>\n",
       "      <td>60.000000</td>\n",
       "      <td>67.000000</td>\n",
       "      <td>64.000000</td>\n",
       "      <td>66.000000</td>\n",
       "      <td>64.000000</td>\n",
       "      <td>14.000000</td>\n",
       "      <td>14.000000</td>\n",
       "      <td>14.000000</td>\n",
       "      <td>14.000000</td>\n",
       "      <td>14.000000</td>\n",
       "    </tr>\n",
       "    <tr>\n",
       "      <th>max</th>\n",
       "      <td>252905.000000</td>\n",
       "      <td>42.000000</td>\n",
       "      <td>205.000000</td>\n",
       "      <td>110.000000</td>\n",
       "      <td>94.000000</td>\n",
       "      <td>95.000000</td>\n",
       "      <td>1.055000e+08</td>\n",
       "      <td>565000.000000</td>\n",
       "      <td>5.000000</td>\n",
       "      <td>5.000000</td>\n",
       "      <td>...</td>\n",
       "      <td>92.000000</td>\n",
       "      <td>96.000000</td>\n",
       "      <td>94.000000</td>\n",
       "      <td>92.000000</td>\n",
       "      <td>90.000000</td>\n",
       "      <td>90.000000</td>\n",
       "      <td>92.000000</td>\n",
       "      <td>93.000000</td>\n",
       "      <td>91.000000</td>\n",
       "      <td>92.000000</td>\n",
       "    </tr>\n",
       "  </tbody>\n",
       "</table>\n",
       "<p>8 rows × 61 columns</p>\n",
       "</div>"
      ],
      "text/plain": [
       "           sofifa_id           age     height_cm     weight_kg       overall  \\\n",
       "count   18278.000000  18278.000000  18278.000000  18278.000000  18278.000000   \n",
       "mean   219738.864482     25.283291    181.362184     75.276343     66.244994   \n",
       "std     27960.200461      4.656964      6.756961      7.047744      6.949953   \n",
       "min       768.000000     16.000000    156.000000     50.000000     48.000000   \n",
       "25%    204445.500000     22.000000    177.000000     70.000000     62.000000   \n",
       "50%    226165.000000     25.000000    181.000000     75.000000     66.000000   \n",
       "75%    240795.750000     29.000000    186.000000     80.000000     71.000000   \n",
       "max    252905.000000     42.000000    205.000000    110.000000     94.000000   \n",
       "\n",
       "          potential     value_eur       wage_eur  international_reputation  \\\n",
       "count  18278.000000  1.827800e+04   18278.000000              18278.000000   \n",
       "mean      71.546887  2.484038e+06    9456.942773                  1.103184   \n",
       "std        6.139669  5.585481e+06   21351.714095                  0.378861   \n",
       "min       49.000000  0.000000e+00       0.000000                  1.000000   \n",
       "25%       67.000000  3.250000e+05    1000.000000                  1.000000   \n",
       "50%       71.000000  7.000000e+05    3000.000000                  1.000000   \n",
       "75%       75.000000  2.100000e+06    8000.000000                  1.000000   \n",
       "max       95.000000  1.055000e+08  565000.000000                  5.000000   \n",
       "\n",
       "          weak_foot  ...  mentality_penalties  mentality_composure  \\\n",
       "count  18278.000000  ...         18278.000000         18278.000000   \n",
       "mean       2.944250  ...            48.383357            58.528778   \n",
       "std        0.664656  ...            15.708099            11.880840   \n",
       "min        1.000000  ...             7.000000            12.000000   \n",
       "25%        3.000000  ...            39.000000            51.000000   \n",
       "50%        3.000000  ...            49.000000            60.000000   \n",
       "75%        3.000000  ...            60.000000            67.000000   \n",
       "max        5.000000  ...            92.000000            96.000000   \n",
       "\n",
       "       defending_marking  defending_standing_tackle  defending_sliding_tackle  \\\n",
       "count       18278.000000               18278.000000              18278.000000   \n",
       "mean           46.848889                  47.640333                 45.606631   \n",
       "std            20.091287                  21.585641                 21.217734   \n",
       "min             1.000000                   5.000000                  3.000000   \n",
       "25%            29.000000                  27.000000                 24.000000   \n",
       "50%            52.000000                  55.000000                 52.000000   \n",
       "75%            64.000000                  66.000000                 64.000000   \n",
       "max            94.000000                  92.000000                 90.000000   \n",
       "\n",
       "       goalkeeping_diving  goalkeeping_handling  goalkeeping_kicking  \\\n",
       "count        18278.000000          18278.000000         18278.000000   \n",
       "mean            16.572765             16.354853            16.212934   \n",
       "std             17.738069             16.996925            16.613665   \n",
       "min              1.000000              1.000000             1.000000   \n",
       "25%              8.000000              8.000000             8.000000   \n",
       "50%             11.000000             11.000000            11.000000   \n",
       "75%             14.000000             14.000000            14.000000   \n",
       "max             90.000000             92.000000            93.000000   \n",
       "\n",
       "       goalkeeping_positioning  goalkeeping_reflexes  \n",
       "count             18278.000000          18278.000000  \n",
       "mean                 16.368038             16.709924  \n",
       "std                  17.136497             18.038125  \n",
       "min                   1.000000              1.000000  \n",
       "25%                   8.000000              8.000000  \n",
       "50%                  11.000000             11.000000  \n",
       "75%                  14.000000             14.000000  \n",
       "max                  91.000000             92.000000  \n",
       "\n",
       "[8 rows x 61 columns]"
      ]
     },
     "execution_count": 7,
     "metadata": {},
     "output_type": "execute_result"
    }
   ],
   "source": [
    "# Basic stats about the dataset.\n",
    "fifa.describe()"
   ]
  },
  {
   "cell_type": "markdown",
   "id": "4644fddf",
   "metadata": {
    "papermill": {
     "duration": 0.020069,
     "end_time": "2023-05-02T18:47:16.466085",
     "exception": false,
     "start_time": "2023-05-02T18:47:16.446016",
     "status": "completed"
    },
    "tags": []
   },
   "source": [
    "# DATA CLEANING"
   ]
  },
  {
   "cell_type": "code",
   "execution_count": 8,
   "id": "25defa7f",
   "metadata": {
    "execution": {
     "iopub.execute_input": "2023-05-02T18:47:16.508984Z",
     "iopub.status.busy": "2023-05-02T18:47:16.508289Z",
     "iopub.status.idle": "2023-05-02T18:47:16.517021Z",
     "shell.execute_reply": "2023-05-02T18:47:16.515819Z"
    },
    "papermill": {
     "duration": 0.032828,
     "end_time": "2023-05-02T18:47:16.519140",
     "exception": false,
     "start_time": "2023-05-02T18:47:16.486312",
     "status": "completed"
    },
    "tags": []
   },
   "outputs": [
    {
     "data": {
      "text/plain": [
       "sofifa_id      int64\n",
       "player_url    object\n",
       "short_name    object\n",
       "long_name     object\n",
       "age            int64\n",
       "               ...  \n",
       "lb            object\n",
       "lcb           object\n",
       "cb            object\n",
       "rcb           object\n",
       "rb            object\n",
       "Length: 104, dtype: object"
      ]
     },
     "execution_count": 8,
     "metadata": {},
     "output_type": "execute_result"
    }
   ],
   "source": [
    "# Datatypes of all the columns of the dataset.\n",
    "fifa.dtypes"
   ]
  },
  {
   "cell_type": "code",
   "execution_count": 9,
   "id": "b9d03381",
   "metadata": {
    "execution": {
     "iopub.execute_input": "2023-05-02T18:47:16.563318Z",
     "iopub.status.busy": "2023-05-02T18:47:16.562642Z",
     "iopub.status.idle": "2023-05-02T18:47:16.626592Z",
     "shell.execute_reply": "2023-05-02T18:47:16.625374Z"
    },
    "papermill": {
     "duration": 0.089298,
     "end_time": "2023-05-02T18:47:16.629040",
     "exception": false,
     "start_time": "2023-05-02T18:47:16.539742",
     "status": "completed"
    },
    "tags": []
   },
   "outputs": [
    {
     "data": {
      "text/html": [
       "<div>\n",
       "<style scoped>\n",
       "    .dataframe tbody tr th:only-of-type {\n",
       "        vertical-align: middle;\n",
       "    }\n",
       "\n",
       "    .dataframe tbody tr th {\n",
       "        vertical-align: top;\n",
       "    }\n",
       "\n",
       "    .dataframe thead th {\n",
       "        text-align: right;\n",
       "    }\n",
       "</style>\n",
       "<table border=\"1\" class=\"dataframe\">\n",
       "  <thead>\n",
       "    <tr style=\"text-align: right;\">\n",
       "      <th></th>\n",
       "      <th>sofifa_id</th>\n",
       "      <th>player_url</th>\n",
       "      <th>short_name</th>\n",
       "      <th>long_name</th>\n",
       "      <th>age</th>\n",
       "      <th>dob</th>\n",
       "      <th>height_cm</th>\n",
       "      <th>weight_kg</th>\n",
       "      <th>nationality</th>\n",
       "      <th>club</th>\n",
       "      <th>...</th>\n",
       "      <th>lwb</th>\n",
       "      <th>ldm</th>\n",
       "      <th>cdm</th>\n",
       "      <th>rdm</th>\n",
       "      <th>rwb</th>\n",
       "      <th>lb</th>\n",
       "      <th>lcb</th>\n",
       "      <th>cb</th>\n",
       "      <th>rcb</th>\n",
       "      <th>rb</th>\n",
       "    </tr>\n",
       "  </thead>\n",
       "  <tbody>\n",
       "    <tr>\n",
       "      <th>0</th>\n",
       "      <td>False</td>\n",
       "      <td>False</td>\n",
       "      <td>False</td>\n",
       "      <td>False</td>\n",
       "      <td>False</td>\n",
       "      <td>False</td>\n",
       "      <td>False</td>\n",
       "      <td>False</td>\n",
       "      <td>False</td>\n",
       "      <td>False</td>\n",
       "      <td>...</td>\n",
       "      <td>False</td>\n",
       "      <td>False</td>\n",
       "      <td>False</td>\n",
       "      <td>False</td>\n",
       "      <td>False</td>\n",
       "      <td>False</td>\n",
       "      <td>False</td>\n",
       "      <td>False</td>\n",
       "      <td>False</td>\n",
       "      <td>False</td>\n",
       "    </tr>\n",
       "    <tr>\n",
       "      <th>1</th>\n",
       "      <td>False</td>\n",
       "      <td>False</td>\n",
       "      <td>False</td>\n",
       "      <td>False</td>\n",
       "      <td>False</td>\n",
       "      <td>False</td>\n",
       "      <td>False</td>\n",
       "      <td>False</td>\n",
       "      <td>False</td>\n",
       "      <td>False</td>\n",
       "      <td>...</td>\n",
       "      <td>False</td>\n",
       "      <td>False</td>\n",
       "      <td>False</td>\n",
       "      <td>False</td>\n",
       "      <td>False</td>\n",
       "      <td>False</td>\n",
       "      <td>False</td>\n",
       "      <td>False</td>\n",
       "      <td>False</td>\n",
       "      <td>False</td>\n",
       "    </tr>\n",
       "    <tr>\n",
       "      <th>2</th>\n",
       "      <td>False</td>\n",
       "      <td>False</td>\n",
       "      <td>False</td>\n",
       "      <td>False</td>\n",
       "      <td>False</td>\n",
       "      <td>False</td>\n",
       "      <td>False</td>\n",
       "      <td>False</td>\n",
       "      <td>False</td>\n",
       "      <td>False</td>\n",
       "      <td>...</td>\n",
       "      <td>False</td>\n",
       "      <td>False</td>\n",
       "      <td>False</td>\n",
       "      <td>False</td>\n",
       "      <td>False</td>\n",
       "      <td>False</td>\n",
       "      <td>False</td>\n",
       "      <td>False</td>\n",
       "      <td>False</td>\n",
       "      <td>False</td>\n",
       "    </tr>\n",
       "    <tr>\n",
       "      <th>3</th>\n",
       "      <td>False</td>\n",
       "      <td>False</td>\n",
       "      <td>False</td>\n",
       "      <td>False</td>\n",
       "      <td>False</td>\n",
       "      <td>False</td>\n",
       "      <td>False</td>\n",
       "      <td>False</td>\n",
       "      <td>False</td>\n",
       "      <td>False</td>\n",
       "      <td>...</td>\n",
       "      <td>True</td>\n",
       "      <td>True</td>\n",
       "      <td>True</td>\n",
       "      <td>True</td>\n",
       "      <td>True</td>\n",
       "      <td>True</td>\n",
       "      <td>True</td>\n",
       "      <td>True</td>\n",
       "      <td>True</td>\n",
       "      <td>True</td>\n",
       "    </tr>\n",
       "    <tr>\n",
       "      <th>4</th>\n",
       "      <td>False</td>\n",
       "      <td>False</td>\n",
       "      <td>False</td>\n",
       "      <td>False</td>\n",
       "      <td>False</td>\n",
       "      <td>False</td>\n",
       "      <td>False</td>\n",
       "      <td>False</td>\n",
       "      <td>False</td>\n",
       "      <td>False</td>\n",
       "      <td>...</td>\n",
       "      <td>False</td>\n",
       "      <td>False</td>\n",
       "      <td>False</td>\n",
       "      <td>False</td>\n",
       "      <td>False</td>\n",
       "      <td>False</td>\n",
       "      <td>False</td>\n",
       "      <td>False</td>\n",
       "      <td>False</td>\n",
       "      <td>False</td>\n",
       "    </tr>\n",
       "    <tr>\n",
       "      <th>...</th>\n",
       "      <td>...</td>\n",
       "      <td>...</td>\n",
       "      <td>...</td>\n",
       "      <td>...</td>\n",
       "      <td>...</td>\n",
       "      <td>...</td>\n",
       "      <td>...</td>\n",
       "      <td>...</td>\n",
       "      <td>...</td>\n",
       "      <td>...</td>\n",
       "      <td>...</td>\n",
       "      <td>...</td>\n",
       "      <td>...</td>\n",
       "      <td>...</td>\n",
       "      <td>...</td>\n",
       "      <td>...</td>\n",
       "      <td>...</td>\n",
       "      <td>...</td>\n",
       "      <td>...</td>\n",
       "      <td>...</td>\n",
       "      <td>...</td>\n",
       "    </tr>\n",
       "    <tr>\n",
       "      <th>18273</th>\n",
       "      <td>False</td>\n",
       "      <td>False</td>\n",
       "      <td>False</td>\n",
       "      <td>False</td>\n",
       "      <td>False</td>\n",
       "      <td>False</td>\n",
       "      <td>False</td>\n",
       "      <td>False</td>\n",
       "      <td>False</td>\n",
       "      <td>False</td>\n",
       "      <td>...</td>\n",
       "      <td>False</td>\n",
       "      <td>False</td>\n",
       "      <td>False</td>\n",
       "      <td>False</td>\n",
       "      <td>False</td>\n",
       "      <td>False</td>\n",
       "      <td>False</td>\n",
       "      <td>False</td>\n",
       "      <td>False</td>\n",
       "      <td>False</td>\n",
       "    </tr>\n",
       "    <tr>\n",
       "      <th>18274</th>\n",
       "      <td>False</td>\n",
       "      <td>False</td>\n",
       "      <td>False</td>\n",
       "      <td>False</td>\n",
       "      <td>False</td>\n",
       "      <td>False</td>\n",
       "      <td>False</td>\n",
       "      <td>False</td>\n",
       "      <td>False</td>\n",
       "      <td>False</td>\n",
       "      <td>...</td>\n",
       "      <td>False</td>\n",
       "      <td>False</td>\n",
       "      <td>False</td>\n",
       "      <td>False</td>\n",
       "      <td>False</td>\n",
       "      <td>False</td>\n",
       "      <td>False</td>\n",
       "      <td>False</td>\n",
       "      <td>False</td>\n",
       "      <td>False</td>\n",
       "    </tr>\n",
       "    <tr>\n",
       "      <th>18275</th>\n",
       "      <td>False</td>\n",
       "      <td>False</td>\n",
       "      <td>False</td>\n",
       "      <td>False</td>\n",
       "      <td>False</td>\n",
       "      <td>False</td>\n",
       "      <td>False</td>\n",
       "      <td>False</td>\n",
       "      <td>False</td>\n",
       "      <td>False</td>\n",
       "      <td>...</td>\n",
       "      <td>False</td>\n",
       "      <td>False</td>\n",
       "      <td>False</td>\n",
       "      <td>False</td>\n",
       "      <td>False</td>\n",
       "      <td>False</td>\n",
       "      <td>False</td>\n",
       "      <td>False</td>\n",
       "      <td>False</td>\n",
       "      <td>False</td>\n",
       "    </tr>\n",
       "    <tr>\n",
       "      <th>18276</th>\n",
       "      <td>False</td>\n",
       "      <td>False</td>\n",
       "      <td>False</td>\n",
       "      <td>False</td>\n",
       "      <td>False</td>\n",
       "      <td>False</td>\n",
       "      <td>False</td>\n",
       "      <td>False</td>\n",
       "      <td>False</td>\n",
       "      <td>False</td>\n",
       "      <td>...</td>\n",
       "      <td>False</td>\n",
       "      <td>False</td>\n",
       "      <td>False</td>\n",
       "      <td>False</td>\n",
       "      <td>False</td>\n",
       "      <td>False</td>\n",
       "      <td>False</td>\n",
       "      <td>False</td>\n",
       "      <td>False</td>\n",
       "      <td>False</td>\n",
       "    </tr>\n",
       "    <tr>\n",
       "      <th>18277</th>\n",
       "      <td>False</td>\n",
       "      <td>False</td>\n",
       "      <td>False</td>\n",
       "      <td>False</td>\n",
       "      <td>False</td>\n",
       "      <td>False</td>\n",
       "      <td>False</td>\n",
       "      <td>False</td>\n",
       "      <td>False</td>\n",
       "      <td>False</td>\n",
       "      <td>...</td>\n",
       "      <td>False</td>\n",
       "      <td>False</td>\n",
       "      <td>False</td>\n",
       "      <td>False</td>\n",
       "      <td>False</td>\n",
       "      <td>False</td>\n",
       "      <td>False</td>\n",
       "      <td>False</td>\n",
       "      <td>False</td>\n",
       "      <td>False</td>\n",
       "    </tr>\n",
       "  </tbody>\n",
       "</table>\n",
       "<p>18278 rows × 104 columns</p>\n",
       "</div>"
      ],
      "text/plain": [
       "       sofifa_id  player_url  short_name  long_name    age    dob  height_cm  \\\n",
       "0          False       False       False      False  False  False      False   \n",
       "1          False       False       False      False  False  False      False   \n",
       "2          False       False       False      False  False  False      False   \n",
       "3          False       False       False      False  False  False      False   \n",
       "4          False       False       False      False  False  False      False   \n",
       "...          ...         ...         ...        ...    ...    ...        ...   \n",
       "18273      False       False       False      False  False  False      False   \n",
       "18274      False       False       False      False  False  False      False   \n",
       "18275      False       False       False      False  False  False      False   \n",
       "18276      False       False       False      False  False  False      False   \n",
       "18277      False       False       False      False  False  False      False   \n",
       "\n",
       "       weight_kg  nationality   club  ...    lwb    ldm    cdm    rdm    rwb  \\\n",
       "0          False        False  False  ...  False  False  False  False  False   \n",
       "1          False        False  False  ...  False  False  False  False  False   \n",
       "2          False        False  False  ...  False  False  False  False  False   \n",
       "3          False        False  False  ...   True   True   True   True   True   \n",
       "4          False        False  False  ...  False  False  False  False  False   \n",
       "...          ...          ...    ...  ...    ...    ...    ...    ...    ...   \n",
       "18273      False        False  False  ...  False  False  False  False  False   \n",
       "18274      False        False  False  ...  False  False  False  False  False   \n",
       "18275      False        False  False  ...  False  False  False  False  False   \n",
       "18276      False        False  False  ...  False  False  False  False  False   \n",
       "18277      False        False  False  ...  False  False  False  False  False   \n",
       "\n",
       "          lb    lcb     cb    rcb     rb  \n",
       "0      False  False  False  False  False  \n",
       "1      False  False  False  False  False  \n",
       "2      False  False  False  False  False  \n",
       "3       True   True   True   True   True  \n",
       "4      False  False  False  False  False  \n",
       "...      ...    ...    ...    ...    ...  \n",
       "18273  False  False  False  False  False  \n",
       "18274  False  False  False  False  False  \n",
       "18275  False  False  False  False  False  \n",
       "18276  False  False  False  False  False  \n",
       "18277  False  False  False  False  False  \n",
       "\n",
       "[18278 rows x 104 columns]"
      ]
     },
     "execution_count": 9,
     "metadata": {},
     "output_type": "execute_result"
    }
   ],
   "source": [
    "# Check all the null values in dataset.\n",
    "fifa.isnull()"
   ]
  },
  {
   "cell_type": "code",
   "execution_count": 10,
   "id": "c9667029",
   "metadata": {
    "execution": {
     "iopub.execute_input": "2023-05-02T18:47:16.673190Z",
     "iopub.status.busy": "2023-05-02T18:47:16.672765Z",
     "iopub.status.idle": "2023-05-02T18:47:16.721250Z",
     "shell.execute_reply": "2023-05-02T18:47:16.720134Z"
    },
    "papermill": {
     "duration": 0.073309,
     "end_time": "2023-05-02T18:47:16.723583",
     "exception": false,
     "start_time": "2023-05-02T18:47:16.650274",
     "status": "completed"
    },
    "tags": []
   },
   "outputs": [
    {
     "data": {
      "text/plain": [
       "sofifa_id                         0\n",
       "player_url                        0\n",
       "short_name                        0\n",
       "long_name                         0\n",
       "age                               0\n",
       "dob                               0\n",
       "height_cm                         0\n",
       "weight_kg                         0\n",
       "nationality                       0\n",
       "club                              0\n",
       "overall                           0\n",
       "potential                         0\n",
       "value_eur                         0\n",
       "wage_eur                          0\n",
       "player_positions                  0\n",
       "preferred_foot                    0\n",
       "international_reputation          0\n",
       "weak_foot                         0\n",
       "skill_moves                       0\n",
       "work_rate                         0\n",
       "body_type                         0\n",
       "real_face                         0\n",
       "release_clause_eur             1298\n",
       "player_tags                   16779\n",
       "team_position                   240\n",
       "team_jersey_number              240\n",
       "loaned_from                   17230\n",
       "joined                         1288\n",
       "contract_valid_until            240\n",
       "nation_position               17152\n",
       "nation_jersey_number          17152\n",
       "pace                           2036\n",
       "shooting                       2036\n",
       "passing                        2036\n",
       "dribbling                      2036\n",
       "defending                      2036\n",
       "physic                         2036\n",
       "gk_diving                     16242\n",
       "gk_handling                   16242\n",
       "gk_kicking                    16242\n",
       "gk_reflexes                   16242\n",
       "gk_speed                      16242\n",
       "gk_positioning                16242\n",
       "player_traits                 10712\n",
       "attacking_crossing                0\n",
       "attacking_finishing               0\n",
       "attacking_heading_accuracy        0\n",
       "attacking_short_passing           0\n",
       "attacking_volleys                 0\n",
       "skill_dribbling                   0\n",
       "skill_curve                       0\n",
       "skill_fk_accuracy                 0\n",
       "skill_long_passing                0\n",
       "skill_ball_control                0\n",
       "movement_acceleration             0\n",
       "movement_sprint_speed             0\n",
       "movement_agility                  0\n",
       "movement_reactions                0\n",
       "movement_balance                  0\n",
       "power_shot_power                  0\n",
       "dtype: int64"
      ]
     },
     "execution_count": 10,
     "metadata": {},
     "output_type": "execute_result"
    }
   ],
   "source": [
    "# Sum all the null values in the dataset.\n",
    "fifa.isnull().sum()[0:60]"
   ]
  },
  {
   "cell_type": "code",
   "execution_count": 11,
   "id": "79c9581f",
   "metadata": {
    "execution": {
     "iopub.execute_input": "2023-05-02T18:47:16.769011Z",
     "iopub.status.busy": "2023-05-02T18:47:16.768151Z",
     "iopub.status.idle": "2023-05-02T18:47:16.772927Z",
     "shell.execute_reply": "2023-05-02T18:47:16.771827Z"
    },
    "papermill": {
     "duration": 0.029963,
     "end_time": "2023-05-02T18:47:16.775029",
     "exception": false,
     "start_time": "2023-05-02T18:47:16.745066",
     "status": "completed"
    },
    "tags": []
   },
   "outputs": [],
   "source": [
    "# To avoid settingWithCopyWarning\n",
    "pd.options.mode.chained_assignment=None"
   ]
  },
  {
   "cell_type": "code",
   "execution_count": 12,
   "id": "6f6a8f10",
   "metadata": {
    "execution": {
     "iopub.execute_input": "2023-05-02T18:47:16.820731Z",
     "iopub.status.busy": "2023-05-02T18:47:16.820050Z",
     "iopub.status.idle": "2023-05-02T18:47:16.857891Z",
     "shell.execute_reply": "2023-05-02T18:47:16.856787Z"
    },
    "papermill": {
     "duration": 0.063215,
     "end_time": "2023-05-02T18:47:16.860101",
     "exception": false,
     "start_time": "2023-05-02T18:47:16.796886",
     "status": "completed"
    },
    "tags": []
   },
   "outputs": [
    {
     "data": {
      "text/html": [
       "<div>\n",
       "<style scoped>\n",
       "    .dataframe tbody tr th:only-of-type {\n",
       "        vertical-align: middle;\n",
       "    }\n",
       "\n",
       "    .dataframe tbody tr th {\n",
       "        vertical-align: top;\n",
       "    }\n",
       "\n",
       "    .dataframe thead th {\n",
       "        text-align: right;\n",
       "    }\n",
       "</style>\n",
       "<table border=\"1\" class=\"dataframe\">\n",
       "  <thead>\n",
       "    <tr style=\"text-align: right;\">\n",
       "      <th></th>\n",
       "      <th>short_name</th>\n",
       "      <th>age</th>\n",
       "      <th>dob</th>\n",
       "      <th>height_cm</th>\n",
       "      <th>weight_kg</th>\n",
       "      <th>nationality</th>\n",
       "      <th>club</th>\n",
       "      <th>wage_eur</th>\n",
       "      <th>preferred_foot</th>\n",
       "      <th>international_reputation</th>\n",
       "      <th>pace</th>\n",
       "      <th>shooting</th>\n",
       "      <th>passing</th>\n",
       "      <th>dribbling</th>\n",
       "      <th>defending</th>\n",
       "      <th>gk_diving</th>\n",
       "      <th>gk_handling</th>\n",
       "      <th>gk_kicking</th>\n",
       "      <th>gk_speed</th>\n",
       "      <th>gk_reflexes</th>\n",
       "    </tr>\n",
       "  </thead>\n",
       "  <tbody>\n",
       "    <tr>\n",
       "      <th>0</th>\n",
       "      <td>L. Messi</td>\n",
       "      <td>32</td>\n",
       "      <td>1987-06-24</td>\n",
       "      <td>170</td>\n",
       "      <td>72</td>\n",
       "      <td>Argentina</td>\n",
       "      <td>FC Barcelona</td>\n",
       "      <td>565000</td>\n",
       "      <td>Left</td>\n",
       "      <td>5</td>\n",
       "      <td>87.0</td>\n",
       "      <td>92.0</td>\n",
       "      <td>92.0</td>\n",
       "      <td>96.0</td>\n",
       "      <td>39.0</td>\n",
       "      <td>NaN</td>\n",
       "      <td>NaN</td>\n",
       "      <td>NaN</td>\n",
       "      <td>NaN</td>\n",
       "      <td>NaN</td>\n",
       "    </tr>\n",
       "    <tr>\n",
       "      <th>1</th>\n",
       "      <td>Cristiano Ronaldo</td>\n",
       "      <td>34</td>\n",
       "      <td>1985-02-05</td>\n",
       "      <td>187</td>\n",
       "      <td>83</td>\n",
       "      <td>Portugal</td>\n",
       "      <td>Juventus</td>\n",
       "      <td>405000</td>\n",
       "      <td>Right</td>\n",
       "      <td>5</td>\n",
       "      <td>90.0</td>\n",
       "      <td>93.0</td>\n",
       "      <td>82.0</td>\n",
       "      <td>89.0</td>\n",
       "      <td>35.0</td>\n",
       "      <td>NaN</td>\n",
       "      <td>NaN</td>\n",
       "      <td>NaN</td>\n",
       "      <td>NaN</td>\n",
       "      <td>NaN</td>\n",
       "    </tr>\n",
       "    <tr>\n",
       "      <th>2</th>\n",
       "      <td>Neymar Jr</td>\n",
       "      <td>27</td>\n",
       "      <td>1992-02-05</td>\n",
       "      <td>175</td>\n",
       "      <td>68</td>\n",
       "      <td>Brazil</td>\n",
       "      <td>Paris Saint-Germain</td>\n",
       "      <td>290000</td>\n",
       "      <td>Right</td>\n",
       "      <td>5</td>\n",
       "      <td>91.0</td>\n",
       "      <td>85.0</td>\n",
       "      <td>87.0</td>\n",
       "      <td>95.0</td>\n",
       "      <td>32.0</td>\n",
       "      <td>NaN</td>\n",
       "      <td>NaN</td>\n",
       "      <td>NaN</td>\n",
       "      <td>NaN</td>\n",
       "      <td>NaN</td>\n",
       "    </tr>\n",
       "    <tr>\n",
       "      <th>3</th>\n",
       "      <td>J. Oblak</td>\n",
       "      <td>26</td>\n",
       "      <td>1993-01-07</td>\n",
       "      <td>188</td>\n",
       "      <td>87</td>\n",
       "      <td>Slovenia</td>\n",
       "      <td>Atlético Madrid</td>\n",
       "      <td>125000</td>\n",
       "      <td>Right</td>\n",
       "      <td>3</td>\n",
       "      <td>NaN</td>\n",
       "      <td>NaN</td>\n",
       "      <td>NaN</td>\n",
       "      <td>NaN</td>\n",
       "      <td>NaN</td>\n",
       "      <td>87.0</td>\n",
       "      <td>92.0</td>\n",
       "      <td>78.0</td>\n",
       "      <td>52.0</td>\n",
       "      <td>89.0</td>\n",
       "    </tr>\n",
       "    <tr>\n",
       "      <th>4</th>\n",
       "      <td>E. Hazard</td>\n",
       "      <td>28</td>\n",
       "      <td>1991-01-07</td>\n",
       "      <td>175</td>\n",
       "      <td>74</td>\n",
       "      <td>Belgium</td>\n",
       "      <td>Real Madrid</td>\n",
       "      <td>470000</td>\n",
       "      <td>Right</td>\n",
       "      <td>4</td>\n",
       "      <td>91.0</td>\n",
       "      <td>83.0</td>\n",
       "      <td>86.0</td>\n",
       "      <td>94.0</td>\n",
       "      <td>35.0</td>\n",
       "      <td>NaN</td>\n",
       "      <td>NaN</td>\n",
       "      <td>NaN</td>\n",
       "      <td>NaN</td>\n",
       "      <td>NaN</td>\n",
       "    </tr>\n",
       "    <tr>\n",
       "      <th>...</th>\n",
       "      <td>...</td>\n",
       "      <td>...</td>\n",
       "      <td>...</td>\n",
       "      <td>...</td>\n",
       "      <td>...</td>\n",
       "      <td>...</td>\n",
       "      <td>...</td>\n",
       "      <td>...</td>\n",
       "      <td>...</td>\n",
       "      <td>...</td>\n",
       "      <td>...</td>\n",
       "      <td>...</td>\n",
       "      <td>...</td>\n",
       "      <td>...</td>\n",
       "      <td>...</td>\n",
       "      <td>...</td>\n",
       "      <td>...</td>\n",
       "      <td>...</td>\n",
       "      <td>...</td>\n",
       "      <td>...</td>\n",
       "    </tr>\n",
       "    <tr>\n",
       "      <th>18273</th>\n",
       "      <td>Shao Shuai</td>\n",
       "      <td>22</td>\n",
       "      <td>1997-03-10</td>\n",
       "      <td>186</td>\n",
       "      <td>79</td>\n",
       "      <td>China PR</td>\n",
       "      <td>Beijing Renhe FC</td>\n",
       "      <td>2000</td>\n",
       "      <td>Right</td>\n",
       "      <td>1</td>\n",
       "      <td>57.0</td>\n",
       "      <td>23.0</td>\n",
       "      <td>28.0</td>\n",
       "      <td>33.0</td>\n",
       "      <td>47.0</td>\n",
       "      <td>NaN</td>\n",
       "      <td>NaN</td>\n",
       "      <td>NaN</td>\n",
       "      <td>NaN</td>\n",
       "      <td>NaN</td>\n",
       "    </tr>\n",
       "    <tr>\n",
       "      <th>18274</th>\n",
       "      <td>Xiao Mingjie</td>\n",
       "      <td>22</td>\n",
       "      <td>1997-01-01</td>\n",
       "      <td>177</td>\n",
       "      <td>66</td>\n",
       "      <td>China PR</td>\n",
       "      <td>Shanghai SIPG FC</td>\n",
       "      <td>2000</td>\n",
       "      <td>Right</td>\n",
       "      <td>1</td>\n",
       "      <td>58.0</td>\n",
       "      <td>24.0</td>\n",
       "      <td>33.0</td>\n",
       "      <td>35.0</td>\n",
       "      <td>48.0</td>\n",
       "      <td>NaN</td>\n",
       "      <td>NaN</td>\n",
       "      <td>NaN</td>\n",
       "      <td>NaN</td>\n",
       "      <td>NaN</td>\n",
       "    </tr>\n",
       "    <tr>\n",
       "      <th>18275</th>\n",
       "      <td>Zhang Wei</td>\n",
       "      <td>19</td>\n",
       "      <td>2000-05-16</td>\n",
       "      <td>186</td>\n",
       "      <td>75</td>\n",
       "      <td>China PR</td>\n",
       "      <td>Hebei China Fortune FC</td>\n",
       "      <td>1000</td>\n",
       "      <td>Right</td>\n",
       "      <td>1</td>\n",
       "      <td>54.0</td>\n",
       "      <td>35.0</td>\n",
       "      <td>44.0</td>\n",
       "      <td>45.0</td>\n",
       "      <td>48.0</td>\n",
       "      <td>NaN</td>\n",
       "      <td>NaN</td>\n",
       "      <td>NaN</td>\n",
       "      <td>NaN</td>\n",
       "      <td>NaN</td>\n",
       "    </tr>\n",
       "    <tr>\n",
       "      <th>18276</th>\n",
       "      <td>Wang Haijian</td>\n",
       "      <td>18</td>\n",
       "      <td>2000-08-02</td>\n",
       "      <td>185</td>\n",
       "      <td>74</td>\n",
       "      <td>China PR</td>\n",
       "      <td>Shanghai Greenland Shenhua FC</td>\n",
       "      <td>1000</td>\n",
       "      <td>Right</td>\n",
       "      <td>1</td>\n",
       "      <td>59.0</td>\n",
       "      <td>35.0</td>\n",
       "      <td>47.0</td>\n",
       "      <td>47.0</td>\n",
       "      <td>45.0</td>\n",
       "      <td>NaN</td>\n",
       "      <td>NaN</td>\n",
       "      <td>NaN</td>\n",
       "      <td>NaN</td>\n",
       "      <td>NaN</td>\n",
       "    </tr>\n",
       "    <tr>\n",
       "      <th>18277</th>\n",
       "      <td>Pan Ximing</td>\n",
       "      <td>26</td>\n",
       "      <td>1993-01-11</td>\n",
       "      <td>182</td>\n",
       "      <td>78</td>\n",
       "      <td>China PR</td>\n",
       "      <td>Hebei China Fortune FC</td>\n",
       "      <td>2000</td>\n",
       "      <td>Right</td>\n",
       "      <td>1</td>\n",
       "      <td>60.0</td>\n",
       "      <td>32.0</td>\n",
       "      <td>51.0</td>\n",
       "      <td>45.0</td>\n",
       "      <td>47.0</td>\n",
       "      <td>NaN</td>\n",
       "      <td>NaN</td>\n",
       "      <td>NaN</td>\n",
       "      <td>NaN</td>\n",
       "      <td>NaN</td>\n",
       "    </tr>\n",
       "  </tbody>\n",
       "</table>\n",
       "<p>18278 rows × 20 columns</p>\n",
       "</div>"
      ],
      "text/plain": [
       "              short_name  age         dob  height_cm  weight_kg nationality  \\\n",
       "0               L. Messi   32  1987-06-24        170         72   Argentina   \n",
       "1      Cristiano Ronaldo   34  1985-02-05        187         83    Portugal   \n",
       "2              Neymar Jr   27  1992-02-05        175         68      Brazil   \n",
       "3               J. Oblak   26  1993-01-07        188         87    Slovenia   \n",
       "4              E. Hazard   28  1991-01-07        175         74     Belgium   \n",
       "...                  ...  ...         ...        ...        ...         ...   \n",
       "18273         Shao Shuai   22  1997-03-10        186         79    China PR   \n",
       "18274       Xiao Mingjie   22  1997-01-01        177         66    China PR   \n",
       "18275          Zhang Wei   19  2000-05-16        186         75    China PR   \n",
       "18276       Wang Haijian   18  2000-08-02        185         74    China PR   \n",
       "18277         Pan Ximing   26  1993-01-11        182         78    China PR   \n",
       "\n",
       "                                club  wage_eur preferred_foot  \\\n",
       "0                       FC Barcelona    565000           Left   \n",
       "1                           Juventus    405000          Right   \n",
       "2                Paris Saint-Germain    290000          Right   \n",
       "3                    Atlético Madrid    125000          Right   \n",
       "4                        Real Madrid    470000          Right   \n",
       "...                              ...       ...            ...   \n",
       "18273               Beijing Renhe FC      2000          Right   \n",
       "18274               Shanghai SIPG FC      2000          Right   \n",
       "18275         Hebei China Fortune FC      1000          Right   \n",
       "18276  Shanghai Greenland Shenhua FC      1000          Right   \n",
       "18277         Hebei China Fortune FC      2000          Right   \n",
       "\n",
       "       international_reputation  pace  shooting  passing  dribbling  \\\n",
       "0                             5  87.0      92.0     92.0       96.0   \n",
       "1                             5  90.0      93.0     82.0       89.0   \n",
       "2                             5  91.0      85.0     87.0       95.0   \n",
       "3                             3   NaN       NaN      NaN        NaN   \n",
       "4                             4  91.0      83.0     86.0       94.0   \n",
       "...                         ...   ...       ...      ...        ...   \n",
       "18273                         1  57.0      23.0     28.0       33.0   \n",
       "18274                         1  58.0      24.0     33.0       35.0   \n",
       "18275                         1  54.0      35.0     44.0       45.0   \n",
       "18276                         1  59.0      35.0     47.0       47.0   \n",
       "18277                         1  60.0      32.0     51.0       45.0   \n",
       "\n",
       "       defending  gk_diving  gk_handling  gk_kicking  gk_speed  gk_reflexes  \n",
       "0           39.0        NaN          NaN         NaN       NaN          NaN  \n",
       "1           35.0        NaN          NaN         NaN       NaN          NaN  \n",
       "2           32.0        NaN          NaN         NaN       NaN          NaN  \n",
       "3            NaN       87.0         92.0        78.0      52.0         89.0  \n",
       "4           35.0        NaN          NaN         NaN       NaN          NaN  \n",
       "...          ...        ...          ...         ...       ...          ...  \n",
       "18273       47.0        NaN          NaN         NaN       NaN          NaN  \n",
       "18274       48.0        NaN          NaN         NaN       NaN          NaN  \n",
       "18275       48.0        NaN          NaN         NaN       NaN          NaN  \n",
       "18276       45.0        NaN          NaN         NaN       NaN          NaN  \n",
       "18277       47.0        NaN          NaN         NaN       NaN          NaN  \n",
       "\n",
       "[18278 rows x 20 columns]"
      ]
     },
     "execution_count": 12,
     "metadata": {},
     "output_type": "execute_result"
    }
   ],
   "source": [
    "# Extract required columns from the main datatset and make it another dataset named fifa.\n",
    "fifa=fifa[['short_name','age','dob','height_cm','weight_kg','nationality','club','wage_eur','preferred_foot','international_reputation','pace','shooting','passing','dribbling','defending','gk_diving','gk_handling','gk_kicking','gk_speed','gk_reflexes']]\n",
    "fifa"
   ]
  },
  {
   "cell_type": "code",
   "execution_count": 13,
   "id": "8f30d42e",
   "metadata": {
    "execution": {
     "iopub.execute_input": "2023-05-02T18:47:16.906031Z",
     "iopub.status.busy": "2023-05-02T18:47:16.905597Z",
     "iopub.status.idle": "2023-05-02T18:47:16.937593Z",
     "shell.execute_reply": "2023-05-02T18:47:16.936448Z"
    },
    "papermill": {
     "duration": 0.0574,
     "end_time": "2023-05-02T18:47:16.939920",
     "exception": false,
     "start_time": "2023-05-02T18:47:16.882520",
     "status": "completed"
    },
    "tags": []
   },
   "outputs": [
    {
     "data": {
      "text/html": [
       "<div>\n",
       "<style scoped>\n",
       "    .dataframe tbody tr th:only-of-type {\n",
       "        vertical-align: middle;\n",
       "    }\n",
       "\n",
       "    .dataframe tbody tr th {\n",
       "        vertical-align: top;\n",
       "    }\n",
       "\n",
       "    .dataframe thead th {\n",
       "        text-align: right;\n",
       "    }\n",
       "</style>\n",
       "<table border=\"1\" class=\"dataframe\">\n",
       "  <thead>\n",
       "    <tr style=\"text-align: right;\">\n",
       "      <th></th>\n",
       "      <th>short_name</th>\n",
       "      <th>age</th>\n",
       "      <th>dob</th>\n",
       "      <th>height_cm</th>\n",
       "      <th>weight_kg</th>\n",
       "      <th>nationality</th>\n",
       "      <th>club</th>\n",
       "      <th>wage_eur</th>\n",
       "      <th>preferred_foot</th>\n",
       "      <th>international_reputation</th>\n",
       "      <th>pace</th>\n",
       "      <th>shooting</th>\n",
       "      <th>passing</th>\n",
       "      <th>dribbling</th>\n",
       "      <th>defending</th>\n",
       "      <th>gk_diving</th>\n",
       "      <th>gk_handling</th>\n",
       "      <th>gk_kicking</th>\n",
       "      <th>gk_speed</th>\n",
       "      <th>gk_reflexes</th>\n",
       "    </tr>\n",
       "  </thead>\n",
       "  <tbody>\n",
       "    <tr>\n",
       "      <th>0</th>\n",
       "      <td>False</td>\n",
       "      <td>False</td>\n",
       "      <td>False</td>\n",
       "      <td>False</td>\n",
       "      <td>False</td>\n",
       "      <td>False</td>\n",
       "      <td>False</td>\n",
       "      <td>False</td>\n",
       "      <td>False</td>\n",
       "      <td>False</td>\n",
       "      <td>False</td>\n",
       "      <td>False</td>\n",
       "      <td>False</td>\n",
       "      <td>False</td>\n",
       "      <td>False</td>\n",
       "      <td>True</td>\n",
       "      <td>True</td>\n",
       "      <td>True</td>\n",
       "      <td>True</td>\n",
       "      <td>True</td>\n",
       "    </tr>\n",
       "    <tr>\n",
       "      <th>1</th>\n",
       "      <td>False</td>\n",
       "      <td>False</td>\n",
       "      <td>False</td>\n",
       "      <td>False</td>\n",
       "      <td>False</td>\n",
       "      <td>False</td>\n",
       "      <td>False</td>\n",
       "      <td>False</td>\n",
       "      <td>False</td>\n",
       "      <td>False</td>\n",
       "      <td>False</td>\n",
       "      <td>False</td>\n",
       "      <td>False</td>\n",
       "      <td>False</td>\n",
       "      <td>False</td>\n",
       "      <td>True</td>\n",
       "      <td>True</td>\n",
       "      <td>True</td>\n",
       "      <td>True</td>\n",
       "      <td>True</td>\n",
       "    </tr>\n",
       "    <tr>\n",
       "      <th>2</th>\n",
       "      <td>False</td>\n",
       "      <td>False</td>\n",
       "      <td>False</td>\n",
       "      <td>False</td>\n",
       "      <td>False</td>\n",
       "      <td>False</td>\n",
       "      <td>False</td>\n",
       "      <td>False</td>\n",
       "      <td>False</td>\n",
       "      <td>False</td>\n",
       "      <td>False</td>\n",
       "      <td>False</td>\n",
       "      <td>False</td>\n",
       "      <td>False</td>\n",
       "      <td>False</td>\n",
       "      <td>True</td>\n",
       "      <td>True</td>\n",
       "      <td>True</td>\n",
       "      <td>True</td>\n",
       "      <td>True</td>\n",
       "    </tr>\n",
       "    <tr>\n",
       "      <th>3</th>\n",
       "      <td>False</td>\n",
       "      <td>False</td>\n",
       "      <td>False</td>\n",
       "      <td>False</td>\n",
       "      <td>False</td>\n",
       "      <td>False</td>\n",
       "      <td>False</td>\n",
       "      <td>False</td>\n",
       "      <td>False</td>\n",
       "      <td>False</td>\n",
       "      <td>True</td>\n",
       "      <td>True</td>\n",
       "      <td>True</td>\n",
       "      <td>True</td>\n",
       "      <td>True</td>\n",
       "      <td>False</td>\n",
       "      <td>False</td>\n",
       "      <td>False</td>\n",
       "      <td>False</td>\n",
       "      <td>False</td>\n",
       "    </tr>\n",
       "    <tr>\n",
       "      <th>4</th>\n",
       "      <td>False</td>\n",
       "      <td>False</td>\n",
       "      <td>False</td>\n",
       "      <td>False</td>\n",
       "      <td>False</td>\n",
       "      <td>False</td>\n",
       "      <td>False</td>\n",
       "      <td>False</td>\n",
       "      <td>False</td>\n",
       "      <td>False</td>\n",
       "      <td>False</td>\n",
       "      <td>False</td>\n",
       "      <td>False</td>\n",
       "      <td>False</td>\n",
       "      <td>False</td>\n",
       "      <td>True</td>\n",
       "      <td>True</td>\n",
       "      <td>True</td>\n",
       "      <td>True</td>\n",
       "      <td>True</td>\n",
       "    </tr>\n",
       "    <tr>\n",
       "      <th>...</th>\n",
       "      <td>...</td>\n",
       "      <td>...</td>\n",
       "      <td>...</td>\n",
       "      <td>...</td>\n",
       "      <td>...</td>\n",
       "      <td>...</td>\n",
       "      <td>...</td>\n",
       "      <td>...</td>\n",
       "      <td>...</td>\n",
       "      <td>...</td>\n",
       "      <td>...</td>\n",
       "      <td>...</td>\n",
       "      <td>...</td>\n",
       "      <td>...</td>\n",
       "      <td>...</td>\n",
       "      <td>...</td>\n",
       "      <td>...</td>\n",
       "      <td>...</td>\n",
       "      <td>...</td>\n",
       "      <td>...</td>\n",
       "    </tr>\n",
       "    <tr>\n",
       "      <th>18273</th>\n",
       "      <td>False</td>\n",
       "      <td>False</td>\n",
       "      <td>False</td>\n",
       "      <td>False</td>\n",
       "      <td>False</td>\n",
       "      <td>False</td>\n",
       "      <td>False</td>\n",
       "      <td>False</td>\n",
       "      <td>False</td>\n",
       "      <td>False</td>\n",
       "      <td>False</td>\n",
       "      <td>False</td>\n",
       "      <td>False</td>\n",
       "      <td>False</td>\n",
       "      <td>False</td>\n",
       "      <td>True</td>\n",
       "      <td>True</td>\n",
       "      <td>True</td>\n",
       "      <td>True</td>\n",
       "      <td>True</td>\n",
       "    </tr>\n",
       "    <tr>\n",
       "      <th>18274</th>\n",
       "      <td>False</td>\n",
       "      <td>False</td>\n",
       "      <td>False</td>\n",
       "      <td>False</td>\n",
       "      <td>False</td>\n",
       "      <td>False</td>\n",
       "      <td>False</td>\n",
       "      <td>False</td>\n",
       "      <td>False</td>\n",
       "      <td>False</td>\n",
       "      <td>False</td>\n",
       "      <td>False</td>\n",
       "      <td>False</td>\n",
       "      <td>False</td>\n",
       "      <td>False</td>\n",
       "      <td>True</td>\n",
       "      <td>True</td>\n",
       "      <td>True</td>\n",
       "      <td>True</td>\n",
       "      <td>True</td>\n",
       "    </tr>\n",
       "    <tr>\n",
       "      <th>18275</th>\n",
       "      <td>False</td>\n",
       "      <td>False</td>\n",
       "      <td>False</td>\n",
       "      <td>False</td>\n",
       "      <td>False</td>\n",
       "      <td>False</td>\n",
       "      <td>False</td>\n",
       "      <td>False</td>\n",
       "      <td>False</td>\n",
       "      <td>False</td>\n",
       "      <td>False</td>\n",
       "      <td>False</td>\n",
       "      <td>False</td>\n",
       "      <td>False</td>\n",
       "      <td>False</td>\n",
       "      <td>True</td>\n",
       "      <td>True</td>\n",
       "      <td>True</td>\n",
       "      <td>True</td>\n",
       "      <td>True</td>\n",
       "    </tr>\n",
       "    <tr>\n",
       "      <th>18276</th>\n",
       "      <td>False</td>\n",
       "      <td>False</td>\n",
       "      <td>False</td>\n",
       "      <td>False</td>\n",
       "      <td>False</td>\n",
       "      <td>False</td>\n",
       "      <td>False</td>\n",
       "      <td>False</td>\n",
       "      <td>False</td>\n",
       "      <td>False</td>\n",
       "      <td>False</td>\n",
       "      <td>False</td>\n",
       "      <td>False</td>\n",
       "      <td>False</td>\n",
       "      <td>False</td>\n",
       "      <td>True</td>\n",
       "      <td>True</td>\n",
       "      <td>True</td>\n",
       "      <td>True</td>\n",
       "      <td>True</td>\n",
       "    </tr>\n",
       "    <tr>\n",
       "      <th>18277</th>\n",
       "      <td>False</td>\n",
       "      <td>False</td>\n",
       "      <td>False</td>\n",
       "      <td>False</td>\n",
       "      <td>False</td>\n",
       "      <td>False</td>\n",
       "      <td>False</td>\n",
       "      <td>False</td>\n",
       "      <td>False</td>\n",
       "      <td>False</td>\n",
       "      <td>False</td>\n",
       "      <td>False</td>\n",
       "      <td>False</td>\n",
       "      <td>False</td>\n",
       "      <td>False</td>\n",
       "      <td>True</td>\n",
       "      <td>True</td>\n",
       "      <td>True</td>\n",
       "      <td>True</td>\n",
       "      <td>True</td>\n",
       "    </tr>\n",
       "  </tbody>\n",
       "</table>\n",
       "<p>18278 rows × 20 columns</p>\n",
       "</div>"
      ],
      "text/plain": [
       "       short_name    age    dob  height_cm  weight_kg  nationality   club  \\\n",
       "0           False  False  False      False      False        False  False   \n",
       "1           False  False  False      False      False        False  False   \n",
       "2           False  False  False      False      False        False  False   \n",
       "3           False  False  False      False      False        False  False   \n",
       "4           False  False  False      False      False        False  False   \n",
       "...           ...    ...    ...        ...        ...          ...    ...   \n",
       "18273       False  False  False      False      False        False  False   \n",
       "18274       False  False  False      False      False        False  False   \n",
       "18275       False  False  False      False      False        False  False   \n",
       "18276       False  False  False      False      False        False  False   \n",
       "18277       False  False  False      False      False        False  False   \n",
       "\n",
       "       wage_eur  preferred_foot  international_reputation   pace  shooting  \\\n",
       "0         False           False                     False  False     False   \n",
       "1         False           False                     False  False     False   \n",
       "2         False           False                     False  False     False   \n",
       "3         False           False                     False   True      True   \n",
       "4         False           False                     False  False     False   \n",
       "...         ...             ...                       ...    ...       ...   \n",
       "18273     False           False                     False  False     False   \n",
       "18274     False           False                     False  False     False   \n",
       "18275     False           False                     False  False     False   \n",
       "18276     False           False                     False  False     False   \n",
       "18277     False           False                     False  False     False   \n",
       "\n",
       "       passing  dribbling  defending  gk_diving  gk_handling  gk_kicking  \\\n",
       "0        False      False      False       True         True        True   \n",
       "1        False      False      False       True         True        True   \n",
       "2        False      False      False       True         True        True   \n",
       "3         True       True       True      False        False       False   \n",
       "4        False      False      False       True         True        True   \n",
       "...        ...        ...        ...        ...          ...         ...   \n",
       "18273    False      False      False       True         True        True   \n",
       "18274    False      False      False       True         True        True   \n",
       "18275    False      False      False       True         True        True   \n",
       "18276    False      False      False       True         True        True   \n",
       "18277    False      False      False       True         True        True   \n",
       "\n",
       "       gk_speed  gk_reflexes  \n",
       "0          True         True  \n",
       "1          True         True  \n",
       "2          True         True  \n",
       "3         False        False  \n",
       "4          True         True  \n",
       "...         ...          ...  \n",
       "18273      True         True  \n",
       "18274      True         True  \n",
       "18275      True         True  \n",
       "18276      True         True  \n",
       "18277      True         True  \n",
       "\n",
       "[18278 rows x 20 columns]"
      ]
     },
     "execution_count": 13,
     "metadata": {},
     "output_type": "execute_result"
    }
   ],
   "source": [
    "# Check all the null values in dataset.\n",
    "fifa.isnull()"
   ]
  },
  {
   "cell_type": "code",
   "execution_count": 14,
   "id": "8e5f2338",
   "metadata": {
    "execution": {
     "iopub.execute_input": "2023-05-02T18:47:16.986525Z",
     "iopub.status.busy": "2023-05-02T18:47:16.986056Z",
     "iopub.status.idle": "2023-05-02T18:47:17.001256Z",
     "shell.execute_reply": "2023-05-02T18:47:17.000142Z"
    },
    "papermill": {
     "duration": 0.041175,
     "end_time": "2023-05-02T18:47:17.003487",
     "exception": false,
     "start_time": "2023-05-02T18:47:16.962312",
     "status": "completed"
    },
    "tags": []
   },
   "outputs": [
    {
     "data": {
      "text/plain": [
       "short_name                      0\n",
       "age                             0\n",
       "dob                             0\n",
       "height_cm                       0\n",
       "weight_kg                       0\n",
       "nationality                     0\n",
       "club                            0\n",
       "wage_eur                        0\n",
       "preferred_foot                  0\n",
       "international_reputation        0\n",
       "pace                         2036\n",
       "shooting                     2036\n",
       "passing                      2036\n",
       "dribbling                    2036\n",
       "defending                    2036\n",
       "gk_diving                   16242\n",
       "gk_handling                 16242\n",
       "gk_kicking                  16242\n",
       "gk_speed                    16242\n",
       "gk_reflexes                 16242\n",
       "dtype: int64"
      ]
     },
     "execution_count": 14,
     "metadata": {},
     "output_type": "execute_result"
    }
   ],
   "source": [
    "# Sum of all the nulll values in the dataset.\n",
    "fifa.isnull().sum()"
   ]
  },
  {
   "cell_type": "code",
   "execution_count": 15,
   "id": "1d625954",
   "metadata": {
    "execution": {
     "iopub.execute_input": "2023-05-02T18:47:17.052219Z",
     "iopub.status.busy": "2023-05-02T18:47:17.051432Z",
     "iopub.status.idle": "2023-05-02T18:47:17.059830Z",
     "shell.execute_reply": "2023-05-02T18:47:17.058690Z"
    },
    "papermill": {
     "duration": 0.034968,
     "end_time": "2023-05-02T18:47:17.062029",
     "exception": false,
     "start_time": "2023-05-02T18:47:17.027061",
     "status": "completed"
    },
    "tags": []
   },
   "outputs": [
    {
     "data": {
      "text/plain": [
       "short_name                   object\n",
       "age                           int64\n",
       "dob                          object\n",
       "height_cm                     int64\n",
       "weight_kg                     int64\n",
       "nationality                  object\n",
       "club                         object\n",
       "wage_eur                      int64\n",
       "preferred_foot               object\n",
       "international_reputation      int64\n",
       "pace                        float64\n",
       "shooting                    float64\n",
       "passing                     float64\n",
       "dribbling                   float64\n",
       "defending                   float64\n",
       "gk_diving                   float64\n",
       "gk_handling                 float64\n",
       "gk_kicking                  float64\n",
       "gk_speed                    float64\n",
       "gk_reflexes                 float64\n",
       "dtype: object"
      ]
     },
     "execution_count": 15,
     "metadata": {},
     "output_type": "execute_result"
    }
   ],
   "source": [
    "# Datatypes of the columns of the dataset.\n",
    "fifa.dtypes"
   ]
  },
  {
   "cell_type": "code",
   "execution_count": 16,
   "id": "378dc318",
   "metadata": {
    "execution": {
     "iopub.execute_input": "2023-05-02T18:47:17.110188Z",
     "iopub.status.busy": "2023-05-02T18:47:17.109055Z",
     "iopub.status.idle": "2023-05-02T18:47:17.115993Z",
     "shell.execute_reply": "2023-05-02T18:47:17.115233Z"
    },
    "papermill": {
     "duration": 0.033287,
     "end_time": "2023-05-02T18:47:17.117905",
     "exception": false,
     "start_time": "2023-05-02T18:47:17.084618",
     "status": "completed"
    },
    "tags": []
   },
   "outputs": [],
   "source": [
    "# Replace all null values in the gk_diving, gk_handling, gk_kicking, gk_speed, gk_reflexes columns with 0.\n",
    "fifa.fillna({'gk_diving':0,'gk_handling':0,'gk_kicking':0,'gk_speed':0,'gk_reflexes':0},inplace=True)"
   ]
  },
  {
   "cell_type": "code",
   "execution_count": 17,
   "id": "7a0cf064",
   "metadata": {
    "execution": {
     "iopub.execute_input": "2023-05-02T18:47:17.164200Z",
     "iopub.status.busy": "2023-05-02T18:47:17.163147Z",
     "iopub.status.idle": "2023-05-02T18:47:17.176647Z",
     "shell.execute_reply": "2023-05-02T18:47:17.175715Z"
    },
    "papermill": {
     "duration": 0.038671,
     "end_time": "2023-05-02T18:47:17.178673",
     "exception": false,
     "start_time": "2023-05-02T18:47:17.140002",
     "status": "completed"
    },
    "tags": []
   },
   "outputs": [
    {
     "data": {
      "text/plain": [
       "short_name                     0\n",
       "age                            0\n",
       "dob                            0\n",
       "height_cm                      0\n",
       "weight_kg                      0\n",
       "nationality                    0\n",
       "club                           0\n",
       "wage_eur                       0\n",
       "preferred_foot                 0\n",
       "international_reputation       0\n",
       "pace                        2036\n",
       "shooting                    2036\n",
       "passing                     2036\n",
       "dribbling                   2036\n",
       "defending                   2036\n",
       "gk_diving                      0\n",
       "gk_handling                    0\n",
       "gk_kicking                     0\n",
       "gk_speed                       0\n",
       "gk_reflexes                    0\n",
       "dtype: int64"
      ]
     },
     "execution_count": 17,
     "metadata": {},
     "output_type": "execute_result"
    }
   ],
   "source": [
    "# Sum of all the nulll values in the dataset.\n",
    "fifa.isnull().sum()"
   ]
  },
  {
   "cell_type": "code",
   "execution_count": 18,
   "id": "c729e282",
   "metadata": {
    "execution": {
     "iopub.execute_input": "2023-05-02T18:47:17.226637Z",
     "iopub.status.busy": "2023-05-02T18:47:17.225998Z",
     "iopub.status.idle": "2023-05-02T18:47:17.233161Z",
     "shell.execute_reply": "2023-05-02T18:47:17.232293Z"
    },
    "papermill": {
     "duration": 0.033255,
     "end_time": "2023-05-02T18:47:17.235359",
     "exception": false,
     "start_time": "2023-05-02T18:47:17.202104",
     "status": "completed"
    },
    "tags": []
   },
   "outputs": [],
   "source": [
    "# Replace all null values in the pace, shooting, passing, dribbling, defending columns with 0.\n",
    "fifa.fillna({'pace':0,'shooting':0,'passing':0,'dribbling':0,'defending':0},inplace=True)"
   ]
  },
  {
   "cell_type": "code",
   "execution_count": 19,
   "id": "1dc743e0",
   "metadata": {
    "execution": {
     "iopub.execute_input": "2023-05-02T18:47:17.283815Z",
     "iopub.status.busy": "2023-05-02T18:47:17.283384Z",
     "iopub.status.idle": "2023-05-02T18:47:17.296865Z",
     "shell.execute_reply": "2023-05-02T18:47:17.295709Z"
    },
    "papermill": {
     "duration": 0.040288,
     "end_time": "2023-05-02T18:47:17.299041",
     "exception": false,
     "start_time": "2023-05-02T18:47:17.258753",
     "status": "completed"
    },
    "tags": []
   },
   "outputs": [
    {
     "data": {
      "text/plain": [
       "short_name                  0\n",
       "age                         0\n",
       "dob                         0\n",
       "height_cm                   0\n",
       "weight_kg                   0\n",
       "nationality                 0\n",
       "club                        0\n",
       "wage_eur                    0\n",
       "preferred_foot              0\n",
       "international_reputation    0\n",
       "pace                        0\n",
       "shooting                    0\n",
       "passing                     0\n",
       "dribbling                   0\n",
       "defending                   0\n",
       "gk_diving                   0\n",
       "gk_handling                 0\n",
       "gk_kicking                  0\n",
       "gk_speed                    0\n",
       "gk_reflexes                 0\n",
       "dtype: int64"
      ]
     },
     "execution_count": 19,
     "metadata": {},
     "output_type": "execute_result"
    }
   ],
   "source": [
    "# Sum of all the nulll values in the dataset.\n",
    "fifa.isnull().sum()"
   ]
  },
  {
   "cell_type": "code",
   "execution_count": 20,
   "id": "cc55e5c5",
   "metadata": {
    "execution": {
     "iopub.execute_input": "2023-05-02T18:47:17.347884Z",
     "iopub.status.busy": "2023-05-02T18:47:17.347491Z",
     "iopub.status.idle": "2023-05-02T18:47:17.355600Z",
     "shell.execute_reply": "2023-05-02T18:47:17.354434Z"
    },
    "papermill": {
     "duration": 0.035281,
     "end_time": "2023-05-02T18:47:17.357919",
     "exception": false,
     "start_time": "2023-05-02T18:47:17.322638",
     "status": "completed"
    },
    "tags": []
   },
   "outputs": [
    {
     "data": {
      "text/plain": [
       "short_name                   object\n",
       "age                           int64\n",
       "dob                          object\n",
       "height_cm                     int64\n",
       "weight_kg                     int64\n",
       "nationality                  object\n",
       "club                         object\n",
       "wage_eur                      int64\n",
       "preferred_foot               object\n",
       "international_reputation      int64\n",
       "pace                        float64\n",
       "shooting                    float64\n",
       "passing                     float64\n",
       "dribbling                   float64\n",
       "defending                   float64\n",
       "gk_diving                   float64\n",
       "gk_handling                 float64\n",
       "gk_kicking                  float64\n",
       "gk_speed                    float64\n",
       "gk_reflexes                 float64\n",
       "dtype: object"
      ]
     },
     "execution_count": 20,
     "metadata": {},
     "output_type": "execute_result"
    }
   ],
   "source": [
    "# Datatypes of all columns of the dataset.\n",
    "fifa.dtypes"
   ]
  },
  {
   "cell_type": "code",
   "execution_count": 21,
   "id": "0bfe7991",
   "metadata": {
    "execution": {
     "iopub.execute_input": "2023-05-02T18:47:17.406870Z",
     "iopub.status.busy": "2023-05-02T18:47:17.406477Z",
     "iopub.status.idle": "2023-05-02T18:47:17.430020Z",
     "shell.execute_reply": "2023-05-02T18:47:17.429246Z"
    },
    "papermill": {
     "duration": 0.050775,
     "end_time": "2023-05-02T18:47:17.432005",
     "exception": false,
     "start_time": "2023-05-02T18:47:17.381230",
     "status": "completed"
    },
    "tags": []
   },
   "outputs": [
    {
     "data": {
      "text/html": [
       "<div>\n",
       "<style scoped>\n",
       "    .dataframe tbody tr th:only-of-type {\n",
       "        vertical-align: middle;\n",
       "    }\n",
       "\n",
       "    .dataframe tbody tr th {\n",
       "        vertical-align: top;\n",
       "    }\n",
       "\n",
       "    .dataframe thead th {\n",
       "        text-align: right;\n",
       "    }\n",
       "</style>\n",
       "<table border=\"1\" class=\"dataframe\">\n",
       "  <thead>\n",
       "    <tr style=\"text-align: right;\">\n",
       "      <th></th>\n",
       "      <th>short_name</th>\n",
       "      <th>age</th>\n",
       "      <th>dob</th>\n",
       "      <th>height_cm</th>\n",
       "      <th>weight_kg</th>\n",
       "      <th>nationality</th>\n",
       "      <th>club</th>\n",
       "      <th>wage_eur</th>\n",
       "      <th>preferred_foot</th>\n",
       "      <th>international_reputation</th>\n",
       "      <th>pace</th>\n",
       "      <th>shooting</th>\n",
       "      <th>passing</th>\n",
       "      <th>dribbling</th>\n",
       "      <th>defending</th>\n",
       "      <th>gk_diving</th>\n",
       "      <th>gk_handling</th>\n",
       "      <th>gk_kicking</th>\n",
       "      <th>gk_speed</th>\n",
       "      <th>gk_reflexes</th>\n",
       "    </tr>\n",
       "  </thead>\n",
       "  <tbody>\n",
       "    <tr>\n",
       "      <th>0</th>\n",
       "      <td>L. Messi</td>\n",
       "      <td>32</td>\n",
       "      <td>1987-06-24</td>\n",
       "      <td>170</td>\n",
       "      <td>72</td>\n",
       "      <td>Argentina</td>\n",
       "      <td>FC Barcelona</td>\n",
       "      <td>565000</td>\n",
       "      <td>Left</td>\n",
       "      <td>5</td>\n",
       "      <td>87.0</td>\n",
       "      <td>92.0</td>\n",
       "      <td>92.0</td>\n",
       "      <td>96.0</td>\n",
       "      <td>39.0</td>\n",
       "      <td>0.0</td>\n",
       "      <td>0.0</td>\n",
       "      <td>0.0</td>\n",
       "      <td>0.0</td>\n",
       "      <td>0.0</td>\n",
       "    </tr>\n",
       "    <tr>\n",
       "      <th>1</th>\n",
       "      <td>Cristiano Ronaldo</td>\n",
       "      <td>34</td>\n",
       "      <td>1985-02-05</td>\n",
       "      <td>187</td>\n",
       "      <td>83</td>\n",
       "      <td>Portugal</td>\n",
       "      <td>Juventus</td>\n",
       "      <td>405000</td>\n",
       "      <td>Right</td>\n",
       "      <td>5</td>\n",
       "      <td>90.0</td>\n",
       "      <td>93.0</td>\n",
       "      <td>82.0</td>\n",
       "      <td>89.0</td>\n",
       "      <td>35.0</td>\n",
       "      <td>0.0</td>\n",
       "      <td>0.0</td>\n",
       "      <td>0.0</td>\n",
       "      <td>0.0</td>\n",
       "      <td>0.0</td>\n",
       "    </tr>\n",
       "    <tr>\n",
       "      <th>2</th>\n",
       "      <td>Neymar Jr</td>\n",
       "      <td>27</td>\n",
       "      <td>1992-02-05</td>\n",
       "      <td>175</td>\n",
       "      <td>68</td>\n",
       "      <td>Brazil</td>\n",
       "      <td>Paris Saint-Germain</td>\n",
       "      <td>290000</td>\n",
       "      <td>Right</td>\n",
       "      <td>5</td>\n",
       "      <td>91.0</td>\n",
       "      <td>85.0</td>\n",
       "      <td>87.0</td>\n",
       "      <td>95.0</td>\n",
       "      <td>32.0</td>\n",
       "      <td>0.0</td>\n",
       "      <td>0.0</td>\n",
       "      <td>0.0</td>\n",
       "      <td>0.0</td>\n",
       "      <td>0.0</td>\n",
       "    </tr>\n",
       "    <tr>\n",
       "      <th>3</th>\n",
       "      <td>J. Oblak</td>\n",
       "      <td>26</td>\n",
       "      <td>1993-01-07</td>\n",
       "      <td>188</td>\n",
       "      <td>87</td>\n",
       "      <td>Slovenia</td>\n",
       "      <td>Atlético Madrid</td>\n",
       "      <td>125000</td>\n",
       "      <td>Right</td>\n",
       "      <td>3</td>\n",
       "      <td>0.0</td>\n",
       "      <td>0.0</td>\n",
       "      <td>0.0</td>\n",
       "      <td>0.0</td>\n",
       "      <td>0.0</td>\n",
       "      <td>87.0</td>\n",
       "      <td>92.0</td>\n",
       "      <td>78.0</td>\n",
       "      <td>52.0</td>\n",
       "      <td>89.0</td>\n",
       "    </tr>\n",
       "    <tr>\n",
       "      <th>4</th>\n",
       "      <td>E. Hazard</td>\n",
       "      <td>28</td>\n",
       "      <td>1991-01-07</td>\n",
       "      <td>175</td>\n",
       "      <td>74</td>\n",
       "      <td>Belgium</td>\n",
       "      <td>Real Madrid</td>\n",
       "      <td>470000</td>\n",
       "      <td>Right</td>\n",
       "      <td>4</td>\n",
       "      <td>91.0</td>\n",
       "      <td>83.0</td>\n",
       "      <td>86.0</td>\n",
       "      <td>94.0</td>\n",
       "      <td>35.0</td>\n",
       "      <td>0.0</td>\n",
       "      <td>0.0</td>\n",
       "      <td>0.0</td>\n",
       "      <td>0.0</td>\n",
       "      <td>0.0</td>\n",
       "    </tr>\n",
       "  </tbody>\n",
       "</table>\n",
       "</div>"
      ],
      "text/plain": [
       "          short_name  age         dob  height_cm  weight_kg nationality  \\\n",
       "0           L. Messi   32  1987-06-24        170         72   Argentina   \n",
       "1  Cristiano Ronaldo   34  1985-02-05        187         83    Portugal   \n",
       "2          Neymar Jr   27  1992-02-05        175         68      Brazil   \n",
       "3           J. Oblak   26  1993-01-07        188         87    Slovenia   \n",
       "4          E. Hazard   28  1991-01-07        175         74     Belgium   \n",
       "\n",
       "                  club  wage_eur preferred_foot  international_reputation  \\\n",
       "0         FC Barcelona    565000           Left                         5   \n",
       "1             Juventus    405000          Right                         5   \n",
       "2  Paris Saint-Germain    290000          Right                         5   \n",
       "3      Atlético Madrid    125000          Right                         3   \n",
       "4          Real Madrid    470000          Right                         4   \n",
       "\n",
       "   pace  shooting  passing  dribbling  defending  gk_diving  gk_handling  \\\n",
       "0  87.0      92.0     92.0       96.0       39.0        0.0          0.0   \n",
       "1  90.0      93.0     82.0       89.0       35.0        0.0          0.0   \n",
       "2  91.0      85.0     87.0       95.0       32.0        0.0          0.0   \n",
       "3   0.0       0.0      0.0        0.0        0.0       87.0         92.0   \n",
       "4  91.0      83.0     86.0       94.0       35.0        0.0          0.0   \n",
       "\n",
       "   gk_kicking  gk_speed  gk_reflexes  \n",
       "0         0.0       0.0          0.0  \n",
       "1         0.0       0.0          0.0  \n",
       "2         0.0       0.0          0.0  \n",
       "3        78.0      52.0         89.0  \n",
       "4         0.0       0.0          0.0  "
      ]
     },
     "execution_count": 21,
     "metadata": {},
     "output_type": "execute_result"
    }
   ],
   "source": [
    "# Head of the datatset.\n",
    "fifa.head()"
   ]
  },
  {
   "cell_type": "code",
   "execution_count": 22,
   "id": "ff0da6f9",
   "metadata": {
    "execution": {
     "iopub.execute_input": "2023-05-02T18:47:17.480797Z",
     "iopub.status.busy": "2023-05-02T18:47:17.480397Z",
     "iopub.status.idle": "2023-05-02T18:47:17.487268Z",
     "shell.execute_reply": "2023-05-02T18:47:17.486150Z"
    },
    "papermill": {
     "duration": 0.033884,
     "end_time": "2023-05-02T18:47:17.489489",
     "exception": false,
     "start_time": "2023-05-02T18:47:17.455605",
     "status": "completed"
    },
    "tags": []
   },
   "outputs": [
    {
     "data": {
      "text/plain": [
       "(18278, 20)"
      ]
     },
     "execution_count": 22,
     "metadata": {},
     "output_type": "execute_result"
    }
   ],
   "source": [
    "# Number of rows and columns in the dataset.\n",
    "fifa.shape"
   ]
  },
  {
   "cell_type": "markdown",
   "id": "3699e89e",
   "metadata": {
    "papermill": {
     "duration": 0.023642,
     "end_time": "2023-05-02T18:47:17.536960",
     "exception": false,
     "start_time": "2023-05-02T18:47:17.513318",
     "status": "completed"
    },
    "tags": []
   },
   "source": [
    "# Which country has the most number of players ?"
   ]
  },
  {
   "cell_type": "code",
   "execution_count": 23,
   "id": "909ee128",
   "metadata": {
    "execution": {
     "iopub.execute_input": "2023-05-02T18:47:17.586060Z",
     "iopub.status.busy": "2023-05-02T18:47:17.585251Z",
     "iopub.status.idle": "2023-05-02T18:47:17.595622Z",
     "shell.execute_reply": "2023-05-02T18:47:17.594450Z"
    },
    "papermill": {
     "duration": 0.037239,
     "end_time": "2023-05-02T18:47:17.597757",
     "exception": false,
     "start_time": "2023-05-02T18:47:17.560518",
     "status": "completed"
    },
    "tags": []
   },
   "outputs": [
    {
     "data": {
      "text/plain": [
       "England                1667\n",
       "Germany                1216\n",
       "Spain                  1035\n",
       "France                  984\n",
       "Argentina               886\n",
       "                       ... \n",
       "Liberia                   1\n",
       "São Tomé & Príncipe       1\n",
       "Puerto Rico               1\n",
       "Bahrain                   1\n",
       "Indonesia                 1\n",
       "Name: nationality, Length: 162, dtype: int64"
      ]
     },
     "execution_count": 23,
     "metadata": {},
     "output_type": "execute_result"
    }
   ],
   "source": [
    "# Name of top countries and the number of players in each countries \n",
    "fifa['nationality'].value_counts()"
   ]
  },
  {
   "cell_type": "code",
   "execution_count": 24,
   "id": "35b65811",
   "metadata": {
    "execution": {
     "iopub.execute_input": "2023-05-02T18:47:17.648624Z",
     "iopub.status.busy": "2023-05-02T18:47:17.647680Z",
     "iopub.status.idle": "2023-05-02T18:47:17.657760Z",
     "shell.execute_reply": "2023-05-02T18:47:17.656609Z"
    },
    "papermill": {
     "duration": 0.037879,
     "end_time": "2023-05-02T18:47:17.660033",
     "exception": false,
     "start_time": "2023-05-02T18:47:17.622154",
     "status": "completed"
    },
    "tags": []
   },
   "outputs": [
    {
     "data": {
      "text/plain": [
       "England      1667\n",
       "Germany      1216\n",
       "Spain        1035\n",
       "France        984\n",
       "Argentina     886\n",
       "Name: nationality, dtype: int64"
      ]
     },
     "execution_count": 24,
     "metadata": {},
     "output_type": "execute_result"
    }
   ],
   "source": [
    "# Top 5 countries and number of players in each country.\n",
    "fifa['nationality'].value_counts()[0:5]"
   ]
  },
  {
   "cell_type": "code",
   "execution_count": 25,
   "id": "b4bf4cd2",
   "metadata": {
    "execution": {
     "iopub.execute_input": "2023-05-02T18:47:17.710202Z",
     "iopub.status.busy": "2023-05-02T18:47:17.709836Z",
     "iopub.status.idle": "2023-05-02T18:47:17.719248Z",
     "shell.execute_reply": "2023-05-02T18:47:17.718163Z"
    },
    "papermill": {
     "duration": 0.037017,
     "end_time": "2023-05-02T18:47:17.721448",
     "exception": false,
     "start_time": "2023-05-02T18:47:17.684431",
     "status": "completed"
    },
    "tags": []
   },
   "outputs": [
    {
     "data": {
      "text/plain": [
       "['England', 'Germany', 'Spain', 'France', 'Argentina']"
      ]
     },
     "execution_count": 25,
     "metadata": {},
     "output_type": "execute_result"
    }
   ],
   "source": [
    "# Top 5 countries having most number of players.\n",
    "list(fifa['nationality'].value_counts()[0:5].keys())"
   ]
  },
  {
   "cell_type": "code",
   "execution_count": 26,
   "id": "8ac2d32d",
   "metadata": {
    "execution": {
     "iopub.execute_input": "2023-05-02T18:47:17.772122Z",
     "iopub.status.busy": "2023-05-02T18:47:17.771723Z",
     "iopub.status.idle": "2023-05-02T18:47:17.781054Z",
     "shell.execute_reply": "2023-05-02T18:47:17.779843Z"
    },
    "papermill": {
     "duration": 0.037578,
     "end_time": "2023-05-02T18:47:17.783341",
     "exception": false,
     "start_time": "2023-05-02T18:47:17.745763",
     "status": "completed"
    },
    "tags": []
   },
   "outputs": [
    {
     "data": {
      "text/plain": [
       "[1667, 1216, 1035, 984, 886]"
      ]
     },
     "execution_count": 26,
     "metadata": {},
     "output_type": "execute_result"
    }
   ],
   "source": [
    "# Number of the players in the top 5 countries having most number of players. \n",
    "list(fifa['nationality'].value_counts()[0:5])"
   ]
  },
  {
   "cell_type": "code",
   "execution_count": 27,
   "id": "feb05a33",
   "metadata": {
    "execution": {
     "iopub.execute_input": "2023-05-02T18:47:17.835621Z",
     "iopub.status.busy": "2023-05-02T18:47:17.834843Z",
     "iopub.status.idle": "2023-05-02T18:47:18.097223Z",
     "shell.execute_reply": "2023-05-02T18:47:18.096319Z"
    },
    "papermill": {
     "duration": 0.29126,
     "end_time": "2023-05-02T18:47:18.099464",
     "exception": false,
     "start_time": "2023-05-02T18:47:17.808204",
     "status": "completed"
    },
    "tags": []
   },
   "outputs": [
    {
     "data": {
      "image/png": "[encoded data removed]",
      "text/plain": [
       "<Figure size 1000x500 with 1 Axes>"
      ]
     },
     "metadata": {},
     "output_type": "display_data"
    }
   ],
   "source": [
    "# Bar-plot of top 5 countries with most number of players.\n",
    "plt.figure(figsize=(10,5))\n",
    "plt.bar(list(fifa['nationality'].value_counts()[0:5].keys()),list(fifa['nationality'].value_counts()[0:5]),color=['red','yellow','green','black','pink','orange'],ec='black',lw=1)\n",
    "plt.grid(True)\n",
    "plt.title(\"Most Players in the Country\",fontsize=15)\n",
    "plt.xlabel('Names of the Country',fontsize=13)\n",
    "plt.ylabel('Number of Players',fontsize=13)\n",
    "plt.show()"
   ]
  },
  {
   "cell_type": "markdown",
   "id": "9d944230",
   "metadata": {
    "papermill": {
     "duration": 0.02432,
     "end_time": "2023-05-02T18:47:18.148985",
     "exception": false,
     "start_time": "2023-05-02T18:47:18.124665",
     "status": "completed"
    },
    "tags": []
   },
   "source": [
    "# Which player has the highest salary ?"
   ]
  },
  {
   "cell_type": "code",
   "execution_count": 28,
   "id": "99358c49",
   "metadata": {
    "execution": {
     "iopub.execute_input": "2023-05-02T18:47:18.202086Z",
     "iopub.status.busy": "2023-05-02T18:47:18.200991Z",
     "iopub.status.idle": "2023-05-02T18:47:18.215006Z",
     "shell.execute_reply": "2023-05-02T18:47:18.213988Z"
    },
    "papermill": {
     "duration": 0.043065,
     "end_time": "2023-05-02T18:47:18.217148",
     "exception": false,
     "start_time": "2023-05-02T18:47:18.174083",
     "status": "completed"
    },
    "tags": []
   },
   "outputs": [
    {
     "data": {
      "text/html": [
       "<div>\n",
       "<style scoped>\n",
       "    .dataframe tbody tr th:only-of-type {\n",
       "        vertical-align: middle;\n",
       "    }\n",
       "\n",
       "    .dataframe tbody tr th {\n",
       "        vertical-align: top;\n",
       "    }\n",
       "\n",
       "    .dataframe thead th {\n",
       "        text-align: right;\n",
       "    }\n",
       "</style>\n",
       "<table border=\"1\" class=\"dataframe\">\n",
       "  <thead>\n",
       "    <tr style=\"text-align: right;\">\n",
       "      <th></th>\n",
       "      <th>short_name</th>\n",
       "      <th>wage_eur</th>\n",
       "    </tr>\n",
       "  </thead>\n",
       "  <tbody>\n",
       "    <tr>\n",
       "      <th>0</th>\n",
       "      <td>L. Messi</td>\n",
       "      <td>565000</td>\n",
       "    </tr>\n",
       "    <tr>\n",
       "      <th>1</th>\n",
       "      <td>Cristiano Ronaldo</td>\n",
       "      <td>405000</td>\n",
       "    </tr>\n",
       "    <tr>\n",
       "      <th>2</th>\n",
       "      <td>Neymar Jr</td>\n",
       "      <td>290000</td>\n",
       "    </tr>\n",
       "    <tr>\n",
       "      <th>3</th>\n",
       "      <td>J. Oblak</td>\n",
       "      <td>125000</td>\n",
       "    </tr>\n",
       "    <tr>\n",
       "      <th>4</th>\n",
       "      <td>E. Hazard</td>\n",
       "      <td>470000</td>\n",
       "    </tr>\n",
       "    <tr>\n",
       "      <th>...</th>\n",
       "      <td>...</td>\n",
       "      <td>...</td>\n",
       "    </tr>\n",
       "    <tr>\n",
       "      <th>18273</th>\n",
       "      <td>Shao Shuai</td>\n",
       "      <td>2000</td>\n",
       "    </tr>\n",
       "    <tr>\n",
       "      <th>18274</th>\n",
       "      <td>Xiao Mingjie</td>\n",
       "      <td>2000</td>\n",
       "    </tr>\n",
       "    <tr>\n",
       "      <th>18275</th>\n",
       "      <td>Zhang Wei</td>\n",
       "      <td>1000</td>\n",
       "    </tr>\n",
       "    <tr>\n",
       "      <th>18276</th>\n",
       "      <td>Wang Haijian</td>\n",
       "      <td>1000</td>\n",
       "    </tr>\n",
       "    <tr>\n",
       "      <th>18277</th>\n",
       "      <td>Pan Ximing</td>\n",
       "      <td>2000</td>\n",
       "    </tr>\n",
       "  </tbody>\n",
       "</table>\n",
       "<p>18278 rows × 2 columns</p>\n",
       "</div>"
      ],
      "text/plain": [
       "              short_name  wage_eur\n",
       "0               L. Messi    565000\n",
       "1      Cristiano Ronaldo    405000\n",
       "2              Neymar Jr    290000\n",
       "3               J. Oblak    125000\n",
       "4              E. Hazard    470000\n",
       "...                  ...       ...\n",
       "18273         Shao Shuai      2000\n",
       "18274       Xiao Mingjie      2000\n",
       "18275          Zhang Wei      1000\n",
       "18276       Wang Haijian      1000\n",
       "18277         Pan Ximing      2000\n",
       "\n",
       "[18278 rows x 2 columns]"
      ]
     },
     "execution_count": 28,
     "metadata": {},
     "output_type": "execute_result"
    }
   ],
   "source": [
    "# Make a new dataset named player_salary of short_name and wage_eur columns.\n",
    "player_salary=fifa[['short_name','wage_eur']]\n",
    "player_salary"
   ]
  },
  {
   "cell_type": "code",
   "execution_count": 29,
   "id": "55da6a3f",
   "metadata": {
    "execution": {
     "iopub.execute_input": "2023-05-02T18:47:18.271867Z",
     "iopub.status.busy": "2023-05-02T18:47:18.271439Z",
     "iopub.status.idle": "2023-05-02T18:47:18.281889Z",
     "shell.execute_reply": "2023-05-02T18:47:18.280737Z"
    },
    "papermill": {
     "duration": 0.040246,
     "end_time": "2023-05-02T18:47:18.283986",
     "exception": false,
     "start_time": "2023-05-02T18:47:18.243740",
     "status": "completed"
    },
    "tags": []
   },
   "outputs": [
    {
     "data": {
      "text/html": [
       "<div>\n",
       "<style scoped>\n",
       "    .dataframe tbody tr th:only-of-type {\n",
       "        vertical-align: middle;\n",
       "    }\n",
       "\n",
       "    .dataframe tbody tr th {\n",
       "        vertical-align: top;\n",
       "    }\n",
       "\n",
       "    .dataframe thead th {\n",
       "        text-align: right;\n",
       "    }\n",
       "</style>\n",
       "<table border=\"1\" class=\"dataframe\">\n",
       "  <thead>\n",
       "    <tr style=\"text-align: right;\">\n",
       "      <th></th>\n",
       "      <th>short_name</th>\n",
       "      <th>wage_eur</th>\n",
       "    </tr>\n",
       "  </thead>\n",
       "  <tbody>\n",
       "    <tr>\n",
       "      <th>0</th>\n",
       "      <td>L. Messi</td>\n",
       "      <td>565000</td>\n",
       "    </tr>\n",
       "    <tr>\n",
       "      <th>1</th>\n",
       "      <td>Cristiano Ronaldo</td>\n",
       "      <td>405000</td>\n",
       "    </tr>\n",
       "    <tr>\n",
       "      <th>2</th>\n",
       "      <td>Neymar Jr</td>\n",
       "      <td>290000</td>\n",
       "    </tr>\n",
       "    <tr>\n",
       "      <th>3</th>\n",
       "      <td>J. Oblak</td>\n",
       "      <td>125000</td>\n",
       "    </tr>\n",
       "    <tr>\n",
       "      <th>4</th>\n",
       "      <td>E. Hazard</td>\n",
       "      <td>470000</td>\n",
       "    </tr>\n",
       "  </tbody>\n",
       "</table>\n",
       "</div>"
      ],
      "text/plain": [
       "          short_name  wage_eur\n",
       "0           L. Messi    565000\n",
       "1  Cristiano Ronaldo    405000\n",
       "2          Neymar Jr    290000\n",
       "3           J. Oblak    125000\n",
       "4          E. Hazard    470000"
      ]
     },
     "execution_count": 29,
     "metadata": {},
     "output_type": "execute_result"
    }
   ],
   "source": [
    "# Head of the dataset.\n",
    "player_salary.head()"
   ]
  },
  {
   "cell_type": "code",
   "execution_count": 30,
   "id": "156587ca",
   "metadata": {
    "execution": {
     "iopub.execute_input": "2023-05-02T18:47:18.338727Z",
     "iopub.status.busy": "2023-05-02T18:47:18.338262Z",
     "iopub.status.idle": "2023-05-02T18:47:18.352784Z",
     "shell.execute_reply": "2023-05-02T18:47:18.351693Z"
    },
    "papermill": {
     "duration": 0.044726,
     "end_time": "2023-05-02T18:47:18.355111",
     "exception": false,
     "start_time": "2023-05-02T18:47:18.310385",
     "status": "completed"
    },
    "tags": []
   },
   "outputs": [
    {
     "data": {
      "text/html": [
       "<div>\n",
       "<style scoped>\n",
       "    .dataframe tbody tr th:only-of-type {\n",
       "        vertical-align: middle;\n",
       "    }\n",
       "\n",
       "    .dataframe tbody tr th {\n",
       "        vertical-align: top;\n",
       "    }\n",
       "\n",
       "    .dataframe thead th {\n",
       "        text-align: right;\n",
       "    }\n",
       "</style>\n",
       "<table border=\"1\" class=\"dataframe\">\n",
       "  <thead>\n",
       "    <tr style=\"text-align: right;\">\n",
       "      <th></th>\n",
       "      <th>short_name</th>\n",
       "      <th>wage_eur</th>\n",
       "    </tr>\n",
       "  </thead>\n",
       "  <tbody>\n",
       "    <tr>\n",
       "      <th>0</th>\n",
       "      <td>L. Messi</td>\n",
       "      <td>565000</td>\n",
       "    </tr>\n",
       "    <tr>\n",
       "      <th>4</th>\n",
       "      <td>E. Hazard</td>\n",
       "      <td>470000</td>\n",
       "    </tr>\n",
       "    <tr>\n",
       "      <th>1</th>\n",
       "      <td>Cristiano Ronaldo</td>\n",
       "      <td>405000</td>\n",
       "    </tr>\n",
       "    <tr>\n",
       "      <th>5</th>\n",
       "      <td>K. De Bruyne</td>\n",
       "      <td>370000</td>\n",
       "    </tr>\n",
       "    <tr>\n",
       "      <th>22</th>\n",
       "      <td>A. Griezmann</td>\n",
       "      <td>370000</td>\n",
       "    </tr>\n",
       "    <tr>\n",
       "      <th>...</th>\n",
       "      <td>...</td>\n",
       "      <td>...</td>\n",
       "    </tr>\n",
       "    <tr>\n",
       "      <th>565</th>\n",
       "      <td>J. Serendero</td>\n",
       "      <td>0</td>\n",
       "    </tr>\n",
       "    <tr>\n",
       "      <th>1868</th>\n",
       "      <td>M. Mevlja</td>\n",
       "      <td>0</td>\n",
       "    </tr>\n",
       "    <tr>\n",
       "      <th>14723</th>\n",
       "      <td>R. Fernández</td>\n",
       "      <td>0</td>\n",
       "    </tr>\n",
       "    <tr>\n",
       "      <th>16356</th>\n",
       "      <td>H. Ivanov</td>\n",
       "      <td>0</td>\n",
       "    </tr>\n",
       "    <tr>\n",
       "      <th>3053</th>\n",
       "      <td>F. Kudryashov</td>\n",
       "      <td>0</td>\n",
       "    </tr>\n",
       "  </tbody>\n",
       "</table>\n",
       "<p>18278 rows × 2 columns</p>\n",
       "</div>"
      ],
      "text/plain": [
       "              short_name  wage_eur\n",
       "0               L. Messi    565000\n",
       "4              E. Hazard    470000\n",
       "1      Cristiano Ronaldo    405000\n",
       "5           K. De Bruyne    370000\n",
       "22          A. Griezmann    370000\n",
       "...                  ...       ...\n",
       "565         J. Serendero         0\n",
       "1868           M. Mevlja         0\n",
       "14723       R. Fernández         0\n",
       "16356          H. Ivanov         0\n",
       "3053       F. Kudryashov         0\n",
       "\n",
       "[18278 rows x 2 columns]"
      ]
     },
     "execution_count": 30,
     "metadata": {},
     "output_type": "execute_result"
    }
   ],
   "source": [
    "# Sort the dataset in the descending order of their salary.\n",
    "player_salary=player_salary.sort_values(by='wage_eur',ascending=False)\n",
    "player_salary"
   ]
  },
  {
   "cell_type": "code",
   "execution_count": 31,
   "id": "e18e9c97",
   "metadata": {
    "execution": {
     "iopub.execute_input": "2023-05-02T18:47:18.409491Z",
     "iopub.status.busy": "2023-05-02T18:47:18.409083Z",
     "iopub.status.idle": "2023-05-02T18:47:18.419095Z",
     "shell.execute_reply": "2023-05-02T18:47:18.417909Z"
    },
    "papermill": {
     "duration": 0.039652,
     "end_time": "2023-05-02T18:47:18.421433",
     "exception": false,
     "start_time": "2023-05-02T18:47:18.381781",
     "status": "completed"
    },
    "tags": []
   },
   "outputs": [
    {
     "data": {
      "text/html": [
       "<div>\n",
       "<style scoped>\n",
       "    .dataframe tbody tr th:only-of-type {\n",
       "        vertical-align: middle;\n",
       "    }\n",
       "\n",
       "    .dataframe tbody tr th {\n",
       "        vertical-align: top;\n",
       "    }\n",
       "\n",
       "    .dataframe thead th {\n",
       "        text-align: right;\n",
       "    }\n",
       "</style>\n",
       "<table border=\"1\" class=\"dataframe\">\n",
       "  <thead>\n",
       "    <tr style=\"text-align: right;\">\n",
       "      <th></th>\n",
       "      <th>short_name</th>\n",
       "      <th>wage_eur</th>\n",
       "    </tr>\n",
       "  </thead>\n",
       "  <tbody>\n",
       "    <tr>\n",
       "      <th>0</th>\n",
       "      <td>L. Messi</td>\n",
       "      <td>565000</td>\n",
       "    </tr>\n",
       "    <tr>\n",
       "      <th>4</th>\n",
       "      <td>E. Hazard</td>\n",
       "      <td>470000</td>\n",
       "    </tr>\n",
       "    <tr>\n",
       "      <th>1</th>\n",
       "      <td>Cristiano Ronaldo</td>\n",
       "      <td>405000</td>\n",
       "    </tr>\n",
       "    <tr>\n",
       "      <th>5</th>\n",
       "      <td>K. De Bruyne</td>\n",
       "      <td>370000</td>\n",
       "    </tr>\n",
       "    <tr>\n",
       "      <th>22</th>\n",
       "      <td>A. Griezmann</td>\n",
       "      <td>370000</td>\n",
       "    </tr>\n",
       "  </tbody>\n",
       "</table>\n",
       "</div>"
      ],
      "text/plain": [
       "           short_name  wage_eur\n",
       "0            L. Messi    565000\n",
       "4           E. Hazard    470000\n",
       "1   Cristiano Ronaldo    405000\n",
       "5        K. De Bruyne    370000\n",
       "22       A. Griezmann    370000"
      ]
     },
     "execution_count": 31,
     "metadata": {},
     "output_type": "execute_result"
    }
   ],
   "source": [
    "# Top 5 records of the dataset.\n",
    "player_salary.head()"
   ]
  },
  {
   "cell_type": "code",
   "execution_count": 32,
   "id": "e65ab9eb",
   "metadata": {
    "execution": {
     "iopub.execute_input": "2023-05-02T18:47:18.476074Z",
     "iopub.status.busy": "2023-05-02T18:47:18.475311Z",
     "iopub.status.idle": "2023-05-02T18:47:18.482736Z",
     "shell.execute_reply": "2023-05-02T18:47:18.481691Z"
    },
    "papermill": {
     "duration": 0.03704,
     "end_time": "2023-05-02T18:47:18.484865",
     "exception": false,
     "start_time": "2023-05-02T18:47:18.447825",
     "status": "completed"
    },
    "tags": []
   },
   "outputs": [
    {
     "data": {
      "text/plain": [
       "['L. Messi', 'E. Hazard', 'Cristiano Ronaldo', 'K. De Bruyne', 'A. Griezmann']"
      ]
     },
     "execution_count": 32,
     "metadata": {},
     "output_type": "execute_result"
    }
   ],
   "source": [
    "# Names of the top 5 players with highest salary.\n",
    "list(player_salary['short_name'][0:5])"
   ]
  },
  {
   "cell_type": "code",
   "execution_count": 33,
   "id": "e3a70678",
   "metadata": {
    "execution": {
     "iopub.execute_input": "2023-05-02T18:47:18.540172Z",
     "iopub.status.busy": "2023-05-02T18:47:18.539750Z",
     "iopub.status.idle": "2023-05-02T18:47:18.547295Z",
     "shell.execute_reply": "2023-05-02T18:47:18.546168Z"
    },
    "papermill": {
     "duration": 0.037776,
     "end_time": "2023-05-02T18:47:18.549489",
     "exception": false,
     "start_time": "2023-05-02T18:47:18.511713",
     "status": "completed"
    },
    "tags": []
   },
   "outputs": [
    {
     "data": {
      "text/plain": [
       "[565000, 470000, 405000, 370000, 370000]"
      ]
     },
     "execution_count": 33,
     "metadata": {},
     "output_type": "execute_result"
    }
   ],
   "source": [
    "# Top 5 highest salary.\n",
    "list(player_salary['wage_eur'][0:5])"
   ]
  },
  {
   "cell_type": "code",
   "execution_count": 34,
   "id": "268eac6d",
   "metadata": {
    "execution": {
     "iopub.execute_input": "2023-05-02T18:47:18.605280Z",
     "iopub.status.busy": "2023-05-02T18:47:18.604847Z",
     "iopub.status.idle": "2023-05-02T18:47:18.843434Z",
     "shell.execute_reply": "2023-05-02T18:47:18.842143Z"
    },
    "papermill": {
     "duration": 0.269714,
     "end_time": "2023-05-02T18:47:18.846061",
     "exception": false,
     "start_time": "2023-05-02T18:47:18.576347",
     "status": "completed"
    },
    "tags": []
   },
   "outputs": [
    {
     "data": {
      "image/png": "[encoded data removed]",
      "text/plain": [
       "<Figure size 1000x500 with 1 Axes>"
      ]
     },
     "metadata": {},
     "output_type": "display_data"
    }
   ],
   "source": [
    "# Bar-plot of top 5 players with highest salary.\n",
    "plt.figure(figsize=(10,5))\n",
    "sns.barplot(x=list(player_salary['short_name'][0:5]),y=list(player_salary['wage_eur'][0:5]),ec='black',lw=1)\n",
    "plt.title(\"FIFA Salary\",fontsize=15)\n",
    "plt.xlabel(\"Name of the Players\",fontsize=13)\n",
    "plt.ylabel(\"Wage in eur\",fontsize=13)\n",
    "plt.grid(True)\n",
    "plt.show()"
   ]
  },
  {
   "cell_type": "markdown",
   "id": "30ed7b94",
   "metadata": {
    "papermill": {
     "duration": 0.025338,
     "end_time": "2023-05-02T18:47:18.898798",
     "exception": false,
     "start_time": "2023-05-02T18:47:18.873460",
     "status": "completed"
    },
    "tags": []
   },
   "source": [
    "# What is the range of the salary of most of the players in the world ?"
   ]
  },
  {
   "cell_type": "code",
   "execution_count": 35,
   "id": "8184014d",
   "metadata": {
    "execution": {
     "iopub.execute_input": "2023-05-02T18:47:18.954288Z",
     "iopub.status.busy": "2023-05-02T18:47:18.953888Z",
     "iopub.status.idle": "2023-05-02T18:47:18.962273Z",
     "shell.execute_reply": "2023-05-02T18:47:18.961478Z"
    },
    "papermill": {
     "duration": 0.039052,
     "end_time": "2023-05-02T18:47:18.964329",
     "exception": false,
     "start_time": "2023-05-02T18:47:18.925277",
     "status": "completed"
    },
    "tags": []
   },
   "outputs": [
    {
     "data": {
      "text/plain": [
       "0        565000\n",
       "4        470000\n",
       "1        405000\n",
       "5        370000\n",
       "22       370000\n",
       "          ...  \n",
       "565           0\n",
       "1868          0\n",
       "14723         0\n",
       "16356         0\n",
       "3053          0\n",
       "Name: wage_eur, Length: 18278, dtype: int64"
      ]
     },
     "execution_count": 35,
     "metadata": {},
     "output_type": "execute_result"
    }
   ],
   "source": [
    "# wage_eur column of the dataset.\n",
    "player_salary['wage_eur']"
   ]
  },
  {
   "cell_type": "code",
   "execution_count": 36,
   "id": "298d9593",
   "metadata": {
    "execution": {
     "iopub.execute_input": "2023-05-02T18:47:19.022308Z",
     "iopub.status.busy": "2023-05-02T18:47:19.021881Z",
     "iopub.status.idle": "2023-05-02T18:47:19.267306Z",
     "shell.execute_reply": "2023-05-02T18:47:19.266188Z"
    },
    "papermill": {
     "duration": 0.277269,
     "end_time": "2023-05-02T18:47:19.269598",
     "exception": false,
     "start_time": "2023-05-02T18:47:18.992329",
     "status": "completed"
    },
    "tags": []
   },
   "outputs": [
    {
     "data": {
      "image/png": "[encoded data removed]",
      "text/plain": [
       "<Figure size 700x500 with 1 Axes>"
      ]
     },
     "metadata": {},
     "output_type": "display_data"
    }
   ],
   "source": [
    "# Histogram for the wage_eur column of the dataset.\n",
    "plt.figure(figsize=(7,5))\n",
    "plt.hist(player_salary['wage_eur'],bins=15,color='red')\n",
    "plt.title(\"SALARY\",fontsize=15)\n",
    "plt.ylabel('Number of the Players',fontsize=13)\n",
    "plt.xlabel('Salary of the Players',fontsize=13)\n",
    "plt.grid(True)\n",
    "plt.show()"
   ]
  },
  {
   "cell_type": "code",
   "execution_count": 37,
   "id": "b783468b",
   "metadata": {
    "execution": {
     "iopub.execute_input": "2023-05-02T18:47:19.328140Z",
     "iopub.status.busy": "2023-05-02T18:47:19.327349Z",
     "iopub.status.idle": "2023-05-02T18:47:19.340437Z",
     "shell.execute_reply": "2023-05-02T18:47:19.339448Z"
    },
    "papermill": {
     "duration": 0.044987,
     "end_time": "2023-05-02T18:47:19.342709",
     "exception": false,
     "start_time": "2023-05-02T18:47:19.297722",
     "status": "completed"
    },
    "tags": []
   },
   "outputs": [
    {
     "data": {
      "text/html": [
       "<div>\n",
       "<style scoped>\n",
       "    .dataframe tbody tr th:only-of-type {\n",
       "        vertical-align: middle;\n",
       "    }\n",
       "\n",
       "    .dataframe tbody tr th {\n",
       "        vertical-align: top;\n",
       "    }\n",
       "\n",
       "    .dataframe thead th {\n",
       "        text-align: right;\n",
       "    }\n",
       "</style>\n",
       "<table border=\"1\" class=\"dataframe\">\n",
       "  <thead>\n",
       "    <tr style=\"text-align: right;\">\n",
       "      <th></th>\n",
       "      <th>short_name</th>\n",
       "      <th>wage_eur</th>\n",
       "    </tr>\n",
       "  </thead>\n",
       "  <tbody>\n",
       "    <tr>\n",
       "      <th>283</th>\n",
       "      <td>F. Kostić</td>\n",
       "      <td>49000</td>\n",
       "    </tr>\n",
       "    <tr>\n",
       "      <th>755</th>\n",
       "      <td>D. Rice</td>\n",
       "      <td>49000</td>\n",
       "    </tr>\n",
       "    <tr>\n",
       "      <th>947</th>\n",
       "      <td>T. Cairney</td>\n",
       "      <td>49000</td>\n",
       "    </tr>\n",
       "    <tr>\n",
       "      <th>879</th>\n",
       "      <td>Gervinho</td>\n",
       "      <td>49000</td>\n",
       "    </tr>\n",
       "    <tr>\n",
       "      <th>933</th>\n",
       "      <td>M. Hitz</td>\n",
       "      <td>49000</td>\n",
       "    </tr>\n",
       "    <tr>\n",
       "      <th>...</th>\n",
       "      <td>...</td>\n",
       "      <td>...</td>\n",
       "    </tr>\n",
       "    <tr>\n",
       "      <th>565</th>\n",
       "      <td>J. Serendero</td>\n",
       "      <td>0</td>\n",
       "    </tr>\n",
       "    <tr>\n",
       "      <th>1868</th>\n",
       "      <td>M. Mevlja</td>\n",
       "      <td>0</td>\n",
       "    </tr>\n",
       "    <tr>\n",
       "      <th>14723</th>\n",
       "      <td>R. Fernández</td>\n",
       "      <td>0</td>\n",
       "    </tr>\n",
       "    <tr>\n",
       "      <th>16356</th>\n",
       "      <td>H. Ivanov</td>\n",
       "      <td>0</td>\n",
       "    </tr>\n",
       "    <tr>\n",
       "      <th>3053</th>\n",
       "      <td>F. Kudryashov</td>\n",
       "      <td>0</td>\n",
       "    </tr>\n",
       "  </tbody>\n",
       "</table>\n",
       "<p>17688 rows × 2 columns</p>\n",
       "</div>"
      ],
      "text/plain": [
       "          short_name  wage_eur\n",
       "283        F. Kostić     49000\n",
       "755          D. Rice     49000\n",
       "947       T. Cairney     49000\n",
       "879         Gervinho     49000\n",
       "933          M. Hitz     49000\n",
       "...              ...       ...\n",
       "565     J. Serendero         0\n",
       "1868       M. Mevlja         0\n",
       "14723   R. Fernández         0\n",
       "16356      H. Ivanov         0\n",
       "3053   F. Kudryashov         0\n",
       "\n",
       "[17688 rows x 2 columns]"
      ]
     },
     "execution_count": 37,
     "metadata": {},
     "output_type": "execute_result"
    }
   ],
   "source": [
    "# Dataset from player_salary where wage_eur is less than 50,000 .\n",
    "player_salary[player_salary['wage_eur'] < 50000]"
   ]
  },
  {
   "cell_type": "code",
   "execution_count": 38,
   "id": "d93f1bbd",
   "metadata": {
    "execution": {
     "iopub.execute_input": "2023-05-02T18:47:19.402167Z",
     "iopub.status.busy": "2023-05-02T18:47:19.400834Z",
     "iopub.status.idle": "2023-05-02T18:47:19.408678Z",
     "shell.execute_reply": "2023-05-02T18:47:19.407638Z"
    },
    "papermill": {
     "duration": 0.04034,
     "end_time": "2023-05-02T18:47:19.410967",
     "exception": false,
     "start_time": "2023-05-02T18:47:19.370627",
     "status": "completed"
    },
    "tags": []
   },
   "outputs": [
    {
     "data": {
      "text/plain": [
       "96.77207571944415"
      ]
     },
     "execution_count": 38,
     "metadata": {},
     "output_type": "execute_result"
    }
   ],
   "source": [
    "# Percentage of the players who have salary less than 50,000 eur.\n",
    "17688/18278*100"
   ]
  },
  {
   "cell_type": "markdown",
   "id": "4b9a29ad",
   "metadata": {
    "papermill": {
     "duration": 0.02779,
     "end_time": "2023-05-02T18:47:19.467336",
     "exception": false,
     "start_time": "2023-05-02T18:47:19.439546",
     "status": "completed"
    },
    "tags": []
   },
   "source": [
    "# Who is the most tallest player in the world ?"
   ]
  },
  {
   "cell_type": "code",
   "execution_count": 39,
   "id": "036de74f",
   "metadata": {
    "execution": {
     "iopub.execute_input": "2023-05-02T18:47:19.526032Z",
     "iopub.status.busy": "2023-05-02T18:47:19.525192Z",
     "iopub.status.idle": "2023-05-02T18:47:19.538702Z",
     "shell.execute_reply": "2023-05-02T18:47:19.537582Z"
    },
    "papermill": {
     "duration": 0.045607,
     "end_time": "2023-05-02T18:47:19.540938",
     "exception": false,
     "start_time": "2023-05-02T18:47:19.495331",
     "status": "completed"
    },
    "tags": []
   },
   "outputs": [
    {
     "data": {
      "text/html": [
       "<div>\n",
       "<style scoped>\n",
       "    .dataframe tbody tr th:only-of-type {\n",
       "        vertical-align: middle;\n",
       "    }\n",
       "\n",
       "    .dataframe tbody tr th {\n",
       "        vertical-align: top;\n",
       "    }\n",
       "\n",
       "    .dataframe thead th {\n",
       "        text-align: right;\n",
       "    }\n",
       "</style>\n",
       "<table border=\"1\" class=\"dataframe\">\n",
       "  <thead>\n",
       "    <tr style=\"text-align: right;\">\n",
       "      <th></th>\n",
       "      <th>short_name</th>\n",
       "      <th>height_cm</th>\n",
       "    </tr>\n",
       "  </thead>\n",
       "  <tbody>\n",
       "    <tr>\n",
       "      <th>0</th>\n",
       "      <td>L. Messi</td>\n",
       "      <td>170</td>\n",
       "    </tr>\n",
       "    <tr>\n",
       "      <th>1</th>\n",
       "      <td>Cristiano Ronaldo</td>\n",
       "      <td>187</td>\n",
       "    </tr>\n",
       "    <tr>\n",
       "      <th>2</th>\n",
       "      <td>Neymar Jr</td>\n",
       "      <td>175</td>\n",
       "    </tr>\n",
       "    <tr>\n",
       "      <th>3</th>\n",
       "      <td>J. Oblak</td>\n",
       "      <td>188</td>\n",
       "    </tr>\n",
       "    <tr>\n",
       "      <th>4</th>\n",
       "      <td>E. Hazard</td>\n",
       "      <td>175</td>\n",
       "    </tr>\n",
       "    <tr>\n",
       "      <th>...</th>\n",
       "      <td>...</td>\n",
       "      <td>...</td>\n",
       "    </tr>\n",
       "    <tr>\n",
       "      <th>18273</th>\n",
       "      <td>Shao Shuai</td>\n",
       "      <td>186</td>\n",
       "    </tr>\n",
       "    <tr>\n",
       "      <th>18274</th>\n",
       "      <td>Xiao Mingjie</td>\n",
       "      <td>177</td>\n",
       "    </tr>\n",
       "    <tr>\n",
       "      <th>18275</th>\n",
       "      <td>Zhang Wei</td>\n",
       "      <td>186</td>\n",
       "    </tr>\n",
       "    <tr>\n",
       "      <th>18276</th>\n",
       "      <td>Wang Haijian</td>\n",
       "      <td>185</td>\n",
       "    </tr>\n",
       "    <tr>\n",
       "      <th>18277</th>\n",
       "      <td>Pan Ximing</td>\n",
       "      <td>182</td>\n",
       "    </tr>\n",
       "  </tbody>\n",
       "</table>\n",
       "<p>18278 rows × 2 columns</p>\n",
       "</div>"
      ],
      "text/plain": [
       "              short_name  height_cm\n",
       "0               L. Messi        170\n",
       "1      Cristiano Ronaldo        187\n",
       "2              Neymar Jr        175\n",
       "3               J. Oblak        188\n",
       "4              E. Hazard        175\n",
       "...                  ...        ...\n",
       "18273         Shao Shuai        186\n",
       "18274       Xiao Mingjie        177\n",
       "18275          Zhang Wei        186\n",
       "18276       Wang Haijian        185\n",
       "18277         Pan Ximing        182\n",
       "\n",
       "[18278 rows x 2 columns]"
      ]
     },
     "execution_count": 39,
     "metadata": {},
     "output_type": "execute_result"
    }
   ],
   "source": [
    "# Make a new dataset named player_height of short_name and height_cm columns.\n",
    "player_height=fifa[['short_name','height_cm']]\n",
    "player_height"
   ]
  },
  {
   "cell_type": "code",
   "execution_count": 40,
   "id": "52944ae9",
   "metadata": {
    "execution": {
     "iopub.execute_input": "2023-05-02T18:47:19.599185Z",
     "iopub.status.busy": "2023-05-02T18:47:19.598548Z",
     "iopub.status.idle": "2023-05-02T18:47:19.608244Z",
     "shell.execute_reply": "2023-05-02T18:47:19.607314Z"
    },
    "papermill": {
     "duration": 0.04114,
     "end_time": "2023-05-02T18:47:19.610484",
     "exception": false,
     "start_time": "2023-05-02T18:47:19.569344",
     "status": "completed"
    },
    "tags": []
   },
   "outputs": [
    {
     "data": {
      "text/html": [
       "<div>\n",
       "<style scoped>\n",
       "    .dataframe tbody tr th:only-of-type {\n",
       "        vertical-align: middle;\n",
       "    }\n",
       "\n",
       "    .dataframe tbody tr th {\n",
       "        vertical-align: top;\n",
       "    }\n",
       "\n",
       "    .dataframe thead th {\n",
       "        text-align: right;\n",
       "    }\n",
       "</style>\n",
       "<table border=\"1\" class=\"dataframe\">\n",
       "  <thead>\n",
       "    <tr style=\"text-align: right;\">\n",
       "      <th></th>\n",
       "      <th>short_name</th>\n",
       "      <th>height_cm</th>\n",
       "    </tr>\n",
       "  </thead>\n",
       "  <tbody>\n",
       "    <tr>\n",
       "      <th>0</th>\n",
       "      <td>L. Messi</td>\n",
       "      <td>170</td>\n",
       "    </tr>\n",
       "    <tr>\n",
       "      <th>1</th>\n",
       "      <td>Cristiano Ronaldo</td>\n",
       "      <td>187</td>\n",
       "    </tr>\n",
       "    <tr>\n",
       "      <th>2</th>\n",
       "      <td>Neymar Jr</td>\n",
       "      <td>175</td>\n",
       "    </tr>\n",
       "    <tr>\n",
       "      <th>3</th>\n",
       "      <td>J. Oblak</td>\n",
       "      <td>188</td>\n",
       "    </tr>\n",
       "    <tr>\n",
       "      <th>4</th>\n",
       "      <td>E. Hazard</td>\n",
       "      <td>175</td>\n",
       "    </tr>\n",
       "  </tbody>\n",
       "</table>\n",
       "</div>"
      ],
      "text/plain": [
       "          short_name  height_cm\n",
       "0           L. Messi        170\n",
       "1  Cristiano Ronaldo        187\n",
       "2          Neymar Jr        175\n",
       "3           J. Oblak        188\n",
       "4          E. Hazard        175"
      ]
     },
     "execution_count": 40,
     "metadata": {},
     "output_type": "execute_result"
    }
   ],
   "source": [
    "# Head of the dataset.\n",
    "player_height.head()"
   ]
  },
  {
   "cell_type": "code",
   "execution_count": 41,
   "id": "07f160e4",
   "metadata": {
    "execution": {
     "iopub.execute_input": "2023-05-02T18:47:19.671038Z",
     "iopub.status.busy": "2023-05-02T18:47:19.670337Z",
     "iopub.status.idle": "2023-05-02T18:47:19.685590Z",
     "shell.execute_reply": "2023-05-02T18:47:19.684489Z"
    },
    "papermill": {
     "duration": 0.048488,
     "end_time": "2023-05-02T18:47:19.687653",
     "exception": false,
     "start_time": "2023-05-02T18:47:19.639165",
     "status": "completed"
    },
    "tags": []
   },
   "outputs": [
    {
     "data": {
      "text/html": [
       "<div>\n",
       "<style scoped>\n",
       "    .dataframe tbody tr th:only-of-type {\n",
       "        vertical-align: middle;\n",
       "    }\n",
       "\n",
       "    .dataframe tbody tr th {\n",
       "        vertical-align: top;\n",
       "    }\n",
       "\n",
       "    .dataframe thead th {\n",
       "        text-align: right;\n",
       "    }\n",
       "</style>\n",
       "<table border=\"1\" class=\"dataframe\">\n",
       "  <thead>\n",
       "    <tr style=\"text-align: right;\">\n",
       "      <th></th>\n",
       "      <th>short_name</th>\n",
       "      <th>height_cm</th>\n",
       "    </tr>\n",
       "  </thead>\n",
       "  <tbody>\n",
       "    <tr>\n",
       "      <th>9208</th>\n",
       "      <td>T. Holý</td>\n",
       "      <td>205</td>\n",
       "    </tr>\n",
       "    <tr>\n",
       "      <th>8200</th>\n",
       "      <td>A. Ba</td>\n",
       "      <td>203</td>\n",
       "    </tr>\n",
       "    <tr>\n",
       "      <th>12808</th>\n",
       "      <td>A. Chapman</td>\n",
       "      <td>203</td>\n",
       "    </tr>\n",
       "    <tr>\n",
       "      <th>3121</th>\n",
       "      <td>C. Pantilimon</td>\n",
       "      <td>203</td>\n",
       "    </tr>\n",
       "    <tr>\n",
       "      <th>12864</th>\n",
       "      <td>M. Qvist</td>\n",
       "      <td>203</td>\n",
       "    </tr>\n",
       "    <tr>\n",
       "      <th>...</th>\n",
       "      <td>...</td>\n",
       "      <td>...</td>\n",
       "    </tr>\n",
       "    <tr>\n",
       "      <th>1496</th>\n",
       "      <td>M. Moralez</td>\n",
       "      <td>158</td>\n",
       "    </tr>\n",
       "    <tr>\n",
       "      <th>4243</th>\n",
       "      <td>C. Songkrasin</td>\n",
       "      <td>158</td>\n",
       "    </tr>\n",
       "    <tr>\n",
       "      <th>16929</th>\n",
       "      <td>J. Nisbet</td>\n",
       "      <td>158</td>\n",
       "    </tr>\n",
       "    <tr>\n",
       "      <th>3898</th>\n",
       "      <td>J. Plata</td>\n",
       "      <td>157</td>\n",
       "    </tr>\n",
       "    <tr>\n",
       "      <th>4829</th>\n",
       "      <td>N. Barrios</td>\n",
       "      <td>156</td>\n",
       "    </tr>\n",
       "  </tbody>\n",
       "</table>\n",
       "<p>18278 rows × 2 columns</p>\n",
       "</div>"
      ],
      "text/plain": [
       "          short_name  height_cm\n",
       "9208         T. Holý        205\n",
       "8200           A. Ba        203\n",
       "12808     A. Chapman        203\n",
       "3121   C. Pantilimon        203\n",
       "12864       M. Qvist        203\n",
       "...              ...        ...\n",
       "1496      M. Moralez        158\n",
       "4243   C. Songkrasin        158\n",
       "16929      J. Nisbet        158\n",
       "3898        J. Plata        157\n",
       "4829      N. Barrios        156\n",
       "\n",
       "[18278 rows x 2 columns]"
      ]
     },
     "execution_count": 41,
     "metadata": {},
     "output_type": "execute_result"
    }
   ],
   "source": [
    "# Sort the dataset in the descending order of their height.\n",
    "player_height=player_height.sort_values(by='height_cm',ascending=False)\n",
    "player_height"
   ]
  },
  {
   "cell_type": "code",
   "execution_count": 42,
   "id": "d089e38e",
   "metadata": {
    "execution": {
     "iopub.execute_input": "2023-05-02T18:47:19.747138Z",
     "iopub.status.busy": "2023-05-02T18:47:19.746336Z",
     "iopub.status.idle": "2023-05-02T18:47:19.757252Z",
     "shell.execute_reply": "2023-05-02T18:47:19.756035Z"
    },
    "papermill": {
     "duration": 0.043485,
     "end_time": "2023-05-02T18:47:19.759511",
     "exception": false,
     "start_time": "2023-05-02T18:47:19.716026",
     "status": "completed"
    },
    "tags": []
   },
   "outputs": [
    {
     "data": {
      "text/html": [
       "<div>\n",
       "<style scoped>\n",
       "    .dataframe tbody tr th:only-of-type {\n",
       "        vertical-align: middle;\n",
       "    }\n",
       "\n",
       "    .dataframe tbody tr th {\n",
       "        vertical-align: top;\n",
       "    }\n",
       "\n",
       "    .dataframe thead th {\n",
       "        text-align: right;\n",
       "    }\n",
       "</style>\n",
       "<table border=\"1\" class=\"dataframe\">\n",
       "  <thead>\n",
       "    <tr style=\"text-align: right;\">\n",
       "      <th></th>\n",
       "      <th>short_name</th>\n",
       "      <th>height_cm</th>\n",
       "    </tr>\n",
       "  </thead>\n",
       "  <tbody>\n",
       "    <tr>\n",
       "      <th>9208</th>\n",
       "      <td>T. Holý</td>\n",
       "      <td>205</td>\n",
       "    </tr>\n",
       "    <tr>\n",
       "      <th>8200</th>\n",
       "      <td>A. Ba</td>\n",
       "      <td>203</td>\n",
       "    </tr>\n",
       "    <tr>\n",
       "      <th>12808</th>\n",
       "      <td>A. Chapman</td>\n",
       "      <td>203</td>\n",
       "    </tr>\n",
       "    <tr>\n",
       "      <th>3121</th>\n",
       "      <td>C. Pantilimon</td>\n",
       "      <td>203</td>\n",
       "    </tr>\n",
       "    <tr>\n",
       "      <th>12864</th>\n",
       "      <td>M. Qvist</td>\n",
       "      <td>203</td>\n",
       "    </tr>\n",
       "  </tbody>\n",
       "</table>\n",
       "</div>"
      ],
      "text/plain": [
       "          short_name  height_cm\n",
       "9208         T. Holý        205\n",
       "8200           A. Ba        203\n",
       "12808     A. Chapman        203\n",
       "3121   C. Pantilimon        203\n",
       "12864       M. Qvist        203"
      ]
     },
     "execution_count": 42,
     "metadata": {},
     "output_type": "execute_result"
    }
   ],
   "source": [
    "# Top 5 records of the dataset.\n",
    "player_height.head()"
   ]
  },
  {
   "cell_type": "code",
   "execution_count": 43,
   "id": "2b7ecf73",
   "metadata": {
    "execution": {
     "iopub.execute_input": "2023-05-02T18:47:19.820373Z",
     "iopub.status.busy": "2023-05-02T18:47:19.819217Z",
     "iopub.status.idle": "2023-05-02T18:47:19.825826Z",
     "shell.execute_reply": "2023-05-02T18:47:19.825094Z"
    },
    "papermill": {
     "duration": 0.0385,
     "end_time": "2023-05-02T18:47:19.827664",
     "exception": false,
     "start_time": "2023-05-02T18:47:19.789164",
     "status": "completed"
    },
    "tags": []
   },
   "outputs": [
    {
     "data": {
      "text/plain": [
       "['T. Holý', 'A. Ba', 'A. Chapman', 'C. Pantilimon', 'M. Qvist']"
      ]
     },
     "execution_count": 43,
     "metadata": {},
     "output_type": "execute_result"
    }
   ],
   "source": [
    "# Names of the top 5 tallest players.\n",
    "list(player_height['short_name'][0:5])"
   ]
  },
  {
   "cell_type": "code",
   "execution_count": 44,
   "id": "78ccabb4",
   "metadata": {
    "execution": {
     "iopub.execute_input": "2023-05-02T18:47:19.887455Z",
     "iopub.status.busy": "2023-05-02T18:47:19.886272Z",
     "iopub.status.idle": "2023-05-02T18:47:19.893940Z",
     "shell.execute_reply": "2023-05-02T18:47:19.893145Z"
    },
    "papermill": {
     "duration": 0.039292,
     "end_time": "2023-05-02T18:47:19.895992",
     "exception": false,
     "start_time": "2023-05-02T18:47:19.856700",
     "status": "completed"
    },
    "tags": []
   },
   "outputs": [
    {
     "data": {
      "text/plain": [
       "[205, 203, 203, 203, 203]"
      ]
     },
     "execution_count": 44,
     "metadata": {},
     "output_type": "execute_result"
    }
   ],
   "source": [
    "# Height of the top 5 tallest players.\n",
    "list(player_height['height_cm'][0:5])"
   ]
  },
  {
   "cell_type": "code",
   "execution_count": 45,
   "id": "e2603bf6",
   "metadata": {
    "execution": {
     "iopub.execute_input": "2023-05-02T18:47:19.956918Z",
     "iopub.status.busy": "2023-05-02T18:47:19.956035Z",
     "iopub.status.idle": "2023-05-02T18:47:20.196996Z",
     "shell.execute_reply": "2023-05-02T18:47:20.196027Z"
    },
    "papermill": {
     "duration": 0.274821,
     "end_time": "2023-05-02T18:47:20.199205",
     "exception": false,
     "start_time": "2023-05-02T18:47:19.924384",
     "status": "completed"
    },
    "tags": []
   },
   "outputs": [
    {
     "data": {
      "image/png": "[encoded data removed]",
      "text/plain": [
       "<Figure size 1000x500 with 1 Axes>"
      ]
     },
     "metadata": {},
     "output_type": "display_data"
    }
   ],
   "source": [
    "# Bar-plot of top 5 tallest players.\n",
    "plt.figure(figsize=(10,5))\n",
    "sns.barplot(x=list(player_height['short_name'][0:5]),y=list(player_height['height_cm'][0:5]),ec='black',lw=1)\n",
    "plt.title(\"Tallest Player\",fontsize=15)\n",
    "plt.xlabel(\"Name of the Players\",fontsize=13)\n",
    "plt.ylabel(\"Height in cm\",fontsize=13)\n",
    "plt.grid(True)\n",
    "plt.show()"
   ]
  },
  {
   "cell_type": "markdown",
   "id": "02d7fec2",
   "metadata": {
    "papermill": {
     "duration": 0.029621,
     "end_time": "2023-05-02T18:47:20.258701",
     "exception": false,
     "start_time": "2023-05-02T18:47:20.229080",
     "status": "completed"
    },
    "tags": []
   },
   "source": [
    "# What is the range of the height of most of the players ?"
   ]
  },
  {
   "cell_type": "code",
   "execution_count": 46,
   "id": "9b2f0913",
   "metadata": {
    "execution": {
     "iopub.execute_input": "2023-05-02T18:47:20.319632Z",
     "iopub.status.busy": "2023-05-02T18:47:20.318935Z",
     "iopub.status.idle": "2023-05-02T18:47:20.327008Z",
     "shell.execute_reply": "2023-05-02T18:47:20.326144Z"
    },
    "papermill": {
     "duration": 0.040484,
     "end_time": "2023-05-02T18:47:20.329034",
     "exception": false,
     "start_time": "2023-05-02T18:47:20.288550",
     "status": "completed"
    },
    "tags": []
   },
   "outputs": [
    {
     "data": {
      "text/plain": [
       "9208     205\n",
       "8200     203\n",
       "12808    203\n",
       "3121     203\n",
       "12864    203\n",
       "        ... \n",
       "1496     158\n",
       "4243     158\n",
       "16929    158\n",
       "3898     157\n",
       "4829     156\n",
       "Name: height_cm, Length: 18278, dtype: int64"
      ]
     },
     "execution_count": 46,
     "metadata": {},
     "output_type": "execute_result"
    }
   ],
   "source": [
    "# height_cm column of the dataset.\n",
    "player_height['height_cm']"
   ]
  },
  {
   "cell_type": "code",
   "execution_count": 47,
   "id": "ccf97331",
   "metadata": {
    "execution": {
     "iopub.execute_input": "2023-05-02T18:47:20.391166Z",
     "iopub.status.busy": "2023-05-02T18:47:20.390459Z",
     "iopub.status.idle": "2023-05-02T18:47:20.937383Z",
     "shell.execute_reply": "2023-05-02T18:47:20.936471Z"
    },
    "papermill": {
     "duration": 0.581157,
     "end_time": "2023-05-02T18:47:20.939974",
     "exception": false,
     "start_time": "2023-05-02T18:47:20.358817",
     "status": "completed"
    },
    "tags": []
   },
   "outputs": [
    {
     "data": {
      "image/png": "[encoded data removed]",
      "text/plain": [
       "<Figure size 500x500 with 1 Axes>"
      ]
     },
     "metadata": {},
     "output_type": "display_data"
    }
   ],
   "source": [
    "# Displot for the height_cm column of the dataset.\n",
    "sns.displot(player_height[\"height_cm\"],color=\"purple\",kde=True)\n",
    "plt.title(\"HEIGHT\",fontsize=15)\n",
    "plt.ylabel('Number of the Players',fontsize=13)\n",
    "plt.xlabel('Height of the Players',fontsize=13)\n",
    "plt.grid(True)\n",
    "plt.show()"
   ]
  },
  {
   "cell_type": "markdown",
   "id": "1ceecefd",
   "metadata": {
    "papermill": {
     "duration": 0.031026,
     "end_time": "2023-05-02T18:47:21.002238",
     "exception": false,
     "start_time": "2023-05-02T18:47:20.971212",
     "status": "completed"
    },
    "tags": []
   },
   "source": [
    "# Who is the heaviest player in the world ?"
   ]
  },
  {
   "cell_type": "code",
   "execution_count": 48,
   "id": "604a283e",
   "metadata": {
    "execution": {
     "iopub.execute_input": "2023-05-02T18:47:21.065958Z",
     "iopub.status.busy": "2023-05-02T18:47:21.065570Z",
     "iopub.status.idle": "2023-05-02T18:47:21.079285Z",
     "shell.execute_reply": "2023-05-02T18:47:21.078324Z"
    },
    "papermill": {
     "duration": 0.047993,
     "end_time": "2023-05-02T18:47:21.081469",
     "exception": false,
     "start_time": "2023-05-02T18:47:21.033476",
     "status": "completed"
    },
    "tags": []
   },
   "outputs": [
    {
     "data": {
      "text/html": [
       "<div>\n",
       "<style scoped>\n",
       "    .dataframe tbody tr th:only-of-type {\n",
       "        vertical-align: middle;\n",
       "    }\n",
       "\n",
       "    .dataframe tbody tr th {\n",
       "        vertical-align: top;\n",
       "    }\n",
       "\n",
       "    .dataframe thead th {\n",
       "        text-align: right;\n",
       "    }\n",
       "</style>\n",
       "<table border=\"1\" class=\"dataframe\">\n",
       "  <thead>\n",
       "    <tr style=\"text-align: right;\">\n",
       "      <th></th>\n",
       "      <th>short_name</th>\n",
       "      <th>weight_kg</th>\n",
       "    </tr>\n",
       "  </thead>\n",
       "  <tbody>\n",
       "    <tr>\n",
       "      <th>0</th>\n",
       "      <td>L. Messi</td>\n",
       "      <td>72</td>\n",
       "    </tr>\n",
       "    <tr>\n",
       "      <th>1</th>\n",
       "      <td>Cristiano Ronaldo</td>\n",
       "      <td>83</td>\n",
       "    </tr>\n",
       "    <tr>\n",
       "      <th>2</th>\n",
       "      <td>Neymar Jr</td>\n",
       "      <td>68</td>\n",
       "    </tr>\n",
       "    <tr>\n",
       "      <th>3</th>\n",
       "      <td>J. Oblak</td>\n",
       "      <td>87</td>\n",
       "    </tr>\n",
       "    <tr>\n",
       "      <th>4</th>\n",
       "      <td>E. Hazard</td>\n",
       "      <td>74</td>\n",
       "    </tr>\n",
       "    <tr>\n",
       "      <th>...</th>\n",
       "      <td>...</td>\n",
       "      <td>...</td>\n",
       "    </tr>\n",
       "    <tr>\n",
       "      <th>18273</th>\n",
       "      <td>Shao Shuai</td>\n",
       "      <td>79</td>\n",
       "    </tr>\n",
       "    <tr>\n",
       "      <th>18274</th>\n",
       "      <td>Xiao Mingjie</td>\n",
       "      <td>66</td>\n",
       "    </tr>\n",
       "    <tr>\n",
       "      <th>18275</th>\n",
       "      <td>Zhang Wei</td>\n",
       "      <td>75</td>\n",
       "    </tr>\n",
       "    <tr>\n",
       "      <th>18276</th>\n",
       "      <td>Wang Haijian</td>\n",
       "      <td>74</td>\n",
       "    </tr>\n",
       "    <tr>\n",
       "      <th>18277</th>\n",
       "      <td>Pan Ximing</td>\n",
       "      <td>78</td>\n",
       "    </tr>\n",
       "  </tbody>\n",
       "</table>\n",
       "<p>18278 rows × 2 columns</p>\n",
       "</div>"
      ],
      "text/plain": [
       "              short_name  weight_kg\n",
       "0               L. Messi         72\n",
       "1      Cristiano Ronaldo         83\n",
       "2              Neymar Jr         68\n",
       "3               J. Oblak         87\n",
       "4              E. Hazard         74\n",
       "...                  ...        ...\n",
       "18273         Shao Shuai         79\n",
       "18274       Xiao Mingjie         66\n",
       "18275          Zhang Wei         75\n",
       "18276       Wang Haijian         74\n",
       "18277         Pan Ximing         78\n",
       "\n",
       "[18278 rows x 2 columns]"
      ]
     },
     "execution_count": 48,
     "metadata": {},
     "output_type": "execute_result"
    }
   ],
   "source": [
    "# Make a new dataset named player_weight of short_name and weight_kg columns.\n",
    "player_weight=fifa[['short_name','weight_kg']]\n",
    "player_weight"
   ]
  },
  {
   "cell_type": "code",
   "execution_count": 49,
   "id": "5145cc62",
   "metadata": {
    "execution": {
     "iopub.execute_input": "2023-05-02T18:47:21.146345Z",
     "iopub.status.busy": "2023-05-02T18:47:21.145600Z",
     "iopub.status.idle": "2023-05-02T18:47:21.154782Z",
     "shell.execute_reply": "2023-05-02T18:47:21.153800Z"
    },
    "papermill": {
     "duration": 0.04451,
     "end_time": "2023-05-02T18:47:21.157012",
     "exception": false,
     "start_time": "2023-05-02T18:47:21.112502",
     "status": "completed"
    },
    "tags": []
   },
   "outputs": [
    {
     "data": {
      "text/html": [
       "<div>\n",
       "<style scoped>\n",
       "    .dataframe tbody tr th:only-of-type {\n",
       "        vertical-align: middle;\n",
       "    }\n",
       "\n",
       "    .dataframe tbody tr th {\n",
       "        vertical-align: top;\n",
       "    }\n",
       "\n",
       "    .dataframe thead th {\n",
       "        text-align: right;\n",
       "    }\n",
       "</style>\n",
       "<table border=\"1\" class=\"dataframe\">\n",
       "  <thead>\n",
       "    <tr style=\"text-align: right;\">\n",
       "      <th></th>\n",
       "      <th>short_name</th>\n",
       "      <th>weight_kg</th>\n",
       "    </tr>\n",
       "  </thead>\n",
       "  <tbody>\n",
       "    <tr>\n",
       "      <th>0</th>\n",
       "      <td>L. Messi</td>\n",
       "      <td>72</td>\n",
       "    </tr>\n",
       "    <tr>\n",
       "      <th>1</th>\n",
       "      <td>Cristiano Ronaldo</td>\n",
       "      <td>83</td>\n",
       "    </tr>\n",
       "    <tr>\n",
       "      <th>2</th>\n",
       "      <td>Neymar Jr</td>\n",
       "      <td>68</td>\n",
       "    </tr>\n",
       "    <tr>\n",
       "      <th>3</th>\n",
       "      <td>J. Oblak</td>\n",
       "      <td>87</td>\n",
       "    </tr>\n",
       "    <tr>\n",
       "      <th>4</th>\n",
       "      <td>E. Hazard</td>\n",
       "      <td>74</td>\n",
       "    </tr>\n",
       "  </tbody>\n",
       "</table>\n",
       "</div>"
      ],
      "text/plain": [
       "          short_name  weight_kg\n",
       "0           L. Messi         72\n",
       "1  Cristiano Ronaldo         83\n",
       "2          Neymar Jr         68\n",
       "3           J. Oblak         87\n",
       "4          E. Hazard         74"
      ]
     },
     "execution_count": 49,
     "metadata": {},
     "output_type": "execute_result"
    }
   ],
   "source": [
    "# Head of the dataset.\n",
    "player_weight.head()"
   ]
  },
  {
   "cell_type": "code",
   "execution_count": 50,
   "id": "e2dd9bd6",
   "metadata": {
    "execution": {
     "iopub.execute_input": "2023-05-02T18:47:21.222189Z",
     "iopub.status.busy": "2023-05-02T18:47:21.221739Z",
     "iopub.status.idle": "2023-05-02T18:47:21.236471Z",
     "shell.execute_reply": "2023-05-02T18:47:21.235350Z"
    },
    "papermill": {
     "duration": 0.04996,
     "end_time": "2023-05-02T18:47:21.238572",
     "exception": false,
     "start_time": "2023-05-02T18:47:21.188612",
     "status": "completed"
    },
    "tags": []
   },
   "outputs": [
    {
     "data": {
      "text/html": [
       "<div>\n",
       "<style scoped>\n",
       "    .dataframe tbody tr th:only-of-type {\n",
       "        vertical-align: middle;\n",
       "    }\n",
       "\n",
       "    .dataframe tbody tr th {\n",
       "        vertical-align: top;\n",
       "    }\n",
       "\n",
       "    .dataframe thead th {\n",
       "        text-align: right;\n",
       "    }\n",
       "</style>\n",
       "<table border=\"1\" class=\"dataframe\">\n",
       "  <thead>\n",
       "    <tr style=\"text-align: right;\">\n",
       "      <th></th>\n",
       "      <th>short_name</th>\n",
       "      <th>weight_kg</th>\n",
       "    </tr>\n",
       "  </thead>\n",
       "  <tbody>\n",
       "    <tr>\n",
       "      <th>10693</th>\n",
       "      <td>A. Akinfenwa</td>\n",
       "      <td>110</td>\n",
       "    </tr>\n",
       "    <tr>\n",
       "      <th>9572</th>\n",
       "      <td>C. Seitz</td>\n",
       "      <td>107</td>\n",
       "    </tr>\n",
       "    <tr>\n",
       "      <th>15064</th>\n",
       "      <td>E. Louro</td>\n",
       "      <td>104</td>\n",
       "    </tr>\n",
       "    <tr>\n",
       "      <th>7439</th>\n",
       "      <td>F. Farnolle</td>\n",
       "      <td>104</td>\n",
       "    </tr>\n",
       "    <tr>\n",
       "      <th>13576</th>\n",
       "      <td>L. Watkowiak</td>\n",
       "      <td>103</td>\n",
       "    </tr>\n",
       "    <tr>\n",
       "      <th>...</th>\n",
       "      <td>...</td>\n",
       "      <td>...</td>\n",
       "    </tr>\n",
       "    <tr>\n",
       "      <th>17078</th>\n",
       "      <td>J. García</td>\n",
       "      <td>53</td>\n",
       "    </tr>\n",
       "    <tr>\n",
       "      <th>10114</th>\n",
       "      <td>Isi Ros</td>\n",
       "      <td>53</td>\n",
       "    </tr>\n",
       "    <tr>\n",
       "      <th>4982</th>\n",
       "      <td>D. Rojas</td>\n",
       "      <td>52</td>\n",
       "    </tr>\n",
       "    <tr>\n",
       "      <th>17022</th>\n",
       "      <td>M. Abdullah</td>\n",
       "      <td>52</td>\n",
       "    </tr>\n",
       "    <tr>\n",
       "      <th>13070</th>\n",
       "      <td>B. Al Mutairi</td>\n",
       "      <td>50</td>\n",
       "    </tr>\n",
       "  </tbody>\n",
       "</table>\n",
       "<p>18278 rows × 2 columns</p>\n",
       "</div>"
      ],
      "text/plain": [
       "          short_name  weight_kg\n",
       "10693   A. Akinfenwa        110\n",
       "9572        C. Seitz        107\n",
       "15064       E. Louro        104\n",
       "7439     F. Farnolle        104\n",
       "13576   L. Watkowiak        103\n",
       "...              ...        ...\n",
       "17078      J. García         53\n",
       "10114        Isi Ros         53\n",
       "4982        D. Rojas         52\n",
       "17022    M. Abdullah         52\n",
       "13070  B. Al Mutairi         50\n",
       "\n",
       "[18278 rows x 2 columns]"
      ]
     },
     "execution_count": 50,
     "metadata": {},
     "output_type": "execute_result"
    }
   ],
   "source": [
    "# Sort the dataset in the descending order of their weight.\n",
    "player_weight=player_weight.sort_values(by='weight_kg',ascending=False)\n",
    "player_weight"
   ]
  },
  {
   "cell_type": "code",
   "execution_count": 51,
   "id": "81348f09",
   "metadata": {
    "execution": {
     "iopub.execute_input": "2023-05-02T18:47:21.302701Z",
     "iopub.status.busy": "2023-05-02T18:47:21.302262Z",
     "iopub.status.idle": "2023-05-02T18:47:21.312753Z",
     "shell.execute_reply": "2023-05-02T18:47:21.311578Z"
    },
    "papermill": {
     "duration": 0.045072,
     "end_time": "2023-05-02T18:47:21.314957",
     "exception": false,
     "start_time": "2023-05-02T18:47:21.269885",
     "status": "completed"
    },
    "tags": []
   },
   "outputs": [
    {
     "data": {
      "text/html": [
       "<div>\n",
       "<style scoped>\n",
       "    .dataframe tbody tr th:only-of-type {\n",
       "        vertical-align: middle;\n",
       "    }\n",
       "\n",
       "    .dataframe tbody tr th {\n",
       "        vertical-align: top;\n",
       "    }\n",
       "\n",
       "    .dataframe thead th {\n",
       "        text-align: right;\n",
       "    }\n",
       "</style>\n",
       "<table border=\"1\" class=\"dataframe\">\n",
       "  <thead>\n",
       "    <tr style=\"text-align: right;\">\n",
       "      <th></th>\n",
       "      <th>short_name</th>\n",
       "      <th>weight_kg</th>\n",
       "    </tr>\n",
       "  </thead>\n",
       "  <tbody>\n",
       "    <tr>\n",
       "      <th>10693</th>\n",
       "      <td>A. Akinfenwa</td>\n",
       "      <td>110</td>\n",
       "    </tr>\n",
       "    <tr>\n",
       "      <th>9572</th>\n",
       "      <td>C. Seitz</td>\n",
       "      <td>107</td>\n",
       "    </tr>\n",
       "    <tr>\n",
       "      <th>15064</th>\n",
       "      <td>E. Louro</td>\n",
       "      <td>104</td>\n",
       "    </tr>\n",
       "    <tr>\n",
       "      <th>7439</th>\n",
       "      <td>F. Farnolle</td>\n",
       "      <td>104</td>\n",
       "    </tr>\n",
       "    <tr>\n",
       "      <th>13576</th>\n",
       "      <td>L. Watkowiak</td>\n",
       "      <td>103</td>\n",
       "    </tr>\n",
       "  </tbody>\n",
       "</table>\n",
       "</div>"
      ],
      "text/plain": [
       "         short_name  weight_kg\n",
       "10693  A. Akinfenwa        110\n",
       "9572       C. Seitz        107\n",
       "15064      E. Louro        104\n",
       "7439    F. Farnolle        104\n",
       "13576  L. Watkowiak        103"
      ]
     },
     "execution_count": 51,
     "metadata": {},
     "output_type": "execute_result"
    }
   ],
   "source": [
    "# Top 5 records of the dataset.\n",
    "player_weight.head()"
   ]
  },
  {
   "cell_type": "code",
   "execution_count": 52,
   "id": "ed754380",
   "metadata": {
    "execution": {
     "iopub.execute_input": "2023-05-02T18:47:21.380472Z",
     "iopub.status.busy": "2023-05-02T18:47:21.380038Z",
     "iopub.status.idle": "2023-05-02T18:47:21.386379Z",
     "shell.execute_reply": "2023-05-02T18:47:21.385646Z"
    },
    "papermill": {
     "duration": 0.041523,
     "end_time": "2023-05-02T18:47:21.388307",
     "exception": false,
     "start_time": "2023-05-02T18:47:21.346784",
     "status": "completed"
    },
    "tags": []
   },
   "outputs": [
    {
     "data": {
      "text/plain": [
       "['A. Akinfenwa', 'C. Seitz', 'E. Louro', 'F. Farnolle', 'L. Watkowiak']"
      ]
     },
     "execution_count": 52,
     "metadata": {},
     "output_type": "execute_result"
    }
   ],
   "source": [
    "# Names of the top 5 heaviest players.\n",
    "list(player_weight['short_name'][0:5])"
   ]
  },
  {
   "cell_type": "code",
   "execution_count": 53,
   "id": "054ac3a2",
   "metadata": {
    "execution": {
     "iopub.execute_input": "2023-05-02T18:47:21.455105Z",
     "iopub.status.busy": "2023-05-02T18:47:21.454708Z",
     "iopub.status.idle": "2023-05-02T18:47:21.462079Z",
     "shell.execute_reply": "2023-05-02T18:47:21.460965Z"
    },
    "papermill": {
     "duration": 0.043617,
     "end_time": "2023-05-02T18:47:21.464067",
     "exception": false,
     "start_time": "2023-05-02T18:47:21.420450",
     "status": "completed"
    },
    "tags": []
   },
   "outputs": [
    {
     "data": {
      "text/plain": [
       "[110, 107, 104, 104, 103]"
      ]
     },
     "execution_count": 53,
     "metadata": {},
     "output_type": "execute_result"
    }
   ],
   "source": [
    "# Weight of the top 5 heaviest players.\n",
    "list(player_weight['weight_kg'][0:5])"
   ]
  },
  {
   "cell_type": "code",
   "execution_count": 54,
   "id": "9406ef32",
   "metadata": {
    "execution": {
     "iopub.execute_input": "2023-05-02T18:47:21.530568Z",
     "iopub.status.busy": "2023-05-02T18:47:21.530151Z",
     "iopub.status.idle": "2023-05-02T18:47:21.745999Z",
     "shell.execute_reply": "2023-05-02T18:47:21.744821Z"
    },
    "papermill": {
     "duration": 0.252042,
     "end_time": "2023-05-02T18:47:21.748637",
     "exception": false,
     "start_time": "2023-05-02T18:47:21.496595",
     "status": "completed"
    },
    "tags": []
   },
   "outputs": [
    {
     "data": {
      "image/png": "[encoded data removed]",
      "text/plain": [
       "<Figure size 640x480 with 1 Axes>"
      ]
     },
     "metadata": {},
     "output_type": "display_data"
    }
   ],
   "source": [
    "# Bar-plot for top 5 heaviest players.\n",
    "mycolors = [\"#9ACD32\", \"#40E0D0\", \"#EE82EE\", \"#8B4513\",'#FF0000']\n",
    "plt.barh(list(player_weight['short_name'][0:5]),list(player_weight['weight_kg'][0:5]),color=mycolors,ec='black',lw=1)\n",
    "plt.title(\"Weight Of the Players\",fontsize=15)\n",
    "plt.xlabel('Weight in kg',fontsize=13)\n",
    "plt.ylabel('Name of the Players',fontsize=13)\n",
    "plt.grid(True)\n",
    "plt.show()"
   ]
  },
  {
   "cell_type": "markdown",
   "id": "e6873e08",
   "metadata": {
    "papermill": {
     "duration": 0.032489,
     "end_time": "2023-05-02T18:47:21.815207",
     "exception": false,
     "start_time": "2023-05-02T18:47:21.782718",
     "status": "completed"
    },
    "tags": []
   },
   "source": [
    "# What is the range of the weight of most of the players ?"
   ]
  },
  {
   "cell_type": "code",
   "execution_count": 55,
   "id": "3c89ea60",
   "metadata": {
    "execution": {
     "iopub.execute_input": "2023-05-02T18:47:21.882906Z",
     "iopub.status.busy": "2023-05-02T18:47:21.882527Z",
     "iopub.status.idle": "2023-05-02T18:47:21.891185Z",
     "shell.execute_reply": "2023-05-02T18:47:21.890237Z"
    },
    "papermill": {
     "duration": 0.04504,
     "end_time": "2023-05-02T18:47:21.893551",
     "exception": false,
     "start_time": "2023-05-02T18:47:21.848511",
     "status": "completed"
    },
    "tags": []
   },
   "outputs": [
    {
     "data": {
      "text/plain": [
       "10693    110\n",
       "9572     107\n",
       "15064    104\n",
       "7439     104\n",
       "13576    103\n",
       "        ... \n",
       "17078     53\n",
       "10114     53\n",
       "4982      52\n",
       "17022     52\n",
       "13070     50\n",
       "Name: weight_kg, Length: 18278, dtype: int64"
      ]
     },
     "execution_count": 55,
     "metadata": {},
     "output_type": "execute_result"
    }
   ],
   "source": [
    "# weight_kg column of the dataset.\n",
    "player_weight['weight_kg']"
   ]
  },
  {
   "cell_type": "code",
   "execution_count": 56,
   "id": "380f7a92",
   "metadata": {
    "execution": {
     "iopub.execute_input": "2023-05-02T18:47:21.961169Z",
     "iopub.status.busy": "2023-05-02T18:47:21.960064Z",
     "iopub.status.idle": "2023-05-02T18:47:22.427275Z",
     "shell.execute_reply": "2023-05-02T18:47:22.426173Z"
    },
    "papermill": {
     "duration": 0.503652,
     "end_time": "2023-05-02T18:47:22.429795",
     "exception": false,
     "start_time": "2023-05-02T18:47:21.926143",
     "status": "completed"
    },
    "tags": []
   },
   "outputs": [
    {
     "data": {
      "image/png": "[encoded data removed]",
      "text/plain": [
       "<Figure size 1000x500 with 1 Axes>"
      ]
     },
     "metadata": {},
     "output_type": "display_data"
    }
   ],
   "source": [
    "# Histogram for the weight_kg column of the dataset.\n",
    "plt.figure(figsize=(10,5))\n",
    "plt.hist(player_weight['weight_kg'],bins=150,color='green')\n",
    "plt.title(\"WEIGHT\",fontsize=15)\n",
    "plt.ylabel('Number of the Players',fontsize=13)\n",
    "plt.xlabel('Weight of the Players',fontsize=13)\n",
    "plt.grid(True)\n",
    "plt.show()"
   ]
  },
  {
   "cell_type": "markdown",
   "id": "42f7dc2f",
   "metadata": {
    "papermill": {
     "duration": 0.032909,
     "end_time": "2023-05-02T18:47:22.496262",
     "exception": false,
     "start_time": "2023-05-02T18:47:22.463353",
     "status": "completed"
    },
    "tags": []
   },
   "source": [
    "# Which Club has most number of the players ?"
   ]
  },
  {
   "cell_type": "code",
   "execution_count": 57,
   "id": "1fcdc7c1",
   "metadata": {
    "execution": {
     "iopub.execute_input": "2023-05-02T18:47:22.565536Z",
     "iopub.status.busy": "2023-05-02T18:47:22.565106Z",
     "iopub.status.idle": "2023-05-02T18:47:22.575691Z",
     "shell.execute_reply": "2023-05-02T18:47:22.574598Z"
    },
    "papermill": {
     "duration": 0.04846,
     "end_time": "2023-05-02T18:47:22.578031",
     "exception": false,
     "start_time": "2023-05-02T18:47:22.529571",
     "status": "completed"
    },
    "tags": []
   },
   "outputs": [
    {
     "data": {
      "text/plain": [
       "FC Barcelona                  33\n",
       "Real Valladolid CF            33\n",
       "VfL Wolfsburg                 33\n",
       "Crystal Palace                33\n",
       "Eintracht Frankfurt           33\n",
       "                              ..\n",
       "US Orléans Loiret Football     1\n",
       "Canada                         1\n",
       "Mexico                         1\n",
       "Turkey                         1\n",
       "Śląsk Wrocław                  1\n",
       "Name: club, Length: 698, dtype: int64"
      ]
     },
     "execution_count": 57,
     "metadata": {},
     "output_type": "execute_result"
    }
   ],
   "source": [
    "# Clubs names and the number of players in each of them.\n",
    "fifa['club'].value_counts()"
   ]
  },
  {
   "cell_type": "code",
   "execution_count": 58,
   "id": "5d111628",
   "metadata": {
    "execution": {
     "iopub.execute_input": "2023-05-02T18:47:22.650442Z",
     "iopub.status.busy": "2023-05-02T18:47:22.649520Z",
     "iopub.status.idle": "2023-05-02T18:47:22.659739Z",
     "shell.execute_reply": "2023-05-02T18:47:22.658727Z"
    },
    "papermill": {
     "duration": 0.048626,
     "end_time": "2023-05-02T18:47:22.662072",
     "exception": false,
     "start_time": "2023-05-02T18:47:22.613446",
     "status": "completed"
    },
    "tags": []
   },
   "outputs": [
    {
     "data": {
      "text/plain": [
       "Index(['FC Barcelona', 'Real Valladolid CF', 'VfL Wolfsburg', 'Crystal Palace',\n",
       "       'Eintracht Frankfurt'],\n",
       "      dtype='object')"
      ]
     },
     "execution_count": 58,
     "metadata": {},
     "output_type": "execute_result"
    }
   ],
   "source": [
    "# Top 5 clubs who have the maximum number of players.\n",
    "fifa['club'].value_counts().index[0:5]"
   ]
  },
  {
   "cell_type": "code",
   "execution_count": 59,
   "id": "9fbf3e81",
   "metadata": {
    "execution": {
     "iopub.execute_input": "2023-05-02T18:47:22.732212Z",
     "iopub.status.busy": "2023-05-02T18:47:22.730908Z",
     "iopub.status.idle": "2023-05-02T18:47:22.976002Z",
     "shell.execute_reply": "2023-05-02T18:47:22.974631Z"
    },
    "papermill": {
     "duration": 0.283055,
     "end_time": "2023-05-02T18:47:22.978652",
     "exception": false,
     "start_time": "2023-05-02T18:47:22.695597",
     "status": "completed"
    },
    "tags": []
   },
   "outputs": [
    {
     "data": {
      "image/png": "[encoded data removed]",
      "text/plain": [
       "<Figure size 1100x500 with 1 Axes>"
      ]
     },
     "metadata": {},
     "output_type": "display_data"
    }
   ],
   "source": [
    "# Count-plot of top 5 club who have the maximum number of players.\n",
    "plt.figure(figsize=(11,5))\n",
    "sns.countplot(y='club',order=fifa['club'].value_counts().index[0:5],data=fifa,palette = \"Set1\",ec='black',lw=1)\n",
    "plt.title('Number of Players in the Club',fontsize=15)\n",
    "plt.grid(True)\n",
    "plt.show()"
   ]
  },
  {
   "cell_type": "markdown",
   "id": "da98293e",
   "metadata": {
    "papermill": {
     "duration": 0.035288,
     "end_time": "2023-05-02T18:47:23.048907",
     "exception": false,
     "start_time": "2023-05-02T18:47:23.013619",
     "status": "completed"
    },
    "tags": []
   },
   "source": [
    "# Which foot is most preferred by the players ?"
   ]
  },
  {
   "cell_type": "code",
   "execution_count": 60,
   "id": "01453721",
   "metadata": {
    "execution": {
     "iopub.execute_input": "2023-05-02T18:47:23.135206Z",
     "iopub.status.busy": "2023-05-02T18:47:23.134531Z",
     "iopub.status.idle": "2023-05-02T18:47:23.145159Z",
     "shell.execute_reply": "2023-05-02T18:47:23.143805Z"
    },
    "papermill": {
     "duration": 0.059606,
     "end_time": "2023-05-02T18:47:23.147557",
     "exception": false,
     "start_time": "2023-05-02T18:47:23.087951",
     "status": "completed"
    },
    "tags": []
   },
   "outputs": [
    {
     "data": {
      "text/plain": [
       "Right    13960\n",
       "Left      4318\n",
       "Name: preferred_foot, dtype: int64"
      ]
     },
     "execution_count": 60,
     "metadata": {},
     "output_type": "execute_result"
    }
   ],
   "source": [
    "# Name of the preferred foot and the number of players in each of them.\n",
    "fifa['preferred_foot'].value_counts()"
   ]
  },
  {
   "cell_type": "code",
   "execution_count": 61,
   "id": "12caf59f",
   "metadata": {
    "execution": {
     "iopub.execute_input": "2023-05-02T18:47:23.221794Z",
     "iopub.status.busy": "2023-05-02T18:47:23.220389Z",
     "iopub.status.idle": "2023-05-02T18:47:23.230918Z",
     "shell.execute_reply": "2023-05-02T18:47:23.229804Z"
    },
    "papermill": {
     "duration": 0.04953,
     "end_time": "2023-05-02T18:47:23.233058",
     "exception": false,
     "start_time": "2023-05-02T18:47:23.183528",
     "status": "completed"
    },
    "tags": []
   },
   "outputs": [
    {
     "data": {
      "text/plain": [
       "Right    13960\n",
       "Left      4318\n",
       "Name: preferred_foot, dtype: int64"
      ]
     },
     "execution_count": 61,
     "metadata": {},
     "output_type": "execute_result"
    }
   ],
   "source": [
    "# Name of the preferred foot and the number of players in each of them.\n",
    "fifa['preferred_foot'].value_counts()[0:5]"
   ]
  },
  {
   "cell_type": "code",
   "execution_count": 62,
   "id": "9708dad9",
   "metadata": {
    "execution": {
     "iopub.execute_input": "2023-05-02T18:47:23.305830Z",
     "iopub.status.busy": "2023-05-02T18:47:23.305436Z",
     "iopub.status.idle": "2023-05-02T18:47:23.514571Z",
     "shell.execute_reply": "2023-05-02T18:47:23.513395Z"
    },
    "papermill": {
     "duration": 0.249266,
     "end_time": "2023-05-02T18:47:23.517310",
     "exception": false,
     "start_time": "2023-05-02T18:47:23.268044",
     "status": "completed"
    },
    "tags": []
   },
   "outputs": [
    {
     "data": {
      "image/png": "[encoded data removed]",
      "text/plain": [
       "<Figure size 700x500 with 1 Axes>"
      ]
     },
     "metadata": {},
     "output_type": "display_data"
    }
   ],
   "source": [
    "# Count-plot for preferred_foot of the players.\n",
    "plt.figure(figsize=(7,5))\n",
    "sns.countplot(x='preferred_foot',order=fifa['preferred_foot'].value_counts().index[0:5],data=fifa,palette =\"Set1\",ec='black',lw=1)\n",
    "plt.title('Preferred Foot',fontsize=15)\n",
    "plt.grid(True)\n",
    "plt.show()"
   ]
  },
  {
   "cell_type": "markdown",
   "id": "6e0a31a1",
   "metadata": {
    "papermill": {
     "duration": 0.035619,
     "end_time": "2023-05-02T18:47:23.593948",
     "exception": false,
     "start_time": "2023-05-02T18:47:23.558329",
     "status": "completed"
    },
    "tags": []
   },
   "source": [
    "# what range of iternational reputation does most of the players have ?"
   ]
  },
  {
   "cell_type": "code",
   "execution_count": 63,
   "id": "29c9045a",
   "metadata": {
    "execution": {
     "iopub.execute_input": "2023-05-02T18:47:23.668412Z",
     "iopub.status.busy": "2023-05-02T18:47:23.667522Z",
     "iopub.status.idle": "2023-05-02T18:47:23.680680Z",
     "shell.execute_reply": "2023-05-02T18:47:23.679473Z"
    },
    "papermill": {
     "duration": 0.053562,
     "end_time": "2023-05-02T18:47:23.683488",
     "exception": false,
     "start_time": "2023-05-02T18:47:23.629926",
     "status": "completed"
    },
    "tags": []
   },
   "outputs": [
    {
     "data": {
      "text/plain": [
       "76.37597111281322"
      ]
     },
     "execution_count": 63,
     "metadata": {},
     "output_type": "execute_result"
    }
   ],
   "source": [
    "# Percentage of players preferred right foot.\n",
    "13960*100/18278"
   ]
  },
  {
   "cell_type": "code",
   "execution_count": 64,
   "id": "7c56bf33",
   "metadata": {
    "execution": {
     "iopub.execute_input": "2023-05-02T18:47:23.759350Z",
     "iopub.status.busy": "2023-05-02T18:47:23.758524Z",
     "iopub.status.idle": "2023-05-02T18:47:23.767307Z",
     "shell.execute_reply": "2023-05-02T18:47:23.766435Z"
    },
    "papermill": {
     "duration": 0.048973,
     "end_time": "2023-05-02T18:47:23.769671",
     "exception": false,
     "start_time": "2023-05-02T18:47:23.720698",
     "status": "completed"
    },
    "tags": []
   },
   "outputs": [
    {
     "data": {
      "text/plain": [
       "0        5\n",
       "1        5\n",
       "2        5\n",
       "3        3\n",
       "4        4\n",
       "        ..\n",
       "18273    1\n",
       "18274    1\n",
       "18275    1\n",
       "18276    1\n",
       "18277    1\n",
       "Name: international_reputation, Length: 18278, dtype: int64"
      ]
     },
     "execution_count": 64,
     "metadata": {},
     "output_type": "execute_result"
    }
   ],
   "source": [
    "# Extract international_reputation columnn of the dataset.\n",
    "fifa['international_reputation']"
   ]
  },
  {
   "cell_type": "code",
   "execution_count": 65,
   "id": "2e411c48",
   "metadata": {
    "execution": {
     "iopub.execute_input": "2023-05-02T18:47:23.855514Z",
     "iopub.status.busy": "2023-05-02T18:47:23.854606Z",
     "iopub.status.idle": "2023-05-02T18:47:24.491466Z",
     "shell.execute_reply": "2023-05-02T18:47:24.490224Z"
    },
    "papermill": {
     "duration": 0.681657,
     "end_time": "2023-05-02T18:47:24.494198",
     "exception": false,
     "start_time": "2023-05-02T18:47:23.812541",
     "status": "completed"
    },
    "tags": []
   },
   "outputs": [
    {
     "data": {
      "image/png": "[encoded data removed]",
      "text/plain": [
       "<Figure size 500x500 with 1 Axes>"
      ]
     },
     "metadata": {},
     "output_type": "display_data"
    }
   ],
   "source": [
    "# Displot for the international_reputation column of the dataset.\n",
    "sns.displot(fifa['international_reputation'],color=\"#8B4513\",kde=True)\n",
    "plt.title(\"INTERNATIONAL REPUTATION\",fontsize=15)\n",
    "plt.ylabel('Number of the Players',fontsize=13)\n",
    "plt.xlabel('International Reputation of the Players',fontsize=13)\n",
    "plt.grid(True)\n",
    "plt.show()"
   ]
  },
  {
   "cell_type": "markdown",
   "id": "1d755a5b",
   "metadata": {
    "papermill": {
     "duration": 0.036828,
     "end_time": "2023-05-02T18:47:24.568323",
     "exception": false,
     "start_time": "2023-05-02T18:47:24.531495",
     "status": "completed"
    },
    "tags": []
   },
   "source": [
    "# Who is the best dribbler in the world ?"
   ]
  },
  {
   "cell_type": "code",
   "execution_count": 66,
   "id": "aead5dc8",
   "metadata": {
    "execution": {
     "iopub.execute_input": "2023-05-02T18:47:24.642776Z",
     "iopub.status.busy": "2023-05-02T18:47:24.641908Z",
     "iopub.status.idle": "2023-05-02T18:47:24.656672Z",
     "shell.execute_reply": "2023-05-02T18:47:24.655612Z"
    },
    "papermill": {
     "duration": 0.054429,
     "end_time": "2023-05-02T18:47:24.658916",
     "exception": false,
     "start_time": "2023-05-02T18:47:24.604487",
     "status": "completed"
    },
    "tags": []
   },
   "outputs": [
    {
     "data": {
      "text/html": [
       "<div>\n",
       "<style scoped>\n",
       "    .dataframe tbody tr th:only-of-type {\n",
       "        vertical-align: middle;\n",
       "    }\n",
       "\n",
       "    .dataframe tbody tr th {\n",
       "        vertical-align: top;\n",
       "    }\n",
       "\n",
       "    .dataframe thead th {\n",
       "        text-align: right;\n",
       "    }\n",
       "</style>\n",
       "<table border=\"1\" class=\"dataframe\">\n",
       "  <thead>\n",
       "    <tr style=\"text-align: right;\">\n",
       "      <th></th>\n",
       "      <th>short_name</th>\n",
       "      <th>dribbling</th>\n",
       "    </tr>\n",
       "  </thead>\n",
       "  <tbody>\n",
       "    <tr>\n",
       "      <th>0</th>\n",
       "      <td>L. Messi</td>\n",
       "      <td>96.0</td>\n",
       "    </tr>\n",
       "    <tr>\n",
       "      <th>1</th>\n",
       "      <td>Cristiano Ronaldo</td>\n",
       "      <td>89.0</td>\n",
       "    </tr>\n",
       "    <tr>\n",
       "      <th>2</th>\n",
       "      <td>Neymar Jr</td>\n",
       "      <td>95.0</td>\n",
       "    </tr>\n",
       "    <tr>\n",
       "      <th>3</th>\n",
       "      <td>J. Oblak</td>\n",
       "      <td>0.0</td>\n",
       "    </tr>\n",
       "    <tr>\n",
       "      <th>4</th>\n",
       "      <td>E. Hazard</td>\n",
       "      <td>94.0</td>\n",
       "    </tr>\n",
       "    <tr>\n",
       "      <th>...</th>\n",
       "      <td>...</td>\n",
       "      <td>...</td>\n",
       "    </tr>\n",
       "    <tr>\n",
       "      <th>18273</th>\n",
       "      <td>Shao Shuai</td>\n",
       "      <td>33.0</td>\n",
       "    </tr>\n",
       "    <tr>\n",
       "      <th>18274</th>\n",
       "      <td>Xiao Mingjie</td>\n",
       "      <td>35.0</td>\n",
       "    </tr>\n",
       "    <tr>\n",
       "      <th>18275</th>\n",
       "      <td>Zhang Wei</td>\n",
       "      <td>45.0</td>\n",
       "    </tr>\n",
       "    <tr>\n",
       "      <th>18276</th>\n",
       "      <td>Wang Haijian</td>\n",
       "      <td>47.0</td>\n",
       "    </tr>\n",
       "    <tr>\n",
       "      <th>18277</th>\n",
       "      <td>Pan Ximing</td>\n",
       "      <td>45.0</td>\n",
       "    </tr>\n",
       "  </tbody>\n",
       "</table>\n",
       "<p>18278 rows × 2 columns</p>\n",
       "</div>"
      ],
      "text/plain": [
       "              short_name  dribbling\n",
       "0               L. Messi       96.0\n",
       "1      Cristiano Ronaldo       89.0\n",
       "2              Neymar Jr       95.0\n",
       "3               J. Oblak        0.0\n",
       "4              E. Hazard       94.0\n",
       "...                  ...        ...\n",
       "18273         Shao Shuai       33.0\n",
       "18274       Xiao Mingjie       35.0\n",
       "18275          Zhang Wei       45.0\n",
       "18276       Wang Haijian       47.0\n",
       "18277         Pan Ximing       45.0\n",
       "\n",
       "[18278 rows x 2 columns]"
      ]
     },
     "execution_count": 66,
     "metadata": {},
     "output_type": "execute_result"
    }
   ],
   "source": [
    "# Create a dataFrame fifa_dribbling with short_name and dribbling columns.\n",
    "fifa_dribbling=fifa[['short_name','dribbling']]\n",
    "fifa_dribbling"
   ]
  },
  {
   "cell_type": "code",
   "execution_count": 67,
   "id": "9c807098",
   "metadata": {
    "execution": {
     "iopub.execute_input": "2023-05-02T18:47:24.733298Z",
     "iopub.status.busy": "2023-05-02T18:47:24.732923Z",
     "iopub.status.idle": "2023-05-02T18:47:24.749063Z",
     "shell.execute_reply": "2023-05-02T18:47:24.747859Z"
    },
    "papermill": {
     "duration": 0.055847,
     "end_time": "2023-05-02T18:47:24.751108",
     "exception": false,
     "start_time": "2023-05-02T18:47:24.695261",
     "status": "completed"
    },
    "tags": []
   },
   "outputs": [
    {
     "data": {
      "text/html": [
       "<div>\n",
       "<style scoped>\n",
       "    .dataframe tbody tr th:only-of-type {\n",
       "        vertical-align: middle;\n",
       "    }\n",
       "\n",
       "    .dataframe tbody tr th {\n",
       "        vertical-align: top;\n",
       "    }\n",
       "\n",
       "    .dataframe thead th {\n",
       "        text-align: right;\n",
       "    }\n",
       "</style>\n",
       "<table border=\"1\" class=\"dataframe\">\n",
       "  <thead>\n",
       "    <tr style=\"text-align: right;\">\n",
       "      <th></th>\n",
       "      <th>short_name</th>\n",
       "      <th>dribbling</th>\n",
       "    </tr>\n",
       "  </thead>\n",
       "  <tbody>\n",
       "    <tr>\n",
       "      <th>0</th>\n",
       "      <td>L. Messi</td>\n",
       "      <td>96.0</td>\n",
       "    </tr>\n",
       "    <tr>\n",
       "      <th>2</th>\n",
       "      <td>Neymar Jr</td>\n",
       "      <td>95.0</td>\n",
       "    </tr>\n",
       "    <tr>\n",
       "      <th>4</th>\n",
       "      <td>E. Hazard</td>\n",
       "      <td>94.0</td>\n",
       "    </tr>\n",
       "    <tr>\n",
       "      <th>41</th>\n",
       "      <td>Bernardo Silva</td>\n",
       "      <td>92.0</td>\n",
       "    </tr>\n",
       "    <tr>\n",
       "      <th>150</th>\n",
       "      <td>Douglas Costa</td>\n",
       "      <td>91.0</td>\n",
       "    </tr>\n",
       "    <tr>\n",
       "      <th>...</th>\n",
       "      <td>...</td>\n",
       "      <td>...</td>\n",
       "    </tr>\n",
       "    <tr>\n",
       "      <th>9856</th>\n",
       "      <td>H. Ilkura</td>\n",
       "      <td>0.0</td>\n",
       "    </tr>\n",
       "    <tr>\n",
       "      <th>2396</th>\n",
       "      <td>A. Talavera</td>\n",
       "      <td>0.0</td>\n",
       "    </tr>\n",
       "    <tr>\n",
       "      <th>2402</th>\n",
       "      <td>D. Padelli</td>\n",
       "      <td>0.0</td>\n",
       "    </tr>\n",
       "    <tr>\n",
       "      <th>14679</th>\n",
       "      <td>B. Şen</td>\n",
       "      <td>0.0</td>\n",
       "    </tr>\n",
       "    <tr>\n",
       "      <th>6683</th>\n",
       "      <td>M. Prévot</td>\n",
       "      <td>0.0</td>\n",
       "    </tr>\n",
       "  </tbody>\n",
       "</table>\n",
       "<p>18278 rows × 2 columns</p>\n",
       "</div>"
      ],
      "text/plain": [
       "           short_name  dribbling\n",
       "0            L. Messi       96.0\n",
       "2           Neymar Jr       95.0\n",
       "4           E. Hazard       94.0\n",
       "41     Bernardo Silva       92.0\n",
       "150     Douglas Costa       91.0\n",
       "...               ...        ...\n",
       "9856        H. Ilkura        0.0\n",
       "2396      A. Talavera        0.0\n",
       "2402       D. Padelli        0.0\n",
       "14679          B. Şen        0.0\n",
       "6683        M. Prévot        0.0\n",
       "\n",
       "[18278 rows x 2 columns]"
      ]
     },
     "execution_count": 67,
     "metadata": {},
     "output_type": "execute_result"
    }
   ],
   "source": [
    "# Sort the dataset in descending order of the dribbling.\n",
    "fifa_dribbling_1=fifa_dribbling.sort_values(by='dribbling',ascending=False)\n",
    "fifa_dribbling_1"
   ]
  },
  {
   "cell_type": "code",
   "execution_count": 68,
   "id": "82a50a18",
   "metadata": {
    "execution": {
     "iopub.execute_input": "2023-05-02T18:47:24.827953Z",
     "iopub.status.busy": "2023-05-02T18:47:24.827532Z",
     "iopub.status.idle": "2023-05-02T18:47:24.839079Z",
     "shell.execute_reply": "2023-05-02T18:47:24.837957Z"
    },
    "papermill": {
     "duration": 0.052395,
     "end_time": "2023-05-02T18:47:24.841209",
     "exception": false,
     "start_time": "2023-05-02T18:47:24.788814",
     "status": "completed"
    },
    "tags": []
   },
   "outputs": [
    {
     "data": {
      "text/html": [
       "<div>\n",
       "<style scoped>\n",
       "    .dataframe tbody tr th:only-of-type {\n",
       "        vertical-align: middle;\n",
       "    }\n",
       "\n",
       "    .dataframe tbody tr th {\n",
       "        vertical-align: top;\n",
       "    }\n",
       "\n",
       "    .dataframe thead th {\n",
       "        text-align: right;\n",
       "    }\n",
       "</style>\n",
       "<table border=\"1\" class=\"dataframe\">\n",
       "  <thead>\n",
       "    <tr style=\"text-align: right;\">\n",
       "      <th></th>\n",
       "      <th>short_name</th>\n",
       "      <th>dribbling</th>\n",
       "    </tr>\n",
       "  </thead>\n",
       "  <tbody>\n",
       "    <tr>\n",
       "      <th>0</th>\n",
       "      <td>L. Messi</td>\n",
       "      <td>96.0</td>\n",
       "    </tr>\n",
       "    <tr>\n",
       "      <th>2</th>\n",
       "      <td>Neymar Jr</td>\n",
       "      <td>95.0</td>\n",
       "    </tr>\n",
       "    <tr>\n",
       "      <th>4</th>\n",
       "      <td>E. Hazard</td>\n",
       "      <td>94.0</td>\n",
       "    </tr>\n",
       "    <tr>\n",
       "      <th>41</th>\n",
       "      <td>Bernardo Silva</td>\n",
       "      <td>92.0</td>\n",
       "    </tr>\n",
       "    <tr>\n",
       "      <th>150</th>\n",
       "      <td>Douglas Costa</td>\n",
       "      <td>91.0</td>\n",
       "    </tr>\n",
       "  </tbody>\n",
       "</table>\n",
       "</div>"
      ],
      "text/plain": [
       "         short_name  dribbling\n",
       "0          L. Messi       96.0\n",
       "2         Neymar Jr       95.0\n",
       "4         E. Hazard       94.0\n",
       "41   Bernardo Silva       92.0\n",
       "150   Douglas Costa       91.0"
      ]
     },
     "execution_count": 68,
     "metadata": {},
     "output_type": "execute_result"
    }
   ],
   "source": [
    "# Top 5 records of the dataset.\n",
    "fifa_dribbling_1[0:5]"
   ]
  },
  {
   "cell_type": "code",
   "execution_count": 69,
   "id": "01d02229",
   "metadata": {
    "execution": {
     "iopub.execute_input": "2023-05-02T18:47:24.917878Z",
     "iopub.status.busy": "2023-05-02T18:47:24.917390Z",
     "iopub.status.idle": "2023-05-02T18:47:24.924494Z",
     "shell.execute_reply": "2023-05-02T18:47:24.923690Z"
    },
    "papermill": {
     "duration": 0.04797,
     "end_time": "2023-05-02T18:47:24.926578",
     "exception": false,
     "start_time": "2023-05-02T18:47:24.878608",
     "status": "completed"
    },
    "tags": []
   },
   "outputs": [
    {
     "data": {
      "text/plain": [
       "['L. Messi', 'Neymar Jr', 'E. Hazard', 'Bernardo Silva', 'Douglas Costa']"
      ]
     },
     "execution_count": 69,
     "metadata": {},
     "output_type": "execute_result"
    }
   ],
   "source": [
    "# Names of top 5 dribblers.\n",
    "x=list(fifa_dribbling_1[0:5][0:5]['short_name'])\n",
    "x"
   ]
  },
  {
   "cell_type": "code",
   "execution_count": 70,
   "id": "d005961a",
   "metadata": {
    "execution": {
     "iopub.execute_input": "2023-05-02T18:47:25.005514Z",
     "iopub.status.busy": "2023-05-02T18:47:25.004683Z",
     "iopub.status.idle": "2023-05-02T18:47:25.012846Z",
     "shell.execute_reply": "2023-05-02T18:47:25.011693Z"
    },
    "papermill": {
     "duration": 0.050186,
     "end_time": "2023-05-02T18:47:25.015138",
     "exception": false,
     "start_time": "2023-05-02T18:47:24.964952",
     "status": "completed"
    },
    "tags": []
   },
   "outputs": [
    {
     "data": {
      "text/plain": [
       "[96.0, 95.0, 94.0, 92.0, 91.0]"
      ]
     },
     "execution_count": 70,
     "metadata": {},
     "output_type": "execute_result"
    }
   ],
   "source": [
    "# point of the top 5 dribblers.\n",
    "y=list(fifa_dribbling_1[0:5][0:5]['dribbling'])\n",
    "y"
   ]
  },
  {
   "cell_type": "code",
   "execution_count": 71,
   "id": "2f8a6620",
   "metadata": {
    "execution": {
     "iopub.execute_input": "2023-05-02T18:47:25.093712Z",
     "iopub.status.busy": "2023-05-02T18:47:25.093282Z",
     "iopub.status.idle": "2023-05-02T18:47:25.313013Z",
     "shell.execute_reply": "2023-05-02T18:47:25.312140Z"
    },
    "papermill": {
     "duration": 0.261649,
     "end_time": "2023-05-02T18:47:25.315026",
     "exception": false,
     "start_time": "2023-05-02T18:47:25.053377",
     "status": "completed"
    },
    "tags": []
   },
   "outputs": [
    {
     "data": {
      "image/png": "[encoded data removed]",
      "text/plain": [
       "<Figure size 1000x500 with 1 Axes>"
      ]
     },
     "metadata": {},
     "output_type": "display_data"
    }
   ],
   "source": [
    "# Bar-plot of top 5 dribblers.\n",
    "plt.figure(figsize=(10,5))\n",
    "plt.bar(x,y,color=['purple','yellow','green','black','red'],ec='black',lw=1)\n",
    "plt.grid(True)\n",
    "plt.title(\"DRIBBLING\",fontsize=15)\n",
    "plt.xlabel('Name of the players',fontsize=13)\n",
    "plt.ylabel('Points of Player',fontsize=13)\n",
    "plt.show()"
   ]
  },
  {
   "cell_type": "markdown",
   "id": "c8337edc",
   "metadata": {
    "papermill": {
     "duration": 0.038588,
     "end_time": "2023-05-02T18:47:25.392283",
     "exception": false,
     "start_time": "2023-05-02T18:47:25.353695",
     "status": "completed"
    },
    "tags": []
   },
   "source": [
    "# Who is the best shooter in the world ? "
   ]
  },
  {
   "cell_type": "code",
   "execution_count": 72,
   "id": "fc247db8",
   "metadata": {
    "execution": {
     "iopub.execute_input": "2023-05-02T18:47:25.472077Z",
     "iopub.status.busy": "2023-05-02T18:47:25.471261Z",
     "iopub.status.idle": "2023-05-02T18:47:25.485971Z",
     "shell.execute_reply": "2023-05-02T18:47:25.484828Z"
    },
    "papermill": {
     "duration": 0.057618,
     "end_time": "2023-05-02T18:47:25.488529",
     "exception": false,
     "start_time": "2023-05-02T18:47:25.430911",
     "status": "completed"
    },
    "tags": []
   },
   "outputs": [
    {
     "data": {
      "text/html": [
       "<div>\n",
       "<style scoped>\n",
       "    .dataframe tbody tr th:only-of-type {\n",
       "        vertical-align: middle;\n",
       "    }\n",
       "\n",
       "    .dataframe tbody tr th {\n",
       "        vertical-align: top;\n",
       "    }\n",
       "\n",
       "    .dataframe thead th {\n",
       "        text-align: right;\n",
       "    }\n",
       "</style>\n",
       "<table border=\"1\" class=\"dataframe\">\n",
       "  <thead>\n",
       "    <tr style=\"text-align: right;\">\n",
       "      <th></th>\n",
       "      <th>short_name</th>\n",
       "      <th>shooting</th>\n",
       "    </tr>\n",
       "  </thead>\n",
       "  <tbody>\n",
       "    <tr>\n",
       "      <th>0</th>\n",
       "      <td>L. Messi</td>\n",
       "      <td>92.0</td>\n",
       "    </tr>\n",
       "    <tr>\n",
       "      <th>1</th>\n",
       "      <td>Cristiano Ronaldo</td>\n",
       "      <td>93.0</td>\n",
       "    </tr>\n",
       "    <tr>\n",
       "      <th>2</th>\n",
       "      <td>Neymar Jr</td>\n",
       "      <td>85.0</td>\n",
       "    </tr>\n",
       "    <tr>\n",
       "      <th>3</th>\n",
       "      <td>J. Oblak</td>\n",
       "      <td>0.0</td>\n",
       "    </tr>\n",
       "    <tr>\n",
       "      <th>4</th>\n",
       "      <td>E. Hazard</td>\n",
       "      <td>83.0</td>\n",
       "    </tr>\n",
       "    <tr>\n",
       "      <th>...</th>\n",
       "      <td>...</td>\n",
       "      <td>...</td>\n",
       "    </tr>\n",
       "    <tr>\n",
       "      <th>18273</th>\n",
       "      <td>Shao Shuai</td>\n",
       "      <td>23.0</td>\n",
       "    </tr>\n",
       "    <tr>\n",
       "      <th>18274</th>\n",
       "      <td>Xiao Mingjie</td>\n",
       "      <td>24.0</td>\n",
       "    </tr>\n",
       "    <tr>\n",
       "      <th>18275</th>\n",
       "      <td>Zhang Wei</td>\n",
       "      <td>35.0</td>\n",
       "    </tr>\n",
       "    <tr>\n",
       "      <th>18276</th>\n",
       "      <td>Wang Haijian</td>\n",
       "      <td>35.0</td>\n",
       "    </tr>\n",
       "    <tr>\n",
       "      <th>18277</th>\n",
       "      <td>Pan Ximing</td>\n",
       "      <td>32.0</td>\n",
       "    </tr>\n",
       "  </tbody>\n",
       "</table>\n",
       "<p>18278 rows × 2 columns</p>\n",
       "</div>"
      ],
      "text/plain": [
       "              short_name  shooting\n",
       "0               L. Messi      92.0\n",
       "1      Cristiano Ronaldo      93.0\n",
       "2              Neymar Jr      85.0\n",
       "3               J. Oblak       0.0\n",
       "4              E. Hazard      83.0\n",
       "...                  ...       ...\n",
       "18273         Shao Shuai      23.0\n",
       "18274       Xiao Mingjie      24.0\n",
       "18275          Zhang Wei      35.0\n",
       "18276       Wang Haijian      35.0\n",
       "18277         Pan Ximing      32.0\n",
       "\n",
       "[18278 rows x 2 columns]"
      ]
     },
     "execution_count": 72,
     "metadata": {},
     "output_type": "execute_result"
    }
   ],
   "source": [
    "# Create a dataFrame fifa_shooting with short_name and shooting columns.\n",
    "fifa_shooting=fifa[['short_name','shooting']]\n",
    "fifa_shooting"
   ]
  },
  {
   "cell_type": "code",
   "execution_count": 73,
   "id": "262b9d7e",
   "metadata": {
    "execution": {
     "iopub.execute_input": "2023-05-02T18:47:25.567617Z",
     "iopub.status.busy": "2023-05-02T18:47:25.567171Z",
     "iopub.status.idle": "2023-05-02T18:47:25.583273Z",
     "shell.execute_reply": "2023-05-02T18:47:25.582212Z"
    },
    "papermill": {
     "duration": 0.058208,
     "end_time": "2023-05-02T18:47:25.585605",
     "exception": false,
     "start_time": "2023-05-02T18:47:25.527397",
     "status": "completed"
    },
    "tags": []
   },
   "outputs": [
    {
     "data": {
      "text/html": [
       "<div>\n",
       "<style scoped>\n",
       "    .dataframe tbody tr th:only-of-type {\n",
       "        vertical-align: middle;\n",
       "    }\n",
       "\n",
       "    .dataframe tbody tr th {\n",
       "        vertical-align: top;\n",
       "    }\n",
       "\n",
       "    .dataframe thead th {\n",
       "        text-align: right;\n",
       "    }\n",
       "</style>\n",
       "<table border=\"1\" class=\"dataframe\">\n",
       "  <thead>\n",
       "    <tr style=\"text-align: right;\">\n",
       "      <th></th>\n",
       "      <th>short_name</th>\n",
       "      <th>shooting</th>\n",
       "    </tr>\n",
       "  </thead>\n",
       "  <tbody>\n",
       "    <tr>\n",
       "      <th>1</th>\n",
       "      <td>Cristiano Ronaldo</td>\n",
       "      <td>93.0</td>\n",
       "    </tr>\n",
       "    <tr>\n",
       "      <th>0</th>\n",
       "      <td>L. Messi</td>\n",
       "      <td>92.0</td>\n",
       "    </tr>\n",
       "    <tr>\n",
       "      <th>12</th>\n",
       "      <td>H. Kane</td>\n",
       "      <td>91.0</td>\n",
       "    </tr>\n",
       "    <tr>\n",
       "      <th>17</th>\n",
       "      <td>S. Agüero</td>\n",
       "      <td>90.0</td>\n",
       "    </tr>\n",
       "    <tr>\n",
       "      <th>19</th>\n",
       "      <td>L. Suárez</td>\n",
       "      <td>89.0</td>\n",
       "    </tr>\n",
       "    <tr>\n",
       "      <th>...</th>\n",
       "      <td>...</td>\n",
       "      <td>...</td>\n",
       "    </tr>\n",
       "    <tr>\n",
       "      <th>15079</th>\n",
       "      <td>H. Al Mansoury</td>\n",
       "      <td>0.0</td>\n",
       "    </tr>\n",
       "    <tr>\n",
       "      <th>12590</th>\n",
       "      <td>T. Guivarch</td>\n",
       "      <td>0.0</td>\n",
       "    </tr>\n",
       "    <tr>\n",
       "      <th>15076</th>\n",
       "      <td>K. Bucker</td>\n",
       "      <td>0.0</td>\n",
       "    </tr>\n",
       "    <tr>\n",
       "      <th>5632</th>\n",
       "      <td>Jairo Farnias</td>\n",
       "      <td>0.0</td>\n",
       "    </tr>\n",
       "    <tr>\n",
       "      <th>16405</th>\n",
       "      <td>J. Truque</td>\n",
       "      <td>0.0</td>\n",
       "    </tr>\n",
       "  </tbody>\n",
       "</table>\n",
       "<p>18278 rows × 2 columns</p>\n",
       "</div>"
      ],
      "text/plain": [
       "              short_name  shooting\n",
       "1      Cristiano Ronaldo      93.0\n",
       "0               L. Messi      92.0\n",
       "12               H. Kane      91.0\n",
       "17             S. Agüero      90.0\n",
       "19             L. Suárez      89.0\n",
       "...                  ...       ...\n",
       "15079     H. Al Mansoury       0.0\n",
       "12590        T. Guivarch       0.0\n",
       "15076          K. Bucker       0.0\n",
       "5632       Jairo Farnias       0.0\n",
       "16405          J. Truque       0.0\n",
       "\n",
       "[18278 rows x 2 columns]"
      ]
     },
     "execution_count": 73,
     "metadata": {},
     "output_type": "execute_result"
    }
   ],
   "source": [
    "# Sort the dataset in descending order of the shooting.\n",
    "fifa_shooting_1=fifa_shooting.sort_values(by=\"shooting\",ascending=False)\n",
    "fifa_shooting_1"
   ]
  },
  {
   "cell_type": "code",
   "execution_count": 74,
   "id": "aa039ab8",
   "metadata": {
    "execution": {
     "iopub.execute_input": "2023-05-02T18:47:25.665373Z",
     "iopub.status.busy": "2023-05-02T18:47:25.664591Z",
     "iopub.status.idle": "2023-05-02T18:47:25.675331Z",
     "shell.execute_reply": "2023-05-02T18:47:25.674297Z"
    },
    "papermill": {
     "duration": 0.053177,
     "end_time": "2023-05-02T18:47:25.677629",
     "exception": false,
     "start_time": "2023-05-02T18:47:25.624452",
     "status": "completed"
    },
    "tags": []
   },
   "outputs": [
    {
     "data": {
      "text/html": [
       "<div>\n",
       "<style scoped>\n",
       "    .dataframe tbody tr th:only-of-type {\n",
       "        vertical-align: middle;\n",
       "    }\n",
       "\n",
       "    .dataframe tbody tr th {\n",
       "        vertical-align: top;\n",
       "    }\n",
       "\n",
       "    .dataframe thead th {\n",
       "        text-align: right;\n",
       "    }\n",
       "</style>\n",
       "<table border=\"1\" class=\"dataframe\">\n",
       "  <thead>\n",
       "    <tr style=\"text-align: right;\">\n",
       "      <th></th>\n",
       "      <th>short_name</th>\n",
       "      <th>shooting</th>\n",
       "    </tr>\n",
       "  </thead>\n",
       "  <tbody>\n",
       "    <tr>\n",
       "      <th>1</th>\n",
       "      <td>Cristiano Ronaldo</td>\n",
       "      <td>93.0</td>\n",
       "    </tr>\n",
       "    <tr>\n",
       "      <th>0</th>\n",
       "      <td>L. Messi</td>\n",
       "      <td>92.0</td>\n",
       "    </tr>\n",
       "    <tr>\n",
       "      <th>12</th>\n",
       "      <td>H. Kane</td>\n",
       "      <td>91.0</td>\n",
       "    </tr>\n",
       "    <tr>\n",
       "      <th>17</th>\n",
       "      <td>S. Agüero</td>\n",
       "      <td>90.0</td>\n",
       "    </tr>\n",
       "    <tr>\n",
       "      <th>19</th>\n",
       "      <td>L. Suárez</td>\n",
       "      <td>89.0</td>\n",
       "    </tr>\n",
       "  </tbody>\n",
       "</table>\n",
       "</div>"
      ],
      "text/plain": [
       "           short_name  shooting\n",
       "1   Cristiano Ronaldo      93.0\n",
       "0            L. Messi      92.0\n",
       "12            H. Kane      91.0\n",
       "17          S. Agüero      90.0\n",
       "19          L. Suárez      89.0"
      ]
     },
     "execution_count": 74,
     "metadata": {},
     "output_type": "execute_result"
    }
   ],
   "source": [
    "# Top 5 records of the dataset.\n",
    "fifa_shooting_1[0:5]"
   ]
  },
  {
   "cell_type": "code",
   "execution_count": 75,
   "id": "5041ac1b",
   "metadata": {
    "execution": {
     "iopub.execute_input": "2023-05-02T18:47:25.759872Z",
     "iopub.status.busy": "2023-05-02T18:47:25.759137Z",
     "iopub.status.idle": "2023-05-02T18:47:25.765881Z",
     "shell.execute_reply": "2023-05-02T18:47:25.765076Z"
    },
    "papermill": {
     "duration": 0.050716,
     "end_time": "2023-05-02T18:47:25.767895",
     "exception": false,
     "start_time": "2023-05-02T18:47:25.717179",
     "status": "completed"
    },
    "tags": []
   },
   "outputs": [
    {
     "data": {
      "text/plain": [
       "['Cristiano Ronaldo', 'L. Messi', 'H. Kane', 'S. Agüero', 'L. Suárez']"
      ]
     },
     "execution_count": 75,
     "metadata": {},
     "output_type": "execute_result"
    }
   ],
   "source": [
    "# Names of top 5 Shooters.\n",
    "x=list(fifa_shooting_1[0:5][0:5]['short_name'])\n",
    "x"
   ]
  },
  {
   "cell_type": "code",
   "execution_count": 76,
   "id": "a205f3be",
   "metadata": {
    "execution": {
     "iopub.execute_input": "2023-05-02T18:47:25.850701Z",
     "iopub.status.busy": "2023-05-02T18:47:25.849928Z",
     "iopub.status.idle": "2023-05-02T18:47:25.857282Z",
     "shell.execute_reply": "2023-05-02T18:47:25.856244Z"
    },
    "papermill": {
     "duration": 0.052163,
     "end_time": "2023-05-02T18:47:25.859532",
     "exception": false,
     "start_time": "2023-05-02T18:47:25.807369",
     "status": "completed"
    },
    "tags": []
   },
   "outputs": [
    {
     "data": {
      "text/plain": [
       "[93.0, 92.0, 91.0, 90.0, 89.0]"
      ]
     },
     "execution_count": 76,
     "metadata": {},
     "output_type": "execute_result"
    }
   ],
   "source": [
    "# point of the top 5 shooters.\n",
    "y=list(fifa_shooting_1[0:5][0:5]['shooting'])\n",
    "y"
   ]
  },
  {
   "cell_type": "code",
   "execution_count": 77,
   "id": "019198d9",
   "metadata": {
    "execution": {
     "iopub.execute_input": "2023-05-02T18:47:25.941818Z",
     "iopub.status.busy": "2023-05-02T18:47:25.941343Z",
     "iopub.status.idle": "2023-05-02T18:47:26.091327Z",
     "shell.execute_reply": "2023-05-02T18:47:26.089753Z"
    },
    "papermill": {
     "duration": 0.196034,
     "end_time": "2023-05-02T18:47:26.095627",
     "exception": false,
     "start_time": "2023-05-02T18:47:25.899593",
     "status": "completed"
    },
    "tags": []
   },
   "outputs": [
    {
     "data": {
      "image/png": "[encoded data removed]",
      "text/plain": [
       "<Figure size 1000x500 with 1 Axes>"
      ]
     },
     "metadata": {},
     "output_type": "display_data"
    }
   ],
   "source": [
    "# Bar-plot of top 5 shooters.\n",
    "plt.figure(figsize=(10,5))\n",
    "plt.bar(x,y,color=['lightgreen','peru','crimson','black','red'],ec='black',lw=1)\n",
    "plt.grid(True)\n",
    "plt.title(\"SHOOTING\",fontsize=15)\n",
    "plt.xlabel('Name of the players',fontsize=13)\n",
    "plt.ylabel('Points of Player',fontsize=13)\n",
    "plt.show()"
   ]
  },
  {
   "cell_type": "markdown",
   "id": "b03727bf",
   "metadata": {
    "papermill": {
     "duration": 0.039476,
     "end_time": "2023-05-02T18:47:26.182731",
     "exception": false,
     "start_time": "2023-05-02T18:47:26.143255",
     "status": "completed"
    },
    "tags": []
   },
   "source": [
    "# Who is the best defender in the world ?"
   ]
  },
  {
   "cell_type": "code",
   "execution_count": 78,
   "id": "8c1074fb",
   "metadata": {
    "execution": {
     "iopub.execute_input": "2023-05-02T18:47:26.262907Z",
     "iopub.status.busy": "2023-05-02T18:47:26.262438Z",
     "iopub.status.idle": "2023-05-02T18:47:26.280127Z",
     "shell.execute_reply": "2023-05-02T18:47:26.278550Z"
    },
    "papermill": {
     "duration": 0.060228,
     "end_time": "2023-05-02T18:47:26.282276",
     "exception": false,
     "start_time": "2023-05-02T18:47:26.222048",
     "status": "completed"
    },
    "tags": []
   },
   "outputs": [
    {
     "data": {
      "text/html": [
       "<div>\n",
       "<style scoped>\n",
       "    .dataframe tbody tr th:only-of-type {\n",
       "        vertical-align: middle;\n",
       "    }\n",
       "\n",
       "    .dataframe tbody tr th {\n",
       "        vertical-align: top;\n",
       "    }\n",
       "\n",
       "    .dataframe thead th {\n",
       "        text-align: right;\n",
       "    }\n",
       "</style>\n",
       "<table border=\"1\" class=\"dataframe\">\n",
       "  <thead>\n",
       "    <tr style=\"text-align: right;\">\n",
       "      <th></th>\n",
       "      <th>short_name</th>\n",
       "      <th>defending</th>\n",
       "    </tr>\n",
       "  </thead>\n",
       "  <tbody>\n",
       "    <tr>\n",
       "      <th>0</th>\n",
       "      <td>L. Messi</td>\n",
       "      <td>39.0</td>\n",
       "    </tr>\n",
       "    <tr>\n",
       "      <th>1</th>\n",
       "      <td>Cristiano Ronaldo</td>\n",
       "      <td>35.0</td>\n",
       "    </tr>\n",
       "    <tr>\n",
       "      <th>2</th>\n",
       "      <td>Neymar Jr</td>\n",
       "      <td>32.0</td>\n",
       "    </tr>\n",
       "    <tr>\n",
       "      <th>3</th>\n",
       "      <td>J. Oblak</td>\n",
       "      <td>0.0</td>\n",
       "    </tr>\n",
       "    <tr>\n",
       "      <th>4</th>\n",
       "      <td>E. Hazard</td>\n",
       "      <td>35.0</td>\n",
       "    </tr>\n",
       "    <tr>\n",
       "      <th>...</th>\n",
       "      <td>...</td>\n",
       "      <td>...</td>\n",
       "    </tr>\n",
       "    <tr>\n",
       "      <th>18273</th>\n",
       "      <td>Shao Shuai</td>\n",
       "      <td>47.0</td>\n",
       "    </tr>\n",
       "    <tr>\n",
       "      <th>18274</th>\n",
       "      <td>Xiao Mingjie</td>\n",
       "      <td>48.0</td>\n",
       "    </tr>\n",
       "    <tr>\n",
       "      <th>18275</th>\n",
       "      <td>Zhang Wei</td>\n",
       "      <td>48.0</td>\n",
       "    </tr>\n",
       "    <tr>\n",
       "      <th>18276</th>\n",
       "      <td>Wang Haijian</td>\n",
       "      <td>45.0</td>\n",
       "    </tr>\n",
       "    <tr>\n",
       "      <th>18277</th>\n",
       "      <td>Pan Ximing</td>\n",
       "      <td>47.0</td>\n",
       "    </tr>\n",
       "  </tbody>\n",
       "</table>\n",
       "<p>18278 rows × 2 columns</p>\n",
       "</div>"
      ],
      "text/plain": [
       "              short_name  defending\n",
       "0               L. Messi       39.0\n",
       "1      Cristiano Ronaldo       35.0\n",
       "2              Neymar Jr       32.0\n",
       "3               J. Oblak        0.0\n",
       "4              E. Hazard       35.0\n",
       "...                  ...        ...\n",
       "18273         Shao Shuai       47.0\n",
       "18274       Xiao Mingjie       48.0\n",
       "18275          Zhang Wei       48.0\n",
       "18276       Wang Haijian       45.0\n",
       "18277         Pan Ximing       47.0\n",
       "\n",
       "[18278 rows x 2 columns]"
      ]
     },
     "execution_count": 78,
     "metadata": {},
     "output_type": "execute_result"
    }
   ],
   "source": [
    "# Create a dataFrame fifa_defender with short_name and defending columns.\n",
    "fifa_defending=fifa[['short_name','defending']]\n",
    "fifa_defending"
   ]
  },
  {
   "cell_type": "code",
   "execution_count": 79,
   "id": "b0e42ecd",
   "metadata": {
    "execution": {
     "iopub.execute_input": "2023-05-02T18:47:26.365282Z",
     "iopub.status.busy": "2023-05-02T18:47:26.364082Z",
     "iopub.status.idle": "2023-05-02T18:47:26.380107Z",
     "shell.execute_reply": "2023-05-02T18:47:26.379089Z"
    },
    "papermill": {
     "duration": 0.059622,
     "end_time": "2023-05-02T18:47:26.382460",
     "exception": false,
     "start_time": "2023-05-02T18:47:26.322838",
     "status": "completed"
    },
    "tags": []
   },
   "outputs": [
    {
     "data": {
      "text/html": [
       "<div>\n",
       "<style scoped>\n",
       "    .dataframe tbody tr th:only-of-type {\n",
       "        vertical-align: middle;\n",
       "    }\n",
       "\n",
       "    .dataframe tbody tr th {\n",
       "        vertical-align: top;\n",
       "    }\n",
       "\n",
       "    .dataframe thead th {\n",
       "        text-align: right;\n",
       "    }\n",
       "</style>\n",
       "<table border=\"1\" class=\"dataframe\">\n",
       "  <thead>\n",
       "    <tr style=\"text-align: right;\">\n",
       "      <th></th>\n",
       "      <th>short_name</th>\n",
       "      <th>defending</th>\n",
       "    </tr>\n",
       "  </thead>\n",
       "  <tbody>\n",
       "    <tr>\n",
       "      <th>16</th>\n",
       "      <td>G. Chiellini</td>\n",
       "      <td>90.0</td>\n",
       "    </tr>\n",
       "    <tr>\n",
       "      <th>7</th>\n",
       "      <td>V. van Dijk</td>\n",
       "      <td>90.0</td>\n",
       "    </tr>\n",
       "    <tr>\n",
       "      <th>35</th>\n",
       "      <td>D. Godín</td>\n",
       "      <td>89.0</td>\n",
       "    </tr>\n",
       "    <tr>\n",
       "      <th>11</th>\n",
       "      <td>K. Koulibaly</td>\n",
       "      <td>89.0</td>\n",
       "    </tr>\n",
       "    <tr>\n",
       "      <th>49</th>\n",
       "      <td>M. Hummels</td>\n",
       "      <td>89.0</td>\n",
       "    </tr>\n",
       "    <tr>\n",
       "      <th>...</th>\n",
       "      <td>...</td>\n",
       "      <td>...</td>\n",
       "    </tr>\n",
       "    <tr>\n",
       "      <th>12767</th>\n",
       "      <td>R. Wulle</td>\n",
       "      <td>0.0</td>\n",
       "    </tr>\n",
       "    <tr>\n",
       "      <th>16912</th>\n",
       "      <td>A. Fisher</td>\n",
       "      <td>0.0</td>\n",
       "    </tr>\n",
       "    <tr>\n",
       "      <th>15786</th>\n",
       "      <td>K. Szymański</td>\n",
       "      <td>0.0</td>\n",
       "    </tr>\n",
       "    <tr>\n",
       "      <th>16910</th>\n",
       "      <td>H. Al Watyan</td>\n",
       "      <td>0.0</td>\n",
       "    </tr>\n",
       "    <tr>\n",
       "      <th>4337</th>\n",
       "      <td>Helton Leite</td>\n",
       "      <td>0.0</td>\n",
       "    </tr>\n",
       "  </tbody>\n",
       "</table>\n",
       "<p>18278 rows × 2 columns</p>\n",
       "</div>"
      ],
      "text/plain": [
       "         short_name  defending\n",
       "16     G. Chiellini       90.0\n",
       "7       V. van Dijk       90.0\n",
       "35         D. Godín       89.0\n",
       "11     K. Koulibaly       89.0\n",
       "49       M. Hummels       89.0\n",
       "...             ...        ...\n",
       "12767      R. Wulle        0.0\n",
       "16912     A. Fisher        0.0\n",
       "15786  K. Szymański        0.0\n",
       "16910  H. Al Watyan        0.0\n",
       "4337   Helton Leite        0.0\n",
       "\n",
       "[18278 rows x 2 columns]"
      ]
     },
     "execution_count": 79,
     "metadata": {},
     "output_type": "execute_result"
    }
   ],
   "source": [
    "# Sort the dataset in descending order of the defending.\n",
    "fifa_defending_1=fifa_defending.sort_values(by=\"defending\",ascending=False)\n",
    "fifa_defending_1"
   ]
  },
  {
   "cell_type": "code",
   "execution_count": 80,
   "id": "f5e5ef2a",
   "metadata": {
    "execution": {
     "iopub.execute_input": "2023-05-02T18:47:26.465787Z",
     "iopub.status.busy": "2023-05-02T18:47:26.464632Z",
     "iopub.status.idle": "2023-05-02T18:47:26.476129Z",
     "shell.execute_reply": "2023-05-02T18:47:26.475164Z"
    },
    "papermill": {
     "duration": 0.055412,
     "end_time": "2023-05-02T18:47:26.478163",
     "exception": false,
     "start_time": "2023-05-02T18:47:26.422751",
     "status": "completed"
    },
    "tags": []
   },
   "outputs": [
    {
     "data": {
      "text/html": [
       "<div>\n",
       "<style scoped>\n",
       "    .dataframe tbody tr th:only-of-type {\n",
       "        vertical-align: middle;\n",
       "    }\n",
       "\n",
       "    .dataframe tbody tr th {\n",
       "        vertical-align: top;\n",
       "    }\n",
       "\n",
       "    .dataframe thead th {\n",
       "        text-align: right;\n",
       "    }\n",
       "</style>\n",
       "<table border=\"1\" class=\"dataframe\">\n",
       "  <thead>\n",
       "    <tr style=\"text-align: right;\">\n",
       "      <th></th>\n",
       "      <th>short_name</th>\n",
       "      <th>defending</th>\n",
       "    </tr>\n",
       "  </thead>\n",
       "  <tbody>\n",
       "    <tr>\n",
       "      <th>16</th>\n",
       "      <td>G. Chiellini</td>\n",
       "      <td>90.0</td>\n",
       "    </tr>\n",
       "    <tr>\n",
       "      <th>7</th>\n",
       "      <td>V. van Dijk</td>\n",
       "      <td>90.0</td>\n",
       "    </tr>\n",
       "    <tr>\n",
       "      <th>35</th>\n",
       "      <td>D. Godín</td>\n",
       "      <td>89.0</td>\n",
       "    </tr>\n",
       "    <tr>\n",
       "      <th>11</th>\n",
       "      <td>K. Koulibaly</td>\n",
       "      <td>89.0</td>\n",
       "    </tr>\n",
       "    <tr>\n",
       "      <th>49</th>\n",
       "      <td>M. Hummels</td>\n",
       "      <td>89.0</td>\n",
       "    </tr>\n",
       "  </tbody>\n",
       "</table>\n",
       "</div>"
      ],
      "text/plain": [
       "      short_name  defending\n",
       "16  G. Chiellini       90.0\n",
       "7    V. van Dijk       90.0\n",
       "35      D. Godín       89.0\n",
       "11  K. Koulibaly       89.0\n",
       "49    M. Hummels       89.0"
      ]
     },
     "execution_count": 80,
     "metadata": {},
     "output_type": "execute_result"
    }
   ],
   "source": [
    "# Top 5 records of the dataset.\n",
    "fifa_defending_1[0:5]"
   ]
  },
  {
   "cell_type": "code",
   "execution_count": 81,
   "id": "46d0b4c1",
   "metadata": {
    "execution": {
     "iopub.execute_input": "2023-05-02T18:47:26.629838Z",
     "iopub.status.busy": "2023-05-02T18:47:26.629101Z",
     "iopub.status.idle": "2023-05-02T18:47:26.637136Z",
     "shell.execute_reply": "2023-05-02T18:47:26.635913Z"
    },
    "papermill": {
     "duration": 0.120011,
     "end_time": "2023-05-02T18:47:26.639496",
     "exception": false,
     "start_time": "2023-05-02T18:47:26.519485",
     "status": "completed"
    },
    "tags": []
   },
   "outputs": [
    {
     "data": {
      "text/plain": [
       "['G. Chiellini', 'V. van Dijk', 'D. Godín', 'K. Koulibaly', 'M. Hummels']"
      ]
     },
     "execution_count": 81,
     "metadata": {},
     "output_type": "execute_result"
    }
   ],
   "source": [
    "# Names of top 5 defenders.\n",
    "x=list(fifa_defending_1[0:5][0:5]['short_name'])\n",
    "x"
   ]
  },
  {
   "cell_type": "code",
   "execution_count": 82,
   "id": "fa04b619",
   "metadata": {
    "execution": {
     "iopub.execute_input": "2023-05-02T18:47:26.724762Z",
     "iopub.status.busy": "2023-05-02T18:47:26.723996Z",
     "iopub.status.idle": "2023-05-02T18:47:26.730733Z",
     "shell.execute_reply": "2023-05-02T18:47:26.729982Z"
    },
    "papermill": {
     "duration": 0.051085,
     "end_time": "2023-05-02T18:47:26.732668",
     "exception": false,
     "start_time": "2023-05-02T18:47:26.681583",
     "status": "completed"
    },
    "tags": []
   },
   "outputs": [
    {
     "data": {
      "text/plain": [
       "[90.0, 90.0, 89.0, 89.0, 89.0]"
      ]
     },
     "execution_count": 82,
     "metadata": {},
     "output_type": "execute_result"
    }
   ],
   "source": [
    "# point of the top 5 defender.\n",
    "y=list(fifa_defending_1[0:5][0:5]['defending'])\n",
    "y"
   ]
  },
  {
   "cell_type": "code",
   "execution_count": 83,
   "id": "ac3715d3",
   "metadata": {
    "execution": {
     "iopub.execute_input": "2023-05-02T18:47:26.817026Z",
     "iopub.status.busy": "2023-05-02T18:47:26.816235Z",
     "iopub.status.idle": "2023-05-02T18:47:27.022473Z",
     "shell.execute_reply": "2023-05-02T18:47:27.021516Z"
    },
    "papermill": {
     "duration": 0.251192,
     "end_time": "2023-05-02T18:47:27.024846",
     "exception": false,
     "start_time": "2023-05-02T18:47:26.773654",
     "status": "completed"
    },
    "tags": []
   },
   "outputs": [
    {
     "data": {
      "image/png": "[encoded data removed]",
      "text/plain": [
       "<Figure size 1000x500 with 1 Axes>"
      ]
     },
     "metadata": {},
     "output_type": "display_data"
    }
   ],
   "source": [
    "# Bar-plot of top 5 shooters.\n",
    "plt.figure(figsize=(10,5))\n",
    "plt.bar(x,y,color=['mediumspringgreen','gold','crimson','tomato','cyan'],ec='black',lw=1)\n",
    "plt.grid(True)\n",
    "plt.title(\"DEFENDING\",fontsize=15)\n",
    "plt.xlabel('Name of the players',fontsize=13)\n",
    "plt.ylabel('Points of Player',fontsize=13)\n",
    "plt.show()"
   ]
  },
  {
   "cell_type": "markdown",
   "id": "330e5427",
   "metadata": {
    "papermill": {
     "duration": 0.041694,
     "end_time": "2023-05-02T18:47:27.109181",
     "exception": false,
     "start_time": "2023-05-02T18:47:27.067487",
     "status": "completed"
    },
    "tags": []
   },
   "source": [
    "# Which goalkeeper has the best reflexes in the world ?"
   ]
  },
  {
   "cell_type": "code",
   "execution_count": 84,
   "id": "ca52d7af",
   "metadata": {
    "execution": {
     "iopub.execute_input": "2023-05-02T18:47:27.196576Z",
     "iopub.status.busy": "2023-05-02T18:47:27.196106Z",
     "iopub.status.idle": "2023-05-02T18:47:27.209808Z",
     "shell.execute_reply": "2023-05-02T18:47:27.208787Z"
    },
    "papermill": {
     "duration": 0.060571,
     "end_time": "2023-05-02T18:47:27.212211",
     "exception": false,
     "start_time": "2023-05-02T18:47:27.151640",
     "status": "completed"
    },
    "tags": []
   },
   "outputs": [
    {
     "data": {
      "text/html": [
       "<div>\n",
       "<style scoped>\n",
       "    .dataframe tbody tr th:only-of-type {\n",
       "        vertical-align: middle;\n",
       "    }\n",
       "\n",
       "    .dataframe tbody tr th {\n",
       "        vertical-align: top;\n",
       "    }\n",
       "\n",
       "    .dataframe thead th {\n",
       "        text-align: right;\n",
       "    }\n",
       "</style>\n",
       "<table border=\"1\" class=\"dataframe\">\n",
       "  <thead>\n",
       "    <tr style=\"text-align: right;\">\n",
       "      <th></th>\n",
       "      <th>short_name</th>\n",
       "      <th>gk_reflexes</th>\n",
       "    </tr>\n",
       "  </thead>\n",
       "  <tbody>\n",
       "    <tr>\n",
       "      <th>0</th>\n",
       "      <td>L. Messi</td>\n",
       "      <td>0.0</td>\n",
       "    </tr>\n",
       "    <tr>\n",
       "      <th>1</th>\n",
       "      <td>Cristiano Ronaldo</td>\n",
       "      <td>0.0</td>\n",
       "    </tr>\n",
       "    <tr>\n",
       "      <th>2</th>\n",
       "      <td>Neymar Jr</td>\n",
       "      <td>0.0</td>\n",
       "    </tr>\n",
       "    <tr>\n",
       "      <th>3</th>\n",
       "      <td>J. Oblak</td>\n",
       "      <td>89.0</td>\n",
       "    </tr>\n",
       "    <tr>\n",
       "      <th>4</th>\n",
       "      <td>E. Hazard</td>\n",
       "      <td>0.0</td>\n",
       "    </tr>\n",
       "    <tr>\n",
       "      <th>...</th>\n",
       "      <td>...</td>\n",
       "      <td>...</td>\n",
       "    </tr>\n",
       "    <tr>\n",
       "      <th>18273</th>\n",
       "      <td>Shao Shuai</td>\n",
       "      <td>0.0</td>\n",
       "    </tr>\n",
       "    <tr>\n",
       "      <th>18274</th>\n",
       "      <td>Xiao Mingjie</td>\n",
       "      <td>0.0</td>\n",
       "    </tr>\n",
       "    <tr>\n",
       "      <th>18275</th>\n",
       "      <td>Zhang Wei</td>\n",
       "      <td>0.0</td>\n",
       "    </tr>\n",
       "    <tr>\n",
       "      <th>18276</th>\n",
       "      <td>Wang Haijian</td>\n",
       "      <td>0.0</td>\n",
       "    </tr>\n",
       "    <tr>\n",
       "      <th>18277</th>\n",
       "      <td>Pan Ximing</td>\n",
       "      <td>0.0</td>\n",
       "    </tr>\n",
       "  </tbody>\n",
       "</table>\n",
       "<p>18278 rows × 2 columns</p>\n",
       "</div>"
      ],
      "text/plain": [
       "              short_name  gk_reflexes\n",
       "0               L. Messi          0.0\n",
       "1      Cristiano Ronaldo          0.0\n",
       "2              Neymar Jr          0.0\n",
       "3               J. Oblak         89.0\n",
       "4              E. Hazard          0.0\n",
       "...                  ...          ...\n",
       "18273         Shao Shuai          0.0\n",
       "18274       Xiao Mingjie          0.0\n",
       "18275          Zhang Wei          0.0\n",
       "18276       Wang Haijian          0.0\n",
       "18277         Pan Ximing          0.0\n",
       "\n",
       "[18278 rows x 2 columns]"
      ]
     },
     "execution_count": 84,
     "metadata": {},
     "output_type": "execute_result"
    }
   ],
   "source": [
    "# Create a dataFrame fifa_gk_reflexes with short_name and gk_reflexes columns.\n",
    "fifa_gk_reflexes=fifa[['short_name','gk_reflexes']]\n",
    "fifa_gk_reflexes"
   ]
  },
  {
   "cell_type": "code",
   "execution_count": 85,
   "id": "9fb913e6",
   "metadata": {
    "execution": {
     "iopub.execute_input": "2023-05-02T18:47:27.297545Z",
     "iopub.status.busy": "2023-05-02T18:47:27.296880Z",
     "iopub.status.idle": "2023-05-02T18:47:27.312276Z",
     "shell.execute_reply": "2023-05-02T18:47:27.311149Z"
    },
    "papermill": {
     "duration": 0.060741,
     "end_time": "2023-05-02T18:47:27.314437",
     "exception": false,
     "start_time": "2023-05-02T18:47:27.253696",
     "status": "completed"
    },
    "tags": []
   },
   "outputs": [
    {
     "data": {
      "text/html": [
       "<div>\n",
       "<style scoped>\n",
       "    .dataframe tbody tr th:only-of-type {\n",
       "        vertical-align: middle;\n",
       "    }\n",
       "\n",
       "    .dataframe tbody tr th {\n",
       "        vertical-align: top;\n",
       "    }\n",
       "\n",
       "    .dataframe thead th {\n",
       "        text-align: right;\n",
       "    }\n",
       "</style>\n",
       "<table border=\"1\" class=\"dataframe\">\n",
       "  <thead>\n",
       "    <tr style=\"text-align: right;\">\n",
       "      <th></th>\n",
       "      <th>short_name</th>\n",
       "      <th>gk_reflexes</th>\n",
       "    </tr>\n",
       "  </thead>\n",
       "  <tbody>\n",
       "    <tr>\n",
       "      <th>14</th>\n",
       "      <td>De Gea</td>\n",
       "      <td>92.0</td>\n",
       "    </tr>\n",
       "    <tr>\n",
       "      <th>32</th>\n",
       "      <td>H. Lloris</td>\n",
       "      <td>91.0</td>\n",
       "    </tr>\n",
       "    <tr>\n",
       "      <th>74</th>\n",
       "      <td>G. Donnarumma</td>\n",
       "      <td>90.0</td>\n",
       "    </tr>\n",
       "    <tr>\n",
       "      <th>6</th>\n",
       "      <td>M. ter Stegen</td>\n",
       "      <td>90.0</td>\n",
       "    </tr>\n",
       "    <tr>\n",
       "      <th>53</th>\n",
       "      <td>K. Navas</td>\n",
       "      <td>90.0</td>\n",
       "    </tr>\n",
       "    <tr>\n",
       "      <th>...</th>\n",
       "      <td>...</td>\n",
       "      <td>...</td>\n",
       "    </tr>\n",
       "    <tr>\n",
       "      <th>6384</th>\n",
       "      <td>M. D'Alessandro</td>\n",
       "      <td>0.0</td>\n",
       "    </tr>\n",
       "    <tr>\n",
       "      <th>6386</th>\n",
       "      <td>J. Chibuike</td>\n",
       "      <td>0.0</td>\n",
       "    </tr>\n",
       "    <tr>\n",
       "      <th>6387</th>\n",
       "      <td>Lionn</td>\n",
       "      <td>0.0</td>\n",
       "    </tr>\n",
       "    <tr>\n",
       "      <th>6388</th>\n",
       "      <td>M. Abubakari</td>\n",
       "      <td>0.0</td>\n",
       "    </tr>\n",
       "    <tr>\n",
       "      <th>18277</th>\n",
       "      <td>Pan Ximing</td>\n",
       "      <td>0.0</td>\n",
       "    </tr>\n",
       "  </tbody>\n",
       "</table>\n",
       "<p>18278 rows × 2 columns</p>\n",
       "</div>"
      ],
      "text/plain": [
       "            short_name  gk_reflexes\n",
       "14              De Gea         92.0\n",
       "32           H. Lloris         91.0\n",
       "74       G. Donnarumma         90.0\n",
       "6        M. ter Stegen         90.0\n",
       "53            K. Navas         90.0\n",
       "...                ...          ...\n",
       "6384   M. D'Alessandro          0.0\n",
       "6386       J. Chibuike          0.0\n",
       "6387             Lionn          0.0\n",
       "6388      M. Abubakari          0.0\n",
       "18277       Pan Ximing          0.0\n",
       "\n",
       "[18278 rows x 2 columns]"
      ]
     },
     "execution_count": 85,
     "metadata": {},
     "output_type": "execute_result"
    }
   ],
   "source": [
    "# Sort the dataset in descending order of the gk_reflexes.\n",
    "fifa_gk_reflexes_1=fifa_gk_reflexes.sort_values(by=\"gk_reflexes\",ascending=False)\n",
    "fifa_gk_reflexes_1"
   ]
  },
  {
   "cell_type": "code",
   "execution_count": 86,
   "id": "36755555",
   "metadata": {
    "execution": {
     "iopub.execute_input": "2023-05-02T18:47:27.401666Z",
     "iopub.status.busy": "2023-05-02T18:47:27.400939Z",
     "iopub.status.idle": "2023-05-02T18:47:27.411757Z",
     "shell.execute_reply": "2023-05-02T18:47:27.410750Z"
    },
    "papermill": {
     "duration": 0.057097,
     "end_time": "2023-05-02T18:47:27.413871",
     "exception": false,
     "start_time": "2023-05-02T18:47:27.356774",
     "status": "completed"
    },
    "tags": []
   },
   "outputs": [
    {
     "data": {
      "text/html": [
       "<div>\n",
       "<style scoped>\n",
       "    .dataframe tbody tr th:only-of-type {\n",
       "        vertical-align: middle;\n",
       "    }\n",
       "\n",
       "    .dataframe tbody tr th {\n",
       "        vertical-align: top;\n",
       "    }\n",
       "\n",
       "    .dataframe thead th {\n",
       "        text-align: right;\n",
       "    }\n",
       "</style>\n",
       "<table border=\"1\" class=\"dataframe\">\n",
       "  <thead>\n",
       "    <tr style=\"text-align: right;\">\n",
       "      <th></th>\n",
       "      <th>short_name</th>\n",
       "      <th>gk_reflexes</th>\n",
       "    </tr>\n",
       "  </thead>\n",
       "  <tbody>\n",
       "    <tr>\n",
       "      <th>14</th>\n",
       "      <td>De Gea</td>\n",
       "      <td>92.0</td>\n",
       "    </tr>\n",
       "    <tr>\n",
       "      <th>32</th>\n",
       "      <td>H. Lloris</td>\n",
       "      <td>91.0</td>\n",
       "    </tr>\n",
       "    <tr>\n",
       "      <th>74</th>\n",
       "      <td>G. Donnarumma</td>\n",
       "      <td>90.0</td>\n",
       "    </tr>\n",
       "    <tr>\n",
       "      <th>6</th>\n",
       "      <td>M. ter Stegen</td>\n",
       "      <td>90.0</td>\n",
       "    </tr>\n",
       "    <tr>\n",
       "      <th>53</th>\n",
       "      <td>K. Navas</td>\n",
       "      <td>90.0</td>\n",
       "    </tr>\n",
       "  </tbody>\n",
       "</table>\n",
       "</div>"
      ],
      "text/plain": [
       "       short_name  gk_reflexes\n",
       "14         De Gea         92.0\n",
       "32      H. Lloris         91.0\n",
       "74  G. Donnarumma         90.0\n",
       "6   M. ter Stegen         90.0\n",
       "53       K. Navas         90.0"
      ]
     },
     "execution_count": 86,
     "metadata": {},
     "output_type": "execute_result"
    }
   ],
   "source": [
    "# Top 5 records of the dataset.\n",
    "fifa_gk_reflexes_1[0:5]"
   ]
  },
  {
   "cell_type": "code",
   "execution_count": 87,
   "id": "afb72989",
   "metadata": {
    "execution": {
     "iopub.execute_input": "2023-05-02T18:47:27.502423Z",
     "iopub.status.busy": "2023-05-02T18:47:27.501255Z",
     "iopub.status.idle": "2023-05-02T18:47:27.508486Z",
     "shell.execute_reply": "2023-05-02T18:47:27.507658Z"
    },
    "papermill": {
     "duration": 0.053362,
     "end_time": "2023-05-02T18:47:27.510549",
     "exception": false,
     "start_time": "2023-05-02T18:47:27.457187",
     "status": "completed"
    },
    "tags": []
   },
   "outputs": [
    {
     "data": {
      "text/plain": [
       "['De Gea', 'H. Lloris', 'G. Donnarumma', 'M. ter Stegen', 'K. Navas']"
      ]
     },
     "execution_count": 87,
     "metadata": {},
     "output_type": "execute_result"
    }
   ],
   "source": [
    "# Names of top 5 goalkeepers with best reflexes.\n",
    "x=list(fifa_gk_reflexes_1[0:5][0:5]['short_name'])\n",
    "x"
   ]
  },
  {
   "cell_type": "code",
   "execution_count": 88,
   "id": "2243f8d4",
   "metadata": {
    "execution": {
     "iopub.execute_input": "2023-05-02T18:47:27.598716Z",
     "iopub.status.busy": "2023-05-02T18:47:27.597962Z",
     "iopub.status.idle": "2023-05-02T18:47:27.605062Z",
     "shell.execute_reply": "2023-05-02T18:47:27.604125Z"
    },
    "papermill": {
     "duration": 0.053442,
     "end_time": "2023-05-02T18:47:27.607065",
     "exception": false,
     "start_time": "2023-05-02T18:47:27.553623",
     "status": "completed"
    },
    "tags": []
   },
   "outputs": [
    {
     "data": {
      "text/plain": [
       "[92.0, 91.0, 90.0, 90.0, 90.0]"
      ]
     },
     "execution_count": 88,
     "metadata": {},
     "output_type": "execute_result"
    }
   ],
   "source": [
    "# point of the top 5 goalkeepers with best reflexes .\n",
    "y=list(fifa_gk_reflexes_1[0:5][0:5]['gk_reflexes'])\n",
    "y"
   ]
  },
  {
   "cell_type": "code",
   "execution_count": 89,
   "id": "4da5f496",
   "metadata": {
    "execution": {
     "iopub.execute_input": "2023-05-02T18:47:27.695381Z",
     "iopub.status.busy": "2023-05-02T18:47:27.694787Z",
     "iopub.status.idle": "2023-05-02T18:47:27.910117Z",
     "shell.execute_reply": "2023-05-02T18:47:27.908936Z"
    },
    "papermill": {
     "duration": 0.262256,
     "end_time": "2023-05-02T18:47:27.912477",
     "exception": false,
     "start_time": "2023-05-02T18:47:27.650221",
     "status": "completed"
    },
    "tags": []
   },
   "outputs": [
    {
     "data": {
      "image/png": "[encoded data removed]",
      "text/plain": [
       "<Figure size 1000x500 with 1 Axes>"
      ]
     },
     "metadata": {},
     "output_type": "display_data"
    }
   ],
   "source": [
    "# Bar-plot of top 5 goalkeepers with best reflexes.\n",
    "plt.figure(figsize=(10,5))\n",
    "plt.bar(x,y,color=['darkviolet','magenta','rosybrown','darkorange','lawngreen'],ec='black',lw=1)\n",
    "plt.grid(True)\n",
    "plt.title(\"GOALKEEPER REFLEXEX\",fontsize=15)\n",
    "plt.xlabel('Name of the players',fontsize=13)\n",
    "plt.ylabel('Points of Player',fontsize=13)\n",
    "plt.show()"
   ]
  },
  {
   "cell_type": "markdown",
   "id": "ea9cf4ed",
   "metadata": {
    "papermill": {
     "duration": 0.043061,
     "end_time": "2023-05-02T18:47:27.999342",
     "exception": false,
     "start_time": "2023-05-02T18:47:27.956281",
     "status": "completed"
    },
    "tags": []
   },
   "source": [
    "# SUMMARY"
   ]
  },
  {
   "cell_type": "markdown",
   "id": "c83f9d85",
   "metadata": {
    "papermill": {
     "duration": 0.042189,
     "end_time": "2023-05-02T18:47:28.084909",
     "exception": false,
     "start_time": "2023-05-02T18:47:28.042720",
     "status": "completed"
    },
    "tags": []
   },
   "source": [
    "* England has the most number of players."
   ]
  },
  {
   "cell_type": "markdown",
   "id": "27a572e5",
   "metadata": {
    "papermill": {
     "duration": 0.044103,
     "end_time": "2023-05-02T18:47:28.172884",
     "exception": false,
     "start_time": "2023-05-02T18:47:28.128781",
     "status": "completed"
    },
    "tags": []
   },
   "source": [
    "* L. Messi has the highest salary in the world."
   ]
  },
  {
   "cell_type": "markdown",
   "id": "40d75b32",
   "metadata": {
    "papermill": {
     "duration": 0.042961,
     "end_time": "2023-05-02T18:47:28.259942",
     "exception": false,
     "start_time": "2023-05-02T18:47:28.216981",
     "status": "completed"
    },
    "tags": []
   },
   "source": [
    "* 97% of the players in the world have salary below than 50,000 eur."
   ]
  },
  {
   "cell_type": "markdown",
   "id": "6b2cdf45",
   "metadata": {
    "papermill": {
     "duration": 0.042968,
     "end_time": "2023-05-02T18:47:28.347351",
     "exception": false,
     "start_time": "2023-05-02T18:47:28.304383",
     "status": "completed"
    },
    "tags": []
   },
   "source": [
    "* T. Holý is the tallest player in the world."
   ]
  },
  {
   "cell_type": "markdown",
   "id": "d184f38a",
   "metadata": {
    "papermill": {
     "duration": 0.043521,
     "end_time": "2023-05-02T18:47:28.434667",
     "exception": false,
     "start_time": "2023-05-02T18:47:28.391146",
     "status": "completed"
    },
    "tags": []
   },
   "source": [
    "* Most of the players in the world have height between 175-185 cm."
   ]
  },
  {
   "cell_type": "markdown",
   "id": "4c880628",
   "metadata": {
    "papermill": {
     "duration": 0.043284,
     "end_time": "2023-05-02T18:47:28.520889",
     "exception": false,
     "start_time": "2023-05-02T18:47:28.477605",
     "status": "completed"
    },
    "tags": []
   },
   "source": [
    "* A. Akinfenwa is the heaviest player in the world."
   ]
  },
  {
   "cell_type": "markdown",
   "id": "2c3eebdc",
   "metadata": {
    "papermill": {
     "duration": 0.043567,
     "end_time": "2023-05-02T18:47:28.608455",
     "exception": false,
     "start_time": "2023-05-02T18:47:28.564888",
     "status": "completed"
    },
    "tags": []
   },
   "source": [
    "* Most of the players in the world have weight between 70-80 kg."
   ]
  },
  {
   "cell_type": "markdown",
   "id": "f751eca6",
   "metadata": {
    "papermill": {
     "duration": 0.043907,
     "end_time": "2023-05-02T18:47:28.696267",
     "exception": false,
     "start_time": "2023-05-02T18:47:28.652360",
     "status": "completed"
    },
    "tags": []
   },
   "source": [
    "* FC Barcelona is one of the club in the world who have the maximum number of players."
   ]
  },
  {
   "cell_type": "markdown",
   "id": "a8bad87c",
   "metadata": {
    "papermill": {
     "duration": 0.043215,
     "end_time": "2023-05-02T18:47:28.783213",
     "exception": false,
     "start_time": "2023-05-02T18:47:28.739998",
     "status": "completed"
    },
    "tags": []
   },
   "source": [
    "* 76% players preferred right foot as compared to left foot."
   ]
  },
  {
   "cell_type": "markdown",
   "id": "fa615247",
   "metadata": {
    "papermill": {
     "duration": 0.042857,
     "end_time": "2023-05-02T18:47:28.869943",
     "exception": false,
     "start_time": "2023-05-02T18:47:28.827086",
     "status": "completed"
    },
    "tags": []
   },
   "source": [
    "* Most of the players have 1 international reputation out of 5."
   ]
  },
  {
   "cell_type": "markdown",
   "id": "dce0ab24",
   "metadata": {
    "papermill": {
     "duration": 0.04209,
     "end_time": "2023-05-02T18:47:28.954646",
     "exception": false,
     "start_time": "2023-05-02T18:47:28.912556",
     "status": "completed"
    },
    "tags": []
   },
   "source": [
    "* L. Messi is the best dribbler in the world."
   ]
  },
  {
   "cell_type": "markdown",
   "id": "faa876f2",
   "metadata": {
    "papermill": {
     "duration": 0.043331,
     "end_time": "2023-05-02T18:47:29.042254",
     "exception": false,
     "start_time": "2023-05-02T18:47:28.998923",
     "status": "completed"
    },
    "tags": []
   },
   "source": [
    "* Cristiano Ronaldo is the best shooter in the world."
   ]
  },
  {
   "cell_type": "markdown",
   "id": "352c32e6",
   "metadata": {
    "papermill": {
     "duration": 0.043147,
     "end_time": "2023-05-02T18:47:29.129363",
     "exception": false,
     "start_time": "2023-05-02T18:47:29.086216",
     "status": "completed"
    },
    "tags": []
   },
   "source": [
    "* G. Chiellini is the best defender in the world."
   ]
  },
  {
   "cell_type": "markdown",
   "id": "b425af41",
   "metadata": {
    "papermill": {
     "duration": 0.043614,
     "end_time": "2023-05-02T18:47:29.216398",
     "exception": false,
     "start_time": "2023-05-02T18:47:29.172784",
     "status": "completed"
    },
    "tags": []
   },
   "source": [
    "* De Gea has the best reflexes in the world."
   ]
  },
  {
   "cell_type": "code",
   "execution_count": null,
   "id": "8c116434",
   "metadata": {
    "papermill": {
     "duration": 0.042893,
     "end_time": "2023-05-02T18:47:29.301624",
     "exception": false,
     "start_time": "2023-05-02T18:47:29.258731",
     "status": "completed"
    },
    "tags": []
   },
   "outputs": [],
   "source": []
  }
 ],
 "metadata": {
  "kernelspec": {
   "display_name": "Python 3 (ipykernel)",
   "language": "python",
   "name": "python3"
  },
  "language_info": {
   "codemirror_mode": {
    "name": "ipython",
    "version": 3
   },
   "file_extension": ".py",
   "mimetype": "text/x-python",
   "name": "python",
   "nbconvert_exporter": "python",
   "pygments_lexer": "ipython3",
   "version": "3.9.13"
  },
  "papermill": {
   "default_parameters": {},
   "duration": 26.2854,
   "end_time": "2023-05-02T18:47:30.067870",
   "environment_variables": {},
   "exception": null,
   "input_path": "__notebook__.ipynb",
   "output_path": "__notebook__.ipynb",
   "parameters": {},
   "start_time": "2023-05-02T18:47:03.782470",
   "version": "2.4.0"
  }
 },
 "nbformat": 4,
 "nbformat_minor": 5
}
